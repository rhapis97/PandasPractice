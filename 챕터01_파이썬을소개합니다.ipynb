{
 "cells": [
  {
   "cell_type": "code",
   "execution_count": 1,
   "metadata": {},
   "outputs": [
    {
     "name": "stdout",
     "output_type": "stream",
     "text": [
      "5\n",
      "-1\n",
      "6\n",
      "0.6666666666666666\n"
     ]
    }
   ],
   "source": [
    "print(2+3)\n",
    "print(2-3)\n",
    "print(2*3)\n",
    "print(2/3)"
   ]
  },
  {
   "cell_type": "code",
   "execution_count": 2,
   "metadata": {},
   "outputs": [
    {
     "name": "stdout",
     "output_type": "stream",
     "text": [
      "2315182\n"
     ]
    }
   ],
   "source": [
    "print(235*9876-5678)"
   ]
  },
  {
   "cell_type": "code",
   "execution_count": 3,
   "metadata": {},
   "outputs": [
    {
     "name": "stdout",
     "output_type": "stream",
     "text": [
      "15241578780673678515622620750190521\n"
     ]
    }
   ],
   "source": [
    "print(123456789123456789*123456789123456789)"
   ]
  },
  {
   "cell_type": "code",
   "execution_count": 4,
   "metadata": {},
   "outputs": [
    {
     "name": "stdout",
     "output_type": "stream",
     "text": [
      "반가워요반가워요반가워요반가워요반가워요반가워요반가워요반가워요반가워요반가워요반가워요반가워요반가워요반가워요반가워요반가워요반가워요반가워요반가워요반가워요\n"
     ]
    }
   ],
   "source": [
    "print(\"반가워요\"*20)"
   ]
  },
  {
   "cell_type": "code",
   "execution_count": 5,
   "metadata": {},
   "outputs": [
    {
     "name": "stdout",
     "output_type": "stream",
     "text": [
      "100200\n",
      "300\n"
     ]
    }
   ],
   "source": [
    "print(\"100\"+\"200\")\n",
    "print(100+200)"
   ]
  },
  {
   "cell_type": "code",
   "execution_count": 7,
   "metadata": {},
   "outputs": [],
   "source": [
    "import turtle\n",
    "t = turtle.Turtle()\n",
    "t.shape(\"turtle\")"
   ]
  },
  {
   "cell_type": "code",
   "execution_count": 8,
   "metadata": {},
   "outputs": [],
   "source": [
    "t.forward(100)"
   ]
  },
  {
   "cell_type": "code",
   "execution_count": 9,
   "metadata": {},
   "outputs": [],
   "source": [
    "t.left(90)        # 거북이 왼쪽으로 90도 만큼 회전\n",
    "t.forward(50)"
   ]
  },
  {
   "cell_type": "code",
   "execution_count": 1,
   "metadata": {},
   "outputs": [],
   "source": [
    "import turtle\n",
    "t = turtle.Turtle()\n",
    "t.shape(\"turtle\")\n",
    "\n",
    "t.forward(100)\n",
    "t.right(90)\n",
    "t.forward(100)\n",
    "t.right(90)\n",
    "t.forward(100)\n",
    "t.right(90)\n",
    "t.forward(100)"
   ]
  },
  {
   "cell_type": "code",
   "execution_count": 2,
   "metadata": {},
   "outputs": [],
   "source": [
    "import turtle\n",
    "t = turtle.Turtle()\n",
    "t.shape(\"turtle\")\n",
    "\n",
    "t.forward(100)\n",
    "t.left(120)\n",
    "t.forward(100)\n",
    "t.left(120)\n",
    "t.forward(100)"
   ]
  },
  {
   "cell_type": "code",
   "execution_count": 3,
   "metadata": {},
   "outputs": [
    {
     "name": "stdout",
     "output_type": "stream",
     "text": [
      "내가 제일 좋아하는 음식은 피자!\n",
      "피자피자피자피자피자피자피자피자피자피자\n",
      "얌얌얌얌얌얌얌얌얌얌얌얌얌얌얌얌얌얌얌얌\n"
     ]
    }
   ],
   "source": [
    "print(\"내가 제일 좋아하는 음식은 피자!\")\n",
    "print(\"피자\"*10)\n",
    "print(\"얌얌\"*10)"
   ]
  },
  {
   "cell_type": "code",
   "execution_count": 4,
   "metadata": {},
   "outputs": [
    {
     "name": "stdout",
     "output_type": "stream",
     "text": [
      "안녕\n"
     ]
    }
   ],
   "source": [
    "# 파이썬 프로그램\n",
    "print(\"안녕\")    # '안녕' 출력"
   ]
  },
  {
   "cell_type": "code",
   "execution_count": 5,
   "metadata": {},
   "outputs": [
    {
     "name": "stdout",
     "output_type": "stream",
     "text": [
      "파이파이파이파이파이파이파이파이파이파이\n"
     ]
    }
   ],
   "source": [
    "print(\"파이\"*10)    # 파이 10번 출력"
   ]
  },
  {
   "cell_type": "code",
   "execution_count": 6,
   "metadata": {},
   "outputs": [
    {
     "name": "stdout",
     "output_type": "stream",
     "text": [
      "프로그래밍 공부를 즐기셨으면 합니다.\n",
      "화이팅!화이팅!화이팅!화이팅!화이팅!\n"
     ]
    }
   ],
   "source": [
    "print(\"프로그래밍 공부를 즐기셨으면 합니다.\")\n",
    "# print(\"안녕!\"*3)\n",
    "print(\"화이팅!\"*5)"
   ]
  },
  {
   "cell_type": "code",
   "execution_count": 7,
   "metadata": {},
   "outputs": [
    {
     "ename": "NameError",
     "evalue": "name 'pront' is not defined",
     "output_type": "error",
     "traceback": [
      "\u001b[1;31m---------------------------------------------------------------------------\u001b[0m",
      "\u001b[1;31mNameError\u001b[0m                                 Traceback (most recent call last)",
      "\u001b[1;32m<ipython-input-7-cc9d3ceaf001>\u001b[0m in \u001b[0;36m<module>\u001b[1;34m\u001b[0m\n\u001b[1;32m----> 1\u001b[1;33m \u001b[0mpront\u001b[0m\u001b[1;33m(\u001b[0m\u001b[1;34m\"Hello World\"\u001b[0m\u001b[1;33m)\u001b[0m\u001b[1;33m\u001b[0m\u001b[1;33m\u001b[0m\u001b[0m\n\u001b[0m",
      "\u001b[1;31mNameError\u001b[0m: name 'pront' is not defined"
     ]
    }
   ],
   "source": [
    "pront(\"Hello World\")    # 철자가 틀림"
   ]
  },
  {
   "cell_type": "code",
   "execution_count": 8,
   "metadata": {},
   "outputs": [
    {
     "ename": "SyntaxError",
     "evalue": "invalid syntax (<ipython-input-8-c913c1dffb59>, line 1)",
     "output_type": "error",
     "traceback": [
      "\u001b[1;36m  File \u001b[1;32m\"<ipython-input-8-c913c1dffb59>\"\u001b[1;36m, line \u001b[1;32m1\u001b[0m\n\u001b[1;33m    1+\u001b[0m\n\u001b[1;37m      ^\u001b[0m\n\u001b[1;31mSyntaxError\u001b[0m\u001b[1;31m:\u001b[0m invalid syntax\n"
     ]
    }
   ],
   "source": [
    "1+    # 문법 틀림"
   ]
  },
  {
   "cell_type": "code",
   "execution_count": 9,
   "metadata": {},
   "outputs": [
    {
     "ename": "SyntaxError",
     "evalue": "invalid syntax (<ipython-input-9-3676b7c1f834>, line 1)",
     "output_type": "error",
     "traceback": [
      "\u001b[1;36m  File \u001b[1;32m\"<ipython-input-9-3676b7c1f834>\"\u001b[1;36m, line \u001b[1;32m1\u001b[0m\n\u001b[1;33m    3+*2\u001b[0m\n\u001b[1;37m      ^\u001b[0m\n\u001b[1;31mSyntaxError\u001b[0m\u001b[1;31m:\u001b[0m invalid syntax\n"
     ]
    }
   ],
   "source": [
    "3+*2    # 문법 틀림"
   ]
  },
  {
   "cell_type": "code",
   "execution_count": 10,
   "metadata": {},
   "outputs": [
    {
     "name": "stdout",
     "output_type": "stream",
     "text": [
      "안녕하세요? 파이썬에 오신 것을 환영합니다!\n",
      "프로그래밍 공부를 즐기셨으면 합니다.\n"
     ]
    },
    {
     "ename": "TypeError",
     "evalue": "can only concatenate str (not \"int\") to str",
     "output_type": "error",
     "traceback": [
      "\u001b[1;31m---------------------------------------------------------------------------\u001b[0m",
      "\u001b[1;31mTypeError\u001b[0m                                 Traceback (most recent call last)",
      "\u001b[1;32m<ipython-input-10-67e316bfd688>\u001b[0m in \u001b[0;36m<module>\u001b[1;34m\u001b[0m\n\u001b[0;32m      1\u001b[0m \u001b[0mprint\u001b[0m\u001b[1;33m(\u001b[0m\u001b[1;34m\"안녕하세요? 파이썬에 오신 것을 환영합니다!\"\u001b[0m\u001b[1;33m)\u001b[0m\u001b[1;33m\u001b[0m\u001b[1;33m\u001b[0m\u001b[0m\n\u001b[0;32m      2\u001b[0m \u001b[0mprint\u001b[0m\u001b[1;33m(\u001b[0m\u001b[1;34m\"프로그래밍 공부를 즐기셨으면 합니다.\"\u001b[0m\u001b[1;33m)\u001b[0m\u001b[1;33m\u001b[0m\u001b[1;33m\u001b[0m\u001b[0m\n\u001b[1;32m----> 3\u001b[1;33m \u001b[0mprint\u001b[0m\u001b[1;33m(\u001b[0m\u001b[1;34m\"안녕!\"\u001b[0m \u001b[1;33m+\u001b[0m \u001b[1;36m3\u001b[0m\u001b[1;33m)\u001b[0m    \u001b[1;31m# 안녕 3번 출력하려 합니다\u001b[0m\u001b[1;33m\u001b[0m\u001b[1;33m\u001b[0m\u001b[0m\n\u001b[0m",
      "\u001b[1;31mTypeError\u001b[0m: can only concatenate str (not \"int\") to str"
     ]
    }
   ],
   "source": [
    "print(\"안녕하세요? 파이썬에 오신 것을 환영합니다!\")\n",
    "print(\"프로그래밍 공부를 즐기셨으면 합니다.\")\n",
    "print(\"안녕!\" + 3)    # 안녕 3번 출력하려 합니다    # 문자열과 숫자는 +가 쓰일 수 없음. / 세 번 출력하려면 * 써야 함"
   ]
  },
  {
   "cell_type": "code",
   "execution_count": 11,
   "metadata": {},
   "outputs": [
    {
     "name": "stdout",
     "output_type": "stream",
     "text": [
      "안녕하세요? 파이썬에 오신 것을 환영합니다!\n",
      "프로그래밍 공부를 즐기셨으면 합니다.\n",
      "안녕!안녕!안녕!\n"
     ]
    }
   ],
   "source": [
    "print(\"안녕하세요? 파이썬에 오신 것을 환영합니다!\")\n",
    "print(\"프로그래밍 공부를 즐기셨으면 합니다.\")\n",
    "print(\"안녕!\" * 3)    # 안녕 3번 출력하려 합니다"
   ]
  },
  {
   "cell_type": "code",
   "execution_count": 12,
   "metadata": {},
   "outputs": [],
   "source": [
    "import turtle\n",
    "\n",
    "colors = ['red','purple','blue','green','yellow','orange']\n",
    "t = turtle.Turtle()\n",
    "\n",
    "turtle.bgcolor('black')    # 검정 배경\n",
    "t.speed(0)    # 제일 빠른 속도\n",
    "t.width(3)    # 선 굵기\n",
    "length = 10   # 선 길이\n",
    "\n",
    "while length < 500:\n",
    "    t.forward(length)\n",
    "    t.pencolor(colors[length%6])    # 길이를 6(색깔 리스트 원소 개수)으로 나눈 나머지 수에 해당하는 인덱스의 색깔을 선택\n",
    "    t.right(89)\n",
    "    length += 5                     # 선을 한 번 그을 때마다 선길이를 5씩 늘리기"
   ]
  },
  {
   "cell_type": "code",
   "execution_count": 13,
   "metadata": {},
   "outputs": [
    {
     "name": "stdout",
     "output_type": "stream",
     "text": [
      "시간순삭 파이썬\n",
      "9*8은 72입니다.\n"
     ]
    }
   ],
   "source": [
    "print(\"시간순삭 파이썬\")\n",
    "print(\"{}*{}은 {}입니다.\".format(9,8,9*8))"
   ]
  },
  {
   "cell_type": "code",
   "execution_count": 14,
   "metadata": {},
   "outputs": [
    {
     "name": "stdout",
     "output_type": "stream",
     "text": [
      "너무 반짝반짝 눈이 부셔 No No \n",
      "너무 깜짝깜짝 놀란 나는 Oh Oh \n",
      "너무 짜릿짜릿 몸이 떨려 Gee Gee \n"
     ]
    }
   ],
   "source": [
    "print(\"너무\",\"반짝\"*2,\"눈이 부셔\",\"No \"*2)\n",
    "print(\"너무\",\"깜짝\"*2,\"놀란 나는\",\"Oh \"*2)\n",
    "print(\"너무\",\"짜릿\"*2,\"몸이 떨려\",\"Gee \"*2)"
   ]
  },
  {
   "cell_type": "code",
   "execution_count": 15,
   "metadata": {},
   "outputs": [],
   "source": [
    "import turtle\n",
    "t = turtle.Turtle()\n",
    "t.shape(\"turtle\")\n",
    "\n",
    "t.circle(100)    # 반지름이 100인 원 그림"
   ]
  },
  {
   "cell_type": "code",
   "execution_count": 16,
   "metadata": {},
   "outputs": [],
   "source": [
    "import turtle\n",
    "t = turtle.Turtle()\n",
    "t.shape(\"turtle\")\n",
    "\n",
    "t.forward(100)\n",
    "t.left(60)        # 정육각형 각도 -> 360 / 6 = 60도\n",
    "t.forward(100)\n",
    "t.left(60)\n",
    "t.forward(100)\n",
    "t.left(60)\n",
    "t.forward(100)\n",
    "t.left(60)\n",
    "t.forward(100)\n",
    "t.left(60)\n",
    "t.forward(100)"
   ]
  },
  {
   "cell_type": "code",
   "execution_count": 1,
   "metadata": {},
   "outputs": [],
   "source": [
    "import turtle\n",
    "t = turtle.Turtle()\n",
    "t.shape(\"turtle\")\n",
    "\n",
    "t.width(10)    # 선 굵기\n",
    "\n",
    "t.forward(100)\n",
    "t.left(90)\n",
    "t.forward(100)"
   ]
  },
  {
   "cell_type": "code",
   "execution_count": 2,
   "metadata": {},
   "outputs": [],
   "source": [
    "import turtle\n",
    "t = turtle.Turtle()\n",
    "t.shape(\"turtle\")\n",
    "\n",
    "t.color(\"blue\")    # 선 색깔\n",
    "\n",
    "t.forward(100)\n",
    "t.left(90)\n",
    "t.forward(100)"
   ]
  },
  {
   "cell_type": "code",
   "execution_count": 3,
   "metadata": {},
   "outputs": [],
   "source": [
    "import turtle\n",
    "t = turtle.Turtle()\n",
    "t.shape(\"square\")    # 선 그리기 아이콘 모양\n",
    "\n",
    "t.forward(100)\n",
    "t.left(90)\n",
    "t.forward(100)"
   ]
  },
  {
   "cell_type": "code",
   "execution_count": 4,
   "metadata": {},
   "outputs": [],
   "source": [
    "import turtle\n",
    "t = turtle.Turtle()\n",
    "t.shape(\"turtle\")\n",
    "\n",
    "t.down()        # 펜을 내림\n",
    "t.goto(100,0)   # (100,0)까지 선 그리며 이동\n",
    "t.up()          # 펜을 올림\n",
    "t.goto(0,200)   # (0,200)까지 선 안 그리며 이동\n",
    "t.down()        # 펜을 내림\n",
    "t.goto(100,200) # (100,200)까지 선 그리며 이동"
   ]
  },
  {
   "cell_type": "markdown",
   "metadata": {},
   "source": [
    "### 1장 추가 연습문제"
   ]
  },
  {
   "cell_type": "code",
   "execution_count": 5,
   "metadata": {},
   "outputs": [
    {
     "name": "stdout",
     "output_type": "stream",
     "text": [
      "반갑습니다. 파이썬!\n",
      "0.6\n",
      "Hello World !!!\n"
     ]
    }
   ],
   "source": [
    "# 1. 다음 프로그램의 실행 결과를 쓰시오.\n",
    "\n",
    "print(\"반갑습니다. 파이썬!\")        # 반갑습니다. 파이썬!\n",
    "print(2*3/10)                       # 0.6\n",
    "print(\"Hello\",\"World\",\"!!!\")        # Hello World !!!"
   ]
  },
  {
   "cell_type": "code",
   "execution_count": 6,
   "metadata": {},
   "outputs": [
    {
     "name": "stdout",
     "output_type": "stream",
     "text": [
      "한 주는 168시간입니다.\n"
     ]
    }
   ],
   "source": [
    "# 2. 파이썬 쉘을 사용하여 한 주가 몇 시간에 해당하는지를 계산해보자. \n",
    "day_hours = 24\n",
    "week_days = 7\n",
    "print(\"한 주는 {}시간입니다.\".format(day_hours*week_days))"
   ]
  },
  {
   "cell_type": "code",
   "execution_count": 1,
   "metadata": {},
   "outputs": [],
   "source": [
    "# 3. 터틀 그래픽에서 거북이를 이동시켜서 다음과 같은 그림을 그려보자. forward()와 right (), left() 함수만을 사용한다.\n",
    "import turtle\n",
    "t = turtle.Turtle()\n",
    "t.shape(\"turtle\")\n",
    "\n",
    "t.forward(100)\n",
    "t.left(90)\n",
    "t.forward(100)\n",
    "t.right(90)\n",
    "t.forward(100)\n",
    "t.right(90)\n",
    "t.forward(100)\n",
    "t.left(90)\n",
    "t.forward(100)"
   ]
  },
  {
   "cell_type": "code",
   "execution_count": 2,
   "metadata": {},
   "outputs": [],
   "source": [
    "# 4. 터틀 그래픽에서 width() 함수를 호출하면 거북이가 그리는 선의 두께를 두껍게 한다. \n",
    "#    거북이를 이동하여서 다음과 같이 두께가 10인 선을 그려보자. \n",
    "import turtle\n",
    "t = turtle.Turtle()\n",
    "t.shape(\"turtle\")\n",
    "t.width(10)\n",
    "\n",
    "t.forward(100)\n",
    "t.left(90)\n",
    "t.forward(100)"
   ]
  },
  {
   "cell_type": "code",
   "execution_count": 3,
   "metadata": {},
   "outputs": [],
   "source": [
    "# 5. 터틀 그래픽에서 color() 함수를 호출하면 거북이가 그리는 선의 색상을 변경할 수 있다. \n",
    "#    색상을 파랑색으로 변경하여서 다음과 같이 길이가 100픽셀인 선을 그려보자. \n",
    "import turtle\n",
    "t = turtle.Turtle()\n",
    "t.shape(\"turtle\")\n",
    "t.color(\"blue\")\n",
    "\n",
    "t.forward(100)"
   ]
  },
  {
   "cell_type": "code",
   "execution_count": 4,
   "metadata": {},
   "outputs": [],
   "source": [
    "# 6. 터틀 그래픽에서는 거북이의 모양을 삼각형, 원, 삼각형, 사각형으로 변경할 수 있다. \n",
    "#    다음과 같이 shape() 함수를 사용하면 된다. 사각형으로 변경하고 100픽셀 길이의 직선을 그려보자.\n",
    "import turtle\n",
    "t = turtle.Turtle()\n",
    "t.shape(\"square\")\n",
    "\n",
    "t.forward(100)"
   ]
  },
  {
   "cell_type": "code",
   "execution_count": 5,
   "metadata": {},
   "outputs": [],
   "source": [
    "# 7. 터틀 그래픽에서 거북이가 이동할 때 선이 그려지지 않게 하려면 t.up()하여 펜을 들 수 있다. 반대로 t.down()은 펜을 내려놓는 명령어이다. \n",
    "#    거북이를 화면 좌표 (100, 200)으로 이동시키려면 t.goto(100, 200)을 호출한다. \n",
    "#    이들 명령어를 조합하여 다음과 같은 그림을 그려보자.\n",
    "import turtle\n",
    "t = turtle.Turtle()\n",
    "t.shape(\"turtle\")\n",
    "\n",
    "t.forward(100)\n",
    "t.penup()\n",
    "t.goto(0,200)\n",
    "t.pendown()\n",
    "t.forward(100)"
   ]
  }
 ],
 "metadata": {
  "kernelspec": {
   "display_name": "Python 3",
   "language": "python",
   "name": "python3"
  },
  "language_info": {
   "codemirror_mode": {
    "name": "ipython",
    "version": 3
   },
   "file_extension": ".py",
   "mimetype": "text/x-python",
   "name": "python",
   "nbconvert_exporter": "python",
   "pygments_lexer": "ipython3",
   "version": "3.8.5"
  },
  "vp": {
   "base_numbering": 1,
   "nav_menu": {},
   "number_sections": true,
   "sideBar": true,
   "title_cell": "VisualPython",
   "title_sidebar": "VisualPython",
   "vpPosition": {
    "height": "calc(100% - 180px)",
    "right": "10px",
    "top": "110px",
    "width": "50%"
   },
   "vp_cell": false,
   "vp_section_display": true,
   "vp_window_display": false
  }
 },
 "nbformat": 4,
 "nbformat_minor": 4
}
