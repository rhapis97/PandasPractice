{
 "cells": [
  {
   "cell_type": "code",
   "execution_count": 1,
   "metadata": {},
   "outputs": [
    {
     "name": "stdout",
     "output_type": "stream",
     "text": [
      "5\n"
     ]
    }
   ],
   "source": [
    "print(len(\"안녕하세요\"))"
   ]
  },
  {
   "cell_type": "code",
   "execution_count": 2,
   "metadata": {},
   "outputs": [
    {
     "name": "stdout",
     "output_type": "stream",
     "text": [
      "273\n",
      "<class 'int'>\n",
      "52.273\n",
      "<class 'float'>\n"
     ]
    }
   ],
   "source": [
    "print(273)\n",
    "print(type(273))\n",
    "print(52.273)\n",
    "print(type(52.273))"
   ]
  },
  {
   "cell_type": "code",
   "execution_count": 3,
   "metadata": {},
   "outputs": [
    {
     "name": "stdout",
     "output_type": "stream",
     "text": [
      "0\n",
      "<class 'int'>\n",
      "0.0\n",
      "<class 'float'>\n"
     ]
    }
   ],
   "source": [
    "print(0)\n",
    "print(type(0))\n",
    "print(0.0)\n",
    "print(type(0.0))\n",
    "# 0이냐 0.0이냐에 따라서도 정수형인지 시루형인지 달라진다."
   ]
  },
  {
   "cell_type": "code",
   "execution_count": 4,
   "metadata": {},
   "outputs": [
    {
     "name": "stdout",
     "output_type": "stream",
     "text": [
      "5 + 7 =  12\n",
      "5 - 7 =  -2\n",
      "5 * 7 =  35\n",
      "5 / 7 =  0.7142857142857143\n"
     ]
    }
   ],
   "source": [
    "print(\"5 + 7 = \", 5+7)\n",
    "print(\"5 - 7 = \", 5-7)\n",
    "print(\"5 * 7 = \", 5*7)\n",
    "print(\"5 / 7 = \", 5/7)"
   ]
  },
  {
   "cell_type": "code",
   "execution_count": 5,
   "metadata": {},
   "outputs": [
    {
     "name": "stdout",
     "output_type": "stream",
     "text": [
      "3 / 2 =  1.5\n",
      "3 // 2 =  1\n"
     ]
    }
   ],
   "source": [
    "print(\"3 / 2 = \", 3/2)\n",
    "print(\"3 // 2 = \", 3//2) # //는 몫"
   ]
  },
  {
   "cell_type": "code",
   "execution_count": 6,
   "metadata": {},
   "outputs": [
    {
     "name": "stdout",
     "output_type": "stream",
     "text": [
      "5 % 2 =  1\n"
     ]
    }
   ],
   "source": [
    "print(\"5 % 2 = \", 5%2)   # %는 나머지"
   ]
  },
  {
   "cell_type": "code",
   "execution_count": 7,
   "metadata": {},
   "outputs": [
    {
     "name": "stdout",
     "output_type": "stream",
     "text": [
      "2 ** 1 =  2\n",
      "2 ** 2 =  4\n",
      "2 ** 3 =  8\n",
      "2 ** 4 =  16\n"
     ]
    }
   ],
   "source": [
    "print(\"2 ** 1 = \", 2**1) # **는 제곱\n",
    "print(\"2 ** 2 = \", 2**2)\n",
    "print(\"2 ** 3 = \", 2**3)\n",
    "print(\"2 ** 4 = \", 2**4)"
   ]
  },
  {
   "cell_type": "code",
   "execution_count": 8,
   "metadata": {},
   "outputs": [
    {
     "name": "stdout",
     "output_type": "stream",
     "text": [
      "0.0\n",
      "4.0\n"
     ]
    }
   ],
   "source": [
    "print(2 + 2 - 2 * 2 / 2 * 2)\n",
    "print(2 - 2 + 2 / 2 * 2 + 2)"
   ]
  },
  {
   "cell_type": "code",
   "execution_count": 10,
   "metadata": {},
   "outputs": [
    {
     "name": "stdout",
     "output_type": "stream",
     "text": [
      "16\n",
      "11\n"
     ]
    }
   ],
   "source": [
    "print((5 + 3) * 2)\n",
    "print(5 + (3 * 2))"
   ]
  },
  {
   "cell_type": "code",
   "execution_count": 11,
   "metadata": {},
   "outputs": [
    {
     "ename": "TypeError",
     "evalue": "can only concatenate str (not \"int\") to str",
     "output_type": "error",
     "traceback": [
      "\u001b[1;31m---------------------------------------------------------------------------\u001b[0m",
      "\u001b[1;31mTypeError\u001b[0m                                 Traceback (most recent call last)",
      "\u001b[1;32m<ipython-input-11-50811dcd25e8>\u001b[0m in \u001b[0;36m<module>\u001b[1;34m\u001b[0m\n\u001b[0;32m      1\u001b[0m \u001b[0mstring\u001b[0m \u001b[1;33m=\u001b[0m \u001b[1;34m\"문자열\"\u001b[0m\u001b[1;33m\u001b[0m\u001b[1;33m\u001b[0m\u001b[0m\n\u001b[0;32m      2\u001b[0m \u001b[0mnumber\u001b[0m \u001b[1;33m=\u001b[0m \u001b[1;36m273\u001b[0m\u001b[1;33m\u001b[0m\u001b[1;33m\u001b[0m\u001b[0m\n\u001b[1;32m----> 3\u001b[1;33m \u001b[0mstring\u001b[0m \u001b[1;33m+\u001b[0m \u001b[0mnumber\u001b[0m\u001b[1;33m\u001b[0m\u001b[1;33m\u001b[0m\u001b[0m\n\u001b[0m",
      "\u001b[1;31mTypeError\u001b[0m: can only concatenate str (not \"int\") to str"
     ]
    }
   ],
   "source": [
    "string = \"문자열\"\n",
    "number = 273\n",
    "string + number\n",
    "# 서로 다른 타입이면 결합시킬 수 없다. 타입에러 발생"
   ]
  },
  {
   "cell_type": "code",
   "execution_count": 12,
   "metadata": {},
   "outputs": [
    {
     "name": "stdout",
     "output_type": "stream",
     "text": [
      "안녕하세요하세요하세요\n"
     ]
    }
   ],
   "source": [
    "print(\"안녕\"+\"하세요\"*3)"
   ]
  },
  {
   "cell_type": "code",
   "execution_count": 13,
   "metadata": {},
   "outputs": [
    {
     "name": "stdout",
     "output_type": "stream",
     "text": [
      "안녕하세요안녕하세요안녕하세요\n"
     ]
    }
   ],
   "source": [
    "print((\"안녕\"+\"하세요\")*3)"
   ]
  },
  {
   "cell_type": "code",
   "execution_count": 14,
   "metadata": {},
   "outputs": [
    {
     "name": "stdout",
     "output_type": "stream",
     "text": [
      "안녕하세요하세요하세요\n"
     ]
    }
   ],
   "source": [
    "print(\"안녕\"+(\"하세요\"*3))"
   ]
  },
  {
   "cell_type": "code",
   "execution_count": 16,
   "metadata": {},
   "outputs": [
    {
     "name": "stdout",
     "output_type": "stream",
     "text": [
      "3.14159265\n"
     ]
    }
   ],
   "source": [
    "pi = 3.14159265\n",
    "print(pi)"
   ]
  },
  {
   "cell_type": "code",
   "execution_count": 27,
   "metadata": {},
   "outputs": [
    {
     "name": "stdout",
     "output_type": "stream",
     "text": [
      "5.14159265\n",
      "1.1415926500000002\n",
      "6.2831853\n",
      "1.570796325\n",
      "1.1415926500000002\n",
      "9.869604378534024\n"
     ]
    }
   ],
   "source": [
    "print(pi+2)\n",
    "print(pi-2)\n",
    "print(pi*2)\n",
    "print(pi/2)\n",
    "print(pi%2)\n",
    "print(pi*pi)"
   ]
  },
  {
   "cell_type": "code",
   "execution_count": 28,
   "metadata": {},
   "outputs": [
    {
     "name": "stdout",
     "output_type": "stream",
     "text": [
      "원주율 = 3.14159265\n",
      "반지름 = 10\n",
      "원의 둘레 = 62.831853\n",
      "원의 넓이 = 314.159265\n"
     ]
    }
   ],
   "source": [
    "# 변수 선언과 할당\n",
    "pi = 3.14159265\n",
    "r = 10\n",
    "\n",
    "# 변수 참조\n",
    "print(\"원주율 =\", pi)\n",
    "print(\"반지름 =\", r)\n",
    "print(\"원의 둘레 =\", 2*pi*r)\n",
    "print(\"원의 넓이 =\", pi*r*r)"
   ]
  },
  {
   "cell_type": "code",
   "execution_count": 30,
   "metadata": {},
   "outputs": [
    {
     "name": "stdout",
     "output_type": "stream",
     "text": [
      "number = 160\n"
     ]
    }
   ],
   "source": [
    "num = 100\n",
    "num += 10\n",
    "num += 20\n",
    "num += 30\n",
    "print(\"number =\", num)"
   ]
  },
  {
   "cell_type": "code",
   "execution_count": 31,
   "metadata": {},
   "outputs": [
    {
     "name": "stdout",
     "output_type": "stream",
     "text": [
      "string = 안녕하세요!!\n"
     ]
    }
   ],
   "source": [
    "str = \"안녕하세요\"\n",
    "str += \"!\"\n",
    "str += \"!\"\n",
    "print(\"string =\", str)"
   ]
  },
  {
   "cell_type": "code",
   "execution_count": 32,
   "metadata": {},
   "outputs": [
    {
     "name": "stdout",
     "output_type": "stream",
     "text": [
      "인사말을 입력하세요> 안녕하세요\n"
     ]
    },
    {
     "data": {
      "text/plain": [
       "'안녕하세요'"
      ]
     },
     "execution_count": 32,
     "metadata": {},
     "output_type": "execute_result"
    }
   ],
   "source": [
    "input(\"인사말을 입력하세요> \")"
   ]
  },
  {
   "cell_type": "code",
   "execution_count": 33,
   "metadata": {},
   "outputs": [
    {
     "name": "stdout",
     "output_type": "stream",
     "text": [
      "인사말을 입력하세요> 안녕하세요\n",
      "안녕하세요\n"
     ]
    }
   ],
   "source": [
    "str = input(\"인사말을 입력하세요> \")\n",
    "print(str)"
   ]
  },
  {
   "cell_type": "code",
   "execution_count": 34,
   "metadata": {},
   "outputs": [
    {
     "name": "stdout",
     "output_type": "stream",
     "text": [
      "<class 'str'>\n"
     ]
    }
   ],
   "source": [
    "print(type(str))"
   ]
  },
  {
   "cell_type": "code",
   "execution_count": 35,
   "metadata": {},
   "outputs": [
    {
     "name": "stdout",
     "output_type": "stream",
     "text": [
      "숫자를 입력하세요> 50\n",
      "50\n"
     ]
    }
   ],
   "source": [
    "num = input(\"숫자를 입력하세요> \")\n",
    "print(num)"
   ]
  },
  {
   "cell_type": "code",
   "execution_count": 36,
   "metadata": {},
   "outputs": [
    {
     "name": "stdout",
     "output_type": "stream",
     "text": [
      "<class 'str'>\n"
     ]
    }
   ],
   "source": [
    "print(type(num)) # input은 무조건 문자열 자료형!"
   ]
  },
  {
   "cell_type": "code",
   "execution_count": 37,
   "metadata": {},
   "outputs": [
    {
     "name": "stdout",
     "output_type": "stream",
     "text": [
      "A숫자 입력> 23\n",
      "B숫자 입력> 41\n",
      "문자열 자료: 2341\n",
      "숫자 자료: 64\n"
     ]
    }
   ],
   "source": [
    "str_a = input(\"A숫자 입력> \")\n",
    "int_a = int(str_a)\n",
    "str_b = input(\"B숫자 입력> \")\n",
    "int_b = int(str_b)\n",
    "\n",
    "print(\"문자열 자료:\", str_a + str_b)\n",
    "print(\"숫자 자료:\", int_a + int_b)\n",
    "\n",
    "# input은 문자열 자료형이기 때문에 숫자 계산 위해서는 숫자로 변환해야 함\n",
    "\n",
    "# 정수는 int()\n",
    "# 실수는 float() 으로 변환한다."
   ]
  },
  {
   "cell_type": "code",
   "execution_count": 38,
   "metadata": {},
   "outputs": [
    {
     "name": "stdout",
     "output_type": "stream",
     "text": [
      "<class 'int'> 52\n",
      "<class 'float'> 52.273\n"
     ]
    }
   ],
   "source": [
    "output_a = int(\"52\")\n",
    "output_b = float(\"52.273\")\n",
    "\n",
    "print(type(output_a), output_a)\n",
    "print(type(output_b), output_b)"
   ]
  },
  {
   "cell_type": "code",
   "execution_count": 39,
   "metadata": {},
   "outputs": [
    {
     "name": "stdout",
     "output_type": "stream",
     "text": [
      "첫 번째 숫자> 273\n",
      "두 번째 숫자> 52\n",
      "덧셈:  325.0\n",
      "뺄셈:  221.0\n",
      "곱셈:  14196.0\n",
      "나눗셈:  5.25\n"
     ]
    }
   ],
   "source": [
    "input_a = float(input(\"첫 번째 숫자> \"))\n",
    "input_b = float(input(\"두 번째 숫자> \"))\n",
    "\n",
    "print(\"덧셈: \", input_a + input_b)\n",
    "print(\"뺄셈: \", input_a - input_b)\n",
    "print(\"곱셈: \", input_a * input_b)\n",
    "print(\"나눗셈: \", input_a / input_b)"
   ]
  },
  {
   "cell_type": "code",
   "execution_count": 1,
   "metadata": {},
   "outputs": [
    {
     "name": "stdout",
     "output_type": "stream",
     "text": [
      "<class 'str'> 52\n",
      "<class 'str'> 52.273\n"
     ]
    }
   ],
   "source": [
    "output_a = str(52)\n",
    "output_b = str(52.273)\n",
    "print(type(output_a), output_a)\n",
    "print(type(output_b), output_b)\n",
    "\n",
    "# vs code에서 돌리면 에러가 나지 않는데\n",
    "# 주피터에서 돌리면 에러가 발생한다. 정말 이상하다.ㅇㅅㅇ\n",
    "# 다음날 해보니까 오류가 안 난다. 이상하다. ㅇ0ㅇ"
   ]
  },
  {
   "cell_type": "code",
   "execution_count": 52,
   "metadata": {},
   "outputs": [
    {
     "name": "stdout",
     "output_type": "stream",
     "text": [
      "문자열 입력> 안녕하세요\n",
      "문자열 입력> 아침입니다\n",
      "안녕하세요 아침입니다\n",
      "아침입니다 안녕하세요\n"
     ]
    }
   ],
   "source": [
    "a = input(\"문자열 입력> \")\n",
    "b = input(\"문자열 입력> \")\n",
    "\n",
    "print(a,b)\n",
    "c = a\n",
    "a = b\n",
    "b = c\n",
    "print(a,b)\n",
    "\n",
    "# 교재 91페이지 스왑 문제를 풀어 보았다."
   ]
  },
  {
   "cell_type": "code",
   "execution_count": 53,
   "metadata": {},
   "outputs": [
    {
     "name": "stdout",
     "output_type": "stream",
     "text": [
      "10\n",
      "<class 'str'>\n"
     ]
    }
   ],
   "source": [
    "# format() 함수로 숫자를 문자열로 변환하기\n",
    "# 숫자가 문자열이 된다.\n",
    "str_a = \"{}\".format(10)\n",
    "\n",
    "# 출력하기\n",
    "print(str_a)\n",
    "print(type(str_a))"
   ]
  },
  {
   "cell_type": "code",
   "execution_count": 55,
   "metadata": {},
   "outputs": [
    {
     "name": "stdout",
     "output_type": "stream",
     "text": [
      "5000만 원\n",
      "파이썬 열공하여 첫 연봉 5000만 원 만들기\n",
      "3000 4000 5000\n",
      "1 문자열 True\n"
     ]
    }
   ],
   "source": [
    "# format() 함수로 숫자를 문자열로 변환하기\n",
    "format_a = \"{}만 원\".format(5000)\n",
    "format_b = \"파이썬 열공하여 첫 연봉 {}만 원 만들기\".format(5000)\n",
    "format_c = \"{} {} {}\".format(3000, 4000, 5000)\n",
    "format_d = \"{} {} {}\".format(1, \"문자열\", True)\n",
    "\n",
    "# 출력하기\n",
    "print(format_a)\n",
    "print(format_b)\n",
    "print(format_c)\n",
    "print(format_d)"
   ]
  },
  {
   "cell_type": "code",
   "execution_count": 57,
   "metadata": {},
   "outputs": [
    {
     "name": "stdout",
     "output_type": "stream",
     "text": [
      "# 기본\n",
      "52\n",
      "# 특정 칸에 출력하기\n",
      "   52\n",
      "        52\n",
      "# 빈칸을 0으로 채우기\n",
      "00052\n",
      "-0052\n"
     ]
    }
   ],
   "source": [
    "# 정수\n",
    "output_a = \"{:d}\".format(52)\n",
    "\n",
    "# 특정 칸에 출력하기\n",
    "output_b = \"{:5d}\".format(52) # 5칸\n",
    "output_c = \"{:10d}\".format(52) # 10칸\n",
    "\n",
    "# 빈칸을 0으로 채우기\n",
    "output_d = \"{:05d}\".format(52) # 양수\n",
    "output_e = \"{:05d}\".format(-52) # 음수\n",
    "\n",
    "print(\"# 기본\")\n",
    "print(output_a)\n",
    "print(\"# 특정 칸에 출력하기\")\n",
    "print(output_b)\n",
    "print(output_c)\n",
    "print(\"# 빈칸을 0으로 채우기\")\n",
    "print(output_d)\n",
    "print(output_e)"
   ]
  },
  {
   "cell_type": "code",
   "execution_count": 59,
   "metadata": {},
   "outputs": [
    {
     "name": "stdout",
     "output_type": "stream",
     "text": [
      "# 기호와 함께 출력하기\n",
      "+52\n",
      "-52\n",
      " 52\n",
      "-52\n"
     ]
    }
   ],
   "source": [
    "# 기호와 함께 출력하기\n",
    "output_f = \"{:+d}\".format(52)\n",
    "output_g = \"{:+d}\".format(-52)\n",
    "output_h = \"{: d}\".format(52)\n",
    "output_i = \"{: d}\".format(-52)\n",
    "\n",
    "print(\"# 기호와 함께 출력하기\")\n",
    "print(output_f)\n",
    "print(output_g)\n",
    "print(output_h)\n",
    "print(output_i)"
   ]
  },
  {
   "cell_type": "code",
   "execution_count": 60,
   "metadata": {},
   "outputs": [
    {
     "name": "stdout",
     "output_type": "stream",
     "text": [
      "# 조합하기\n",
      "  +52\n",
      "  -52\n",
      "+  52\n",
      "-  52\n",
      "+0052\n",
      "-0052\n"
     ]
    }
   ],
   "source": [
    "# 조합하기\n",
    "output_h = \"{:+5d}\".format(52)\n",
    "output_i = \"{:+5d}\".format(-52)\n",
    "output_j = \"{:=+5d}\".format(52)     # = -> 기호 앞으로 보내기\n",
    "output_k = \"{:=+5d}\".format(-52)\n",
    "output_l = \"{:=+05d}\".format(52)\n",
    "output_m = \"{:=+05d}\".format(-52)\n",
    "\n",
    "print(\"# 조합하기\")\n",
    "print(output_h)\n",
    "print(output_i)\n",
    "print(output_j)\n",
    "print(output_k)\n",
    "print(output_l)\n",
    "print(output_m)"
   ]
  },
  {
   "cell_type": "code",
   "execution_count": 62,
   "metadata": {},
   "outputs": [
    {
     "name": "stdout",
     "output_type": "stream",
     "text": [
      "52.273000\n",
      "      52.273000\n",
      "     +52.273000\n",
      "+0000052.273000\n"
     ]
    }
   ],
   "source": [
    "output_a =\"{:f}\".format(52.273)\n",
    "output_b =\"{:15f}\".format(52.273)\n",
    "output_c =\"{:+15f}\".format(52.273)\n",
    "output_d =\"{:+015f}\".format(52.273)  # 부호와 소수점도 자리를 차지한다\n",
    "\n",
    "print(output_a)\n",
    "print(output_b)\n",
    "print(output_c)\n",
    "print(output_d)"
   ]
  },
  {
   "cell_type": "markdown",
   "metadata": {},
   "source": [
    "소수점 아래 자릿수 지정하기"
   ]
  },
  {
   "cell_type": "code",
   "execution_count": 63,
   "metadata": {},
   "outputs": [
    {
     "name": "stdout",
     "output_type": "stream",
     "text": [
      "         52.273\n",
      "          52.27\n",
      "           52.3\n"
     ]
    }
   ],
   "source": [
    "output_a = \"{:15.3f}\".format(52.273)\n",
    "output_b = \"{:15.2f}\".format(52.273)\n",
    "output_c = \"{:15.1f}\".format(52.273)\n",
    "\n",
    "print(output_a)\n",
    "print(output_b)\n",
    "print(output_c)"
   ]
  },
  {
   "cell_type": "code",
   "execution_count": 65,
   "metadata": {},
   "outputs": [
    {
     "name": "stdout",
     "output_type": "stream",
     "text": [
      "52.0\n",
      "52\n"
     ]
    }
   ],
   "source": [
    "output_a = 52.0\n",
    "output_b = \"{:g}\".format(output_a)\n",
    "print(output_a)\n",
    "print(output_b)"
   ]
  },
  {
   "cell_type": "code",
   "execution_count": 69,
   "metadata": {},
   "outputs": [
    {
     "name": "stdout",
     "output_type": "stream",
     "text": [
      "HELLO PYTHON PROGRAMMING!\n",
      "hello python programming!\n"
     ]
    }
   ],
   "source": [
    "a = \"Hello Python Programming!\"\n",
    "print(a.upper())\n",
    "print(a.lower())"
   ]
  },
  {
   "cell_type": "code",
   "execution_count": 70,
   "metadata": {},
   "outputs": [
    {
     "name": "stdout",
     "output_type": "stream",
     "text": [
      "\n",
      "    안녕하세요\n",
      "문자열의 함수를 알아봅시다.\n",
      "\n"
     ]
    }
   ],
   "source": [
    "input_a = \"\"\"\n",
    "    안녕하세요\n",
    "문자열의 함수를 알아봅시다.\n",
    "\"\"\"\n",
    "print(input_a)"
   ]
  },
  {
   "cell_type": "code",
   "execution_count": 72,
   "metadata": {},
   "outputs": [
    {
     "name": "stdout",
     "output_type": "stream",
     "text": [
      "안녕하세요\n",
      "문자열의 함수를 알아봅시다.\n"
     ]
    }
   ],
   "source": [
    "print(input_a.strip())"
   ]
  },
  {
   "cell_type": "code",
   "execution_count": 73,
   "metadata": {},
   "outputs": [
    {
     "name": "stdout",
     "output_type": "stream",
     "text": [
      "안녕하세요\n",
      "문자열의 함수를 알아봅시다.\n",
      "\n"
     ]
    }
   ],
   "source": [
    "print(input_a.lstrip())"
   ]
  },
  {
   "cell_type": "code",
   "execution_count": 74,
   "metadata": {},
   "outputs": [
    {
     "name": "stdout",
     "output_type": "stream",
     "text": [
      "\n",
      "    안녕하세요\n",
      "문자열의 함수를 알아봅시다.\n"
     ]
    }
   ],
   "source": [
    "print(input_a.rstrip())"
   ]
  },
  {
   "cell_type": "code",
   "execution_count": 79,
   "metadata": {},
   "outputs": [
    {
     "name": "stdout",
     "output_type": "stream",
     "text": [
      "True\n",
      "True\n",
      "True\n",
      "<class 'str'>\n"
     ]
    }
   ],
   "source": [
    "print(\"TrainA10\".isalnum()) # 알파벳이나 숫자인가?\n",
    "print(\"10\".isdigit()) # 숫자인가?\n",
    "a = \"10\"\n",
    "print(a.isdigit())\n",
    "print(type(a)) # 숫자인지 알아보는 것과 자료형은 별개인듯"
   ]
  },
  {
   "cell_type": "code",
   "execution_count": 80,
   "metadata": {},
   "outputs": [
    {
     "name": "stdout",
     "output_type": "stream",
     "text": [
      "0\n"
     ]
    }
   ],
   "source": [
    "output_a = \"안녕안녕하세요\".find(\"안녕\")\n",
    "print(output_a)"
   ]
  },
  {
   "cell_type": "code",
   "execution_count": 81,
   "metadata": {},
   "outputs": [
    {
     "name": "stdout",
     "output_type": "stream",
     "text": [
      "2\n"
     ]
    }
   ],
   "source": [
    "output_b = \"안녕안녕하세요\".rfind(\"안녕\")\n",
    "print(output_b)"
   ]
  },
  {
   "cell_type": "code",
   "execution_count": 83,
   "metadata": {},
   "outputs": [
    {
     "name": "stdout",
     "output_type": "stream",
     "text": [
      "True\n",
      "False\n"
     ]
    }
   ],
   "source": [
    "print(\"안녕\" in \"안녕하세요\")\n",
    "print(\"잘자\" in \"안녕하세요\")"
   ]
  },
  {
   "cell_type": "code",
   "execution_count": 84,
   "metadata": {},
   "outputs": [
    {
     "name": "stdout",
     "output_type": "stream",
     "text": [
      "['10', '20', '30', '40', '50']\n"
     ]
    }
   ],
   "source": [
    "a = \"10 20 30 40 50\".split()\n",
    "print(a)\n",
    "# 문자열 자르기 split() -> 실행 결과가 리스트로 나온다"
   ]
  },
  {
   "cell_type": "code",
   "execution_count": 93,
   "metadata": {},
   "outputs": [
    {
     "name": "stdout",
     "output_type": "stream",
     "text": [
      "> 1번째 숫자: 100\n",
      "> 2번째 숫자: 200\n",
      "\n",
      "300\n",
      "100 + 200 = 300\n"
     ]
    }
   ],
   "source": [
    "a = input(\"> 1번째 숫자: \")\n",
    "b = input(\"> 2번째 숫자: \")\n",
    "print()\n",
    "print(\"{} + {} = {}\".format(a, b, int(a)+int(b)))\n",
    "# input은 무조건 문자열이기 때문에 숫자 계산하려면 숫자로 변환해야!\n",
    "# 교재 105쪽 3번 문제"
   ]
  },
  {
   "cell_type": "code",
   "execution_count": 94,
   "metadata": {},
   "outputs": [
    {
     "name": "stdout",
     "output_type": "stream",
     "text": [
      "A 지점: hello\n",
      "B 지점: HELLO\n"
     ]
    }
   ],
   "source": [
    "string = \"hello\"\n",
    "\n",
    "# string.upper()를 실행하고, string 출력하기\n",
    "string.upper()\n",
    "print(\"A 지점:\", string)\n",
    "\n",
    "# string.upper() 실행하기\n",
    "print(\"B 지점:\", string.upper())"
   ]
  },
  {
   "cell_type": "code",
   "execution_count": 95,
   "metadata": {},
   "outputs": [
    {
     "name": "stdout",
     "output_type": "stream",
     "text": [
      "True\n",
      "False\n"
     ]
    }
   ],
   "source": [
    "print(True)\n",
    "print(False)"
   ]
  },
  {
   "cell_type": "code",
   "execution_count": 96,
   "metadata": {},
   "outputs": [
    {
     "name": "stdout",
     "output_type": "stream",
     "text": [
      "False\n",
      "True\n",
      "True\n",
      "False\n",
      "True\n",
      "False\n"
     ]
    }
   ],
   "source": [
    "print(10 == 100) # F\n",
    "print(10 != 100) # T\n",
    "print(10 < 100)  # T\n",
    "print(10 > 100)  # F\n",
    "print(10 <= 100) # T\n",
    "print(10 >= 100) # F"
   ]
  },
  {
   "cell_type": "code",
   "execution_count": 97,
   "metadata": {},
   "outputs": [
    {
     "name": "stdout",
     "output_type": "stream",
     "text": [
      "True\n",
      "True\n",
      "True\n",
      "False\n"
     ]
    }
   ],
   "source": [
    "print(\"가방\" == \"가방\")\n",
    "print(\"가방\" != \"하마\")\n",
    "print(\"가방\" < \"하마\")\n",
    "print(\"가방\" > \"하마\")"
   ]
  },
  {
   "cell_type": "code",
   "execution_count": 98,
   "metadata": {},
   "outputs": [
    {
     "name": "stdout",
     "output_type": "stream",
     "text": [
      "True\n",
      "False\n"
     ]
    }
   ],
   "source": [
    "x = 25\n",
    "print(10 < x < 30)\n",
    "print(40 < x < 60)"
   ]
  },
  {
   "cell_type": "code",
   "execution_count": 99,
   "metadata": {},
   "outputs": [
    {
     "name": "stdout",
     "output_type": "stream",
     "text": [
      "False\n",
      "True\n"
     ]
    }
   ],
   "source": [
    "print(not True)\n",
    "print(not False)"
   ]
  },
  {
   "cell_type": "code",
   "execution_count": 101,
   "metadata": {},
   "outputs": [
    {
     "name": "stdout",
     "output_type": "stream",
     "text": [
      "under_20: True\n",
      "not under_20: False\n"
     ]
    }
   ],
   "source": [
    "x = 10\n",
    "under_20 = x < 20  # True\n",
    "print(\"under_20:\", under_20)\n",
    "print(\"not under_20:\", not under_20)"
   ]
  },
  {
   "cell_type": "code",
   "execution_count": 102,
   "metadata": {},
   "outputs": [
    {
     "name": "stdout",
     "output_type": "stream",
     "text": [
      "True\n",
      "False\n",
      "False\n"
     ]
    }
   ],
   "source": [
    "print(True and True)\n",
    "print(True and False)\n",
    "print(False and False)"
   ]
  },
  {
   "cell_type": "code",
   "execution_count": 103,
   "metadata": {},
   "outputs": [
    {
     "name": "stdout",
     "output_type": "stream",
     "text": [
      "True\n",
      "True\n",
      "False\n"
     ]
    }
   ],
   "source": [
    "print(True or True)\n",
    "print(True or False)\n",
    "print(False or False)"
   ]
  },
  {
   "cell_type": "code",
   "execution_count": 104,
   "metadata": {},
   "outputs": [
    {
     "name": "stdout",
     "output_type": "stream",
     "text": [
      "True입니다\n",
      "정말 참 트루\n"
     ]
    }
   ],
   "source": [
    "if True:\n",
    "    print(\"True입니다\")\n",
    "    print(\"정말 참 트루\")"
   ]
  },
  {
   "cell_type": "code",
   "execution_count": 105,
   "metadata": {},
   "outputs": [],
   "source": [
    "if False:\n",
    "    print(\"False임\")\n",
    "# False이면 값이 아예 안 나옴\n",
    "# True일때만 나온다!!"
   ]
  },
  {
   "cell_type": "code",
   "execution_count": 109,
   "metadata": {},
   "outputs": [
    {
     "name": "stdout",
     "output_type": "stream",
     "text": [
      "정수 입력0\n",
      "0이다\n"
     ]
    }
   ],
   "source": [
    "# 입력을 받습니다.\n",
    "num = input(\"정수 입력\")\n",
    "num = int(num)\n",
    "\n",
    "# 양수 조건\n",
    "if num > 0:\n",
    "    print(\"양수임\")\n",
    "\n",
    "# 음수 조건\n",
    "if num < 0:\n",
    "    print(\"음수임\")\n",
    "\n",
    "# 0 조건\n",
    "if num == 0:\n",
    "    print(\"0이다\")"
   ]
  },
  {
   "cell_type": "markdown",
   "metadata": {},
   "source": [
    "날짜/시간 출력하기"
   ]
  },
  {
   "cell_type": "code",
   "execution_count": 110,
   "metadata": {},
   "outputs": [
    {
     "name": "stdout",
     "output_type": "stream",
     "text": [
      "2021 년\n",
      "4 월\n",
      "2 일\n",
      "0 시\n",
      "16 분\n",
      "38 초\n"
     ]
    }
   ],
   "source": [
    "# 날짜/시간과 관련된 기능을 가져옵니다.\n",
    "import datetime\n",
    "\n",
    "# 현재 날짜/시간을 구합니다.\n",
    "now = datetime.datetime.now()\n",
    "\n",
    "# 출력합니다.\n",
    "print(now.year, \"년\")\n",
    "print(now.month, \"월\")\n",
    "print(now.day, \"일\")\n",
    "print(now.hour, \"시\")\n",
    "print(now.minute, \"분\")\n",
    "print(now.second, \"초\")"
   ]
  },
  {
   "cell_type": "code",
   "execution_count": 113,
   "metadata": {},
   "outputs": [
    {
     "name": "stdout",
     "output_type": "stream",
     "text": [
      "2021년 4월 2일 0시 16분 38초\n"
     ]
    }
   ],
   "source": [
    "print(\"{}년 {}월 {}일 {}시 {}분 {}초\".format(\n",
    "    now.year,\n",
    "    now.month,\n",
    "    now.day,\n",
    "    now.hour,\n",
    "    now.minute,\n",
    "    now.second\n",
    "))"
   ]
  },
  {
   "cell_type": "code",
   "execution_count": 114,
   "metadata": {},
   "outputs": [
    {
     "name": "stdout",
     "output_type": "stream",
     "text": [
      "오전입니다.\n"
     ]
    }
   ],
   "source": [
    "# 오전/오후 구분\n",
    "if now.hour < 12:\n",
    "    print(\"오전입니다.\")\n",
    "if now.hour >=12:\n",
    "    print(\"오후입니다.\")"
   ]
  },
  {
   "cell_type": "code",
   "execution_count": 115,
   "metadata": {},
   "outputs": [
    {
     "name": "stdout",
     "output_type": "stream",
     "text": [
      "봄 계절\n"
     ]
    }
   ],
   "source": [
    "# 계절 구분\n",
    "if 3<=now.month<6:\n",
    "    print(\"봄 계절\")\n",
    "if 6<=now.month<9:\n",
    "    print(\"여름 계절\")\n",
    "if 9<=now.month<12:\n",
    "    print(\"가을 계절\")\n",
    "if now.month==12 or 1<=now.month<3:\n",
    "    print(\"겨울 계절\")"
   ]
  },
  {
   "cell_type": "markdown",
   "metadata": {},
   "source": [
    "짝수/홀수 구분"
   ]
  },
  {
   "cell_type": "code",
   "execution_count": 116,
   "metadata": {},
   "outputs": [
    {
     "name": "stdout",
     "output_type": "stream",
     "text": [
      "정수 입력> 5\n",
      "홀수입니다\n"
     ]
    }
   ],
   "source": [
    "# 입력을 받습니다.\n",
    "num = input(\"정수 입력> \") # 문자열\n",
    "last_char = num[-1]        # 마지막 문자\n",
    "last_num = int(last_char)  # 정수형으로 변환\n",
    "\n",
    "# 짝수 확인\n",
    "if last_num%2 == 0:\n",
    "    print(\"짝수입니다\")\n",
    "if last_num%2 == 1:\n",
    "    print(\"홀수입니다\")"
   ]
  },
  {
   "cell_type": "code",
   "execution_count": 117,
   "metadata": {},
   "outputs": [
    {
     "name": "stdout",
     "output_type": "stream",
     "text": [
      "> 1번째 숫자: 100\n",
      "> 2번째 숫자: 10\n",
      "\n",
      "처음 입력했던 100가 10보다 더 큽니다.\n"
     ]
    }
   ],
   "source": [
    "a = int(input(\"> 1번째 숫자: \"))\n",
    "b = int(input(\"> 2번째 숫자: \"))\n",
    "print()\n",
    "\n",
    "if a>b:\n",
    "    print(\"처음 입력했던 {}가 {}보다 더 큽니다.\".format(a,b))\n",
    "if a<b:\n",
    "    print(\"두 번째로 입력했던 {}가 {}보다 더 큽니다.\".format(b,a))\n",
    "\n",
    "# 교재 125페이지 4번 문제"
   ]
  },
  {
   "cell_type": "code",
   "execution_count": 122,
   "metadata": {},
   "outputs": [
    {
     "name": "stdout",
     "output_type": "stream",
     "text": [
      "정수 입력> 3\n",
      "홀수입니다.\n"
     ]
    }
   ],
   "source": [
    "# 입력을 받습니다.\n",
    "num = input(\"정수 입력> \")\n",
    "num = int(num)\n",
    "\n",
    "# 짝수 조건\n",
    "if num%2==0:\n",
    "    print(\"짝수입니다.\")\n",
    "\n",
    "# 홀수 조건\n",
    "else:\n",
    "    print(\"홀수입니다.\")"
   ]
  },
  {
   "cell_type": "code",
   "execution_count": 123,
   "metadata": {},
   "outputs": [
    {
     "name": "stdout",
     "output_type": "stream",
     "text": [
      "지금은 봄\n"
     ]
    }
   ],
   "source": [
    "## 계절 구하기\n",
    "\n",
    "# 날짜/시간과 관련된 기능을 가져옵니다.\n",
    "import datetime\n",
    "\n",
    "# 현재 날짜/시간을 구하고\n",
    "# 쉽게 사용할 수 있게 월을 변수에 저장합니다.\n",
    "now = datetime.datetime.now()\n",
    "month = now.month\n",
    "\n",
    "# 조건문으로 계절을 확인\n",
    "if 3 <= month <= 5:\n",
    "    print(\"지금은 봄\")\n",
    "elif 6<= month <=8:\n",
    "    print(\"지금은 여름\")\n",
    "elif 9<= month <=11:\n",
    "    print(\"지금은 가을\")\n",
    "else:\n",
    "    print(\"지금은 겨울\")"
   ]
  },
  {
   "cell_type": "code",
   "execution_count": 124,
   "metadata": {},
   "outputs": [
    {
     "name": "stdout",
     "output_type": "stream",
     "text": [
      "학점 입력> 3.4\n",
      "일반인\n"
     ]
    }
   ],
   "source": [
    "# 변수를 선언합니다.\n",
    "score = float(input(\"학점 입력> \"))\n",
    "\n",
    "# 조건문을 적용합니다.\n",
    "if score == 4.5:\n",
    "    print(\"신\")\n",
    "elif 4.2 <= score <4.5:\n",
    "    print(\"교수님의 사랑\")\n",
    "elif 3.5<=score<4.2:\n",
    "    print(\"현 체제의 수호자\")\n",
    "elif 2.8<=score<3.5:\n",
    "    print(\"일반인\")\n",
    "elif 2.3<=score<2.8:\n",
    "    print(\"일탈을 꿈꾸는 소시민\")\n",
    "elif 1.75<=score<2.3:\n",
    "    print(\"오락문화의 선구자\")\n",
    "elif 1.0<=score<1.75:\n",
    "    print(\"불가촉천민\")\n",
    "elif 0.5<=score<1.0:\n",
    "    print(\"자벌레\")\n",
    "elif 0<score<0.5:\n",
    "    print(\"플랑크톤\")\n",
    "elif score == 0:\n",
    "    print(\"시대를 앞서가는 혁명의 씨앗\")"
   ]
  },
  {
   "cell_type": "code",
   "execution_count": 126,
   "metadata": {},
   "outputs": [
    {
     "name": "stdout",
     "output_type": "stream",
     "text": [
      "학점 입력> 4.3\n",
      "교수님의 사랑\n"
     ]
    }
   ],
   "source": [
    "# 변수를 선언합니다.\n",
    "score = float(input(\"학점 입력> \"))\n",
    "\n",
    "# 조건문을 적용합니다.\n",
    "if score==4.5:\n",
    "    print(\"신\")\n",
    "elif 4.2<=score:\n",
    "    print(\"교수님의 사랑\")\n",
    "elif 3.5<=score:\n",
    "    print(\"현 체제의 수호자\")\n",
    "elif 2.8<=score:\n",
    "    print(\"일반인\")\n",
    "elif 2.3<=score:\n",
    "    print(\"일탈을 꿈꾸는 소시민\")\n",
    "elif 1.75<=score:\n",
    "    print(\"오락문화의 선구자\")\n",
    "elif 1.0<=score:\n",
    "    print(\"불가촉천민\")\n",
    "elif 0.5<=score:\n",
    "    print(\"자벌레\")\n",
    "elif 0<score:\n",
    "    print(\"플랑크톤\")\n",
    "else:\n",
    "    print(\"시대를 앞서가는 혁명의 씨앗\")\n",
    "    \n",
    "# 131페이지 코드를 따라 한 것임.\n",
    "# 학점 입력에 4.5가 넘는 숫자가 들어가면 \"교수님의 사랑\"이 출력된다는 문제점\n",
    "# 앞에 4.5가 넘는 숫자나 음수를 집어넣으면 다시 집어넣게 하거나\n",
    "# 유효한 학점이 아니라는 표시를 해야 할 듯함."
   ]
  },
  {
   "cell_type": "code",
   "execution_count": 135,
   "metadata": {},
   "outputs": [
    {
     "name": "stdout",
     "output_type": "stream",
     "text": [
      "학점 입력> -5\n",
      "유효한 학점이 아닙니다.\n"
     ]
    }
   ],
   "source": [
    "# 변수를 선언합니다.\n",
    "score = float(input(\"학점 입력> \"))\n",
    "\n",
    "# 조건문을 적용합니다.\n",
    "if score>4.5 or score<0:\n",
    "    print(\"유효한 학점이 아닙니다.\") # 추가적으로 작성함.\n",
    "elif score==4.5:\n",
    "    print(\"신\")\n",
    "elif 4.2<=score:\n",
    "    print(\"교수님의 사랑\")\n",
    "elif 3.5<=score:\n",
    "    print(\"현 체제의 수호자\")\n",
    "elif 2.8<=score:\n",
    "    print(\"일반인\")\n",
    "elif 2.3<=score:\n",
    "    print(\"일탈을 꿈꾸는 소시민\")\n",
    "elif 1.75<=score:\n",
    "    print(\"오락문화의 선구자\")\n",
    "elif 1.0<=score:\n",
    "    print(\"불가촉천민\")\n",
    "elif 0.5<=score:\n",
    "    print(\"자벌레\")\n",
    "elif 0<score:\n",
    "    print(\"플랑크톤\")\n",
    "else:\n",
    "    print(\"시대를 앞서가는 혁명의 씨앗\")"
   ]
  },
  {
   "cell_type": "code",
   "execution_count": 136,
   "metadata": {},
   "outputs": [
    {
     "name": "stdout",
     "output_type": "stream",
     "text": [
      "# if 조건문에 0 넣기\n",
      "0은 False\n",
      "\n",
      "# if 조건문에 빈 문자열 넣기\n",
      "빈칸은 False\n"
     ]
    }
   ],
   "source": [
    "print(\"# if 조건문에 0 넣기\")\n",
    "if 0:\n",
    "    print(\"0은 True\")\n",
    "    # True는 1, False는 0 고로 0은 False가 출력\n",
    "else:\n",
    "    print(\"0은 False\")\n",
    "print()\n",
    "\n",
    "print(\"# if 조건문에 빈 문자열 넣기\")\n",
    "if \"\":\n",
    "    print(\"빈칸은 True\")\n",
    "else:\n",
    "    print(\"빈칸은 False\") # 빈 문자열도 False"
   ]
  },
  {
   "cell_type": "code",
   "execution_count": 139,
   "metadata": {},
   "outputs": [
    {
     "name": "stdout",
     "output_type": "stream",
     "text": [
      "5\n"
     ]
    }
   ],
   "source": [
    "x=1\n",
    "y=4\n",
    "\n",
    "if x>4:\n",
    "    if y>2:\n",
    "        print(x*y)\n",
    "else:\n",
    "    print(x+y)\n",
    "    \n",
    "# 136페이지 문제"
   ]
  },
  {
   "cell_type": "code",
   "execution_count": 141,
   "metadata": {},
   "outputs": [
    {
     "name": "stdout",
     "output_type": "stream",
     "text": [
      "태어난 해를 입력해 주세요> 1997\n",
      "소띠\n"
     ]
    }
   ],
   "source": [
    "str_input = input(\"태어난 해를 입력해 주세요> \")\n",
    "birth_year = int(str_input)%12\n",
    "\n",
    "if birth_year == 0:\n",
    "    print(\"원숭이띠\")\n",
    "elif birth_year == 1:\n",
    "    print(\"닭띠\")\n",
    "elif birth_year == 2:\n",
    "    print(\"개띠\")\n",
    "elif birth_year == 3:\n",
    "    print(\"돼지띠\")\n",
    "elif birth_year == 4:\n",
    "    print(\"쥐띠\")\n",
    "elif birth_year == 5:\n",
    "    print(\"소띠\")\n",
    "elif birth_year == 6:\n",
    "    print(\"범띠\")\n",
    "elif birth_year == 7:\n",
    "    print(\"토끼띠\")\n",
    "elif birth_year == 8:\n",
    "    print(\"용띠\")\n",
    "elif birth_year == 9:\n",
    "    print(\"뱀띠\")\n",
    "elif birth_year == 10:\n",
    "    print(\"말띠\")\n",
    "else:\n",
    "    print(\"양띠\")"
   ]
  },
  {
   "cell_type": "code",
   "execution_count": 142,
   "metadata": {},
   "outputs": [
    {
     "name": "stdout",
     "output_type": "stream",
     "text": [
      "문자열\n"
     ]
    }
   ],
   "source": [
    "[1, 2, 3, 4]\n",
    "[\"안\", \"녕\", \"하\", \"세\", \"요\"]\n",
    "list_a=[273, 32, 103, \"문자열\", True, False]\n",
    "# 리스트 안에는 여러 자료형이 들어갈 수 있다.\n",
    "print(list_a[3])"
   ]
  },
  {
   "cell_type": "code",
   "execution_count": 146,
   "metadata": {},
   "outputs": [
    {
     "name": "stdout",
     "output_type": "stream",
     "text": [
      "[32, 103]\n",
      "True\n"
     ]
    }
   ],
   "source": [
    "print(list_a[1:3])  # 1,2\n",
    "print(list_a[-2])"
   ]
  },
  {
   "cell_type": "code",
   "execution_count": 145,
   "metadata": {},
   "outputs": [
    {
     "name": "stdout",
     "output_type": "stream",
     "text": [
      "273\n",
      "바뀌었지롱\n",
      "['바뀌었지롱', 32, 103, '문자열', True, False]\n"
     ]
    }
   ],
   "source": [
    "print(list_a[0])\n",
    "list_a[0] = \"바뀌었지롱\"\n",
    "print(list_a[0])\n",
    "print(list_a)"
   ]
  },
  {
   "cell_type": "code",
   "execution_count": 147,
   "metadata": {},
   "outputs": [
    {
     "name": "stdout",
     "output_type": "stream",
     "text": [
      "었\n"
     ]
    }
   ],
   "source": [
    "print(list_a[0][2])"
   ]
  },
  {
   "cell_type": "code",
   "execution_count": 148,
   "metadata": {},
   "outputs": [
    {
     "name": "stdout",
     "output_type": "stream",
     "text": [
      "[4, 5, 6]\n",
      "5\n"
     ]
    }
   ],
   "source": [
    "list_a = [[1,2,3],[4,5,6],[7,8,9]]\n",
    "print(list_a[1])\n",
    "print(list_a[1][1])"
   ]
  },
  {
   "cell_type": "code",
   "execution_count": 151,
   "metadata": {},
   "outputs": [
    {
     "name": "stdout",
     "output_type": "stream",
     "text": [
      "# 리스트\n",
      "list_a = [1, 2, 3]\n",
      "list_b = [4, 5, 6]\n",
      "\n",
      "# 리스트 기본 연산자\n",
      "list_a + list_b = [1, 2, 3, 4, 5, 6]\n",
      "list_a * 3 = [1, 2, 3, 1, 2, 3, 1, 2, 3]\n",
      "\n",
      "# 길이 구하기\n",
      "len(list_a) = 3\n"
     ]
    }
   ],
   "source": [
    "# 리스트를 선언합니다.\n",
    "list_a = [1,2,3]\n",
    "list_b = [4,5,6]\n",
    "\n",
    "# 출력합니다.\n",
    "print(\"# 리스트\")\n",
    "print(\"list_a =\", list_a)\n",
    "print(\"list_b =\", list_b)\n",
    "print()\n",
    "\n",
    "# 기본 연산자\n",
    "print(\"# 리스트 기본 연산자\")\n",
    "print(\"list_a + list_b =\", list_a+list_b)\n",
    "print(\"list_a * 3 =\", list_a*3)\n",
    "print()\n",
    "\n",
    "# 함수\n",
    "print(\"# 길이 구하기\")\n",
    "print(\"len(list_a) =\",len(list_a))"
   ]
  },
  {
   "cell_type": "code",
   "execution_count": null,
   "metadata": {},
   "outputs": [],
   "source": []
  }
 ],
 "metadata": {
  "kernelspec": {
   "display_name": "python3_7_6",
   "language": "python",
   "name": "py3_7_6"
  },
  "language_info": {
   "codemirror_mode": {
    "name": "ipython",
    "version": 3
   },
   "file_extension": ".py",
   "mimetype": "text/x-python",
   "name": "python",
   "nbconvert_exporter": "python",
   "pygments_lexer": "ipython3",
   "version": "3.7.6"
  }
 },
 "nbformat": 4,
 "nbformat_minor": 4
}
