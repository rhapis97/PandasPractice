{
 "cells": [
  {
   "cell_type": "code",
   "execution_count": 1,
   "metadata": {},
   "outputs": [
    {
     "name": "stdout",
     "output_type": "stream",
     "text": [
      "정수 입력> sdfsdf\n",
      "type(exception): <class 'ValueError'>\n",
      "exception: invalid literal for int() with base 10: 'sdfsdf'\n"
     ]
    }
   ],
   "source": [
    "# 혼공파 06-2 294 페이지\n",
    "\n",
    "# 예외 고급\n",
    "# 예외가 발생하면 예외 정보가 예외 객체(exception object)에 저장된다.\n",
    "\n",
    "# 예외 객체\n",
    "# Exception: 모든 예외의 어머니 / 클래스\n",
    "\n",
    "try:\n",
    "    number_input_a = int(input(\"정수 입력> \"))\n",
    "    \n",
    "    print(\"원의 반지름:\", number_input_a)\n",
    "    print(\"원의 둘레:\", 2*3.14*number_input_a)\n",
    "    print(\"원의 넓이:\", 3.14*number_input_a*number_input_a)\n",
    "except Exception as e:\n",
    "    print(\"type(exception):\", type(e))\n",
    "    print(\"exception:\", e)\n",
    "    \n",
    "# 예외가 발생할 때 이러한 정보를 메일 등으로 보내도록 하여 수집하면 프로그램 개선에 큰 도움"
   ]
  },
  {
   "cell_type": "code",
   "execution_count": 3,
   "metadata": {},
   "outputs": [
    {
     "name": "stdout",
     "output_type": "stream",
     "text": [
      "정수 입력> sd\n",
      "type(exception): <class 'ValueError'>\n",
      "exception: invalid literal for int() with base 10: 'sd'\n"
     ]
    }
   ],
   "source": [
    "# 예외 구분하기\n",
    "list_number = [52,273,32,72,100]\n",
    "\n",
    "try:\n",
    "    number_input = int(input(\"정수 입력> \"))\n",
    "    print(\"{}번째 요소: {}\".format(number_input, list_number[number_input]))\n",
    "except Exception as e:\n",
    "    print(\"type(exception):\", type(e))\n",
    "    print(\"exception:\", e)\n",
    "    \n",
    "# 정수로 변환될 수 없는 값을 입력하면 ValueError\n",
    "# 정수지만 리스트의 길이를 넘는 인덱스를 입력하면 IndexError\n",
    "\n",
    "# 여러 가지 에러가 발생할 수 있음 -> except에 예외의 종류 입력해서 예외 구분할 수 있음"
   ]
  },
  {
   "cell_type": "code",
   "execution_count": 6,
   "metadata": {},
   "outputs": [
    {
     "name": "stdout",
     "output_type": "stream",
     "text": [
      "정수 입력> 100\n",
      "리스트의 인덱스를 벗어났어요!\n"
     ]
    }
   ],
   "source": [
    "# except로 여러 예외 구분하기\n",
    "\n",
    "list_number = [52,273,32,72,100]\n",
    "\n",
    "try:\n",
    "    number_input = int(input(\"정수 입력> \"))\n",
    "    print(\"{}번째 요소: {}\".format(number_input, list_number[number_input]))\n",
    "except ValueError:\n",
    "    print(\"정수를 입력해주세요!\")\n",
    "except IndexError:\n",
    "    print(\"리스트의 인덱스를 벗어났어요!\")\n",
    "    \n",
    "# 클린코딩 -> 남들도 알아볼 수 있음"
   ]
  },
  {
   "cell_type": "code",
   "execution_count": 7,
   "metadata": {},
   "outputs": [
    {
     "name": "stdout",
     "output_type": "stream",
     "text": [
      "정수 입력> 150\n",
      "리스트의 인덱스를 벗어났어요!\n",
      "예외: list index out of range\n"
     ]
    }
   ],
   "source": [
    "# 예외 구분 구문과 예외 객체\n",
    "# as 키워드로 except 구문 뒤에 예외 객체 붙일 수 있음\n",
    "\n",
    "list_number = [52,273,32,72,100]\n",
    "\n",
    "try:\n",
    "    number_input = int(input(\"정수 입력> \"))\n",
    "    print(\"{}번째 요소: {}\".format(number_input, list_number[number_input]))\n",
    "except ValueError as e:\n",
    "    print(\"정수를 입력해주세요!\")\n",
    "    print(\"예외:\", e)\n",
    "except IndexError as e:\n",
    "    print(\"리스트의 인덱스를 벗어났어요!\")\n",
    "    print(\"예외:\", e)"
   ]
  },
  {
   "cell_type": "code",
   "execution_count": 9,
   "metadata": {},
   "outputs": [
    {
     "name": "stdout",
     "output_type": "stream",
     "text": [
      "정수 입력> 2\n",
      "2번째 요소: 32\n"
     ]
    },
    {
     "ename": "NameError",
     "evalue": "name '예외' is not defined",
     "output_type": "error",
     "traceback": [
      "\u001b[1;31m---------------------------------------------------------------------------\u001b[0m",
      "\u001b[1;31mNameError\u001b[0m                                 Traceback (most recent call last)",
      "\u001b[1;32m<ipython-input-9-6b67245cca2f>\u001b[0m in \u001b[0;36m<module>\u001b[1;34m\u001b[0m\n\u001b[0;32m      6\u001b[0m     \u001b[0mnumber_input\u001b[0m \u001b[1;33m=\u001b[0m \u001b[0mint\u001b[0m\u001b[1;33m(\u001b[0m\u001b[0minput\u001b[0m\u001b[1;33m(\u001b[0m\u001b[1;34m\"정수 입력> \"\u001b[0m\u001b[1;33m)\u001b[0m\u001b[1;33m)\u001b[0m\u001b[1;33m\u001b[0m\u001b[1;33m\u001b[0m\u001b[0m\n\u001b[0;32m      7\u001b[0m     \u001b[0mprint\u001b[0m\u001b[1;33m(\u001b[0m\u001b[1;34m\"{}번째 요소: {}\"\u001b[0m\u001b[1;33m.\u001b[0m\u001b[0mformat\u001b[0m\u001b[1;33m(\u001b[0m\u001b[0mnumber_input\u001b[0m\u001b[1;33m,\u001b[0m \u001b[0mlist_number\u001b[0m\u001b[1;33m[\u001b[0m\u001b[0mnumber_input\u001b[0m\u001b[1;33m]\u001b[0m\u001b[1;33m)\u001b[0m\u001b[1;33m)\u001b[0m\u001b[1;33m\u001b[0m\u001b[1;33m\u001b[0m\u001b[0m\n\u001b[1;32m----> 8\u001b[1;33m     \u001b[0m예외\u001b[0m\u001b[1;33m.\u001b[0m\u001b[0m발생해주세요\u001b[0m\u001b[1;33m(\u001b[0m\u001b[1;33m)\u001b[0m  \u001b[1;31m# 에러 발생: '예외'라는 이름의 변수 없음 -> NameError -> 예외 처리 구문 중 NameError 없음\u001b[0m\u001b[1;33m\u001b[0m\u001b[1;33m\u001b[0m\u001b[0m\n\u001b[0m\u001b[0;32m      9\u001b[0m \u001b[1;32mexcept\u001b[0m \u001b[0mValueError\u001b[0m \u001b[1;32mas\u001b[0m \u001b[0me\u001b[0m\u001b[1;33m:\u001b[0m\u001b[1;33m\u001b[0m\u001b[1;33m\u001b[0m\u001b[0m\n\u001b[0;32m     10\u001b[0m     \u001b[0mprint\u001b[0m\u001b[1;33m(\u001b[0m\u001b[1;34m\"정수를 입력해주세요!\"\u001b[0m\u001b[1;33m)\u001b[0m\u001b[1;33m\u001b[0m\u001b[1;33m\u001b[0m\u001b[0m\n",
      "\u001b[1;31mNameError\u001b[0m: name '예외' is not defined"
     ]
    }
   ],
   "source": [
    "# 모든 예외 잡기\n",
    "\n",
    "list_number = [52,273,32,72,100]\n",
    "\n",
    "try:\n",
    "    number_input = int(input(\"정수 입력> \"))\n",
    "    print(\"{}번째 요소: {}\".format(number_input, list_number[number_input]))\n",
    "    예외.발생해주세요()  # 에러 발생: '예외'라는 이름의 변수 없음 -> NameError -> 예외 처리 구문 중 NameError 없음\n",
    "except ValueError as e:\n",
    "    print(\"정수를 입력해주세요!\")\n",
    "    print(\"예외:\", e)\n",
    "except IndexError as e:\n",
    "    print(\"리스트의 인덱스를 벗어났어요!\")\n",
    "    print(\"예외:\", e)\n",
    "    \n",
    "# 프로그램 강제 종료\n",
    "# 따라서 마지막에는 모든 예외의 부모인 Exception을 넣는 것이 좋음"
   ]
  },
  {
   "cell_type": "code",
   "execution_count": 11,
   "metadata": {},
   "outputs": [
    {
     "name": "stdout",
     "output_type": "stream",
     "text": [
      "정수 입력> 2\n",
      "2번째 요소: 32\n",
      "미리 파악하지 못한 예외가 발생했습니다.\n",
      "<class 'NameError'> name '예외' is not defined\n"
     ]
    }
   ],
   "source": [
    "list_number = [52,273,32,72,100]\n",
    "\n",
    "try:\n",
    "    number_input = int(input(\"정수 입력> \"))\n",
    "    print(\"{}번째 요소: {}\".format(number_input, list_number[number_input]))\n",
    "    예외.발생해주세요()\n",
    "except ValueError as e:\n",
    "    print(\"정수를 입력해주세요!\")\n",
    "    print(\"예외:\", e)\n",
    "except IndexError as e:\n",
    "    print(\"리스트의 인덱스를 벗어났어요!\")\n",
    "    print(\"예외:\", e)\n",
    "except Exception as e:\n",
    "    print(\"미리 파악하지 못한 예외가 발생했습니다.\")\n",
    "    print(type(e), e)"
   ]
  },
  {
   "cell_type": "code",
   "execution_count": 12,
   "metadata": {},
   "outputs": [
    {
     "name": "stdout",
     "output_type": "stream",
     "text": [
      "정수 입력> 1\n"
     ]
    },
    {
     "ename": "NotImplementedError",
     "evalue": "",
     "output_type": "error",
     "traceback": [
      "\u001b[1;31m---------------------------------------------------------------------------\u001b[0m",
      "\u001b[1;31mNotImplementedError\u001b[0m                       Traceback (most recent call last)",
      "\u001b[1;32m<ipython-input-12-44626d0ca5ef>\u001b[0m in \u001b[0;36m<module>\u001b[1;34m\u001b[0m\n\u001b[0;32m      5\u001b[0m \u001b[1;33m\u001b[0m\u001b[0m\n\u001b[0;32m      6\u001b[0m \u001b[1;32mif\u001b[0m \u001b[0mnumber\u001b[0m \u001b[1;33m>\u001b[0m \u001b[1;36m0\u001b[0m\u001b[1;33m:\u001b[0m\u001b[1;33m\u001b[0m\u001b[1;33m\u001b[0m\u001b[0m\n\u001b[1;32m----> 7\u001b[1;33m     \u001b[1;32mraise\u001b[0m \u001b[0mNotImplementedError\u001b[0m\u001b[1;33m\u001b[0m\u001b[1;33m\u001b[0m\u001b[0m\n\u001b[0m\u001b[0;32m      8\u001b[0m \u001b[1;32melse\u001b[0m\u001b[1;33m:\u001b[0m\u001b[1;33m\u001b[0m\u001b[1;33m\u001b[0m\u001b[0m\n\u001b[0;32m      9\u001b[0m     \u001b[1;32mraise\u001b[0m \u001b[0mNotImplementedError\u001b[0m\u001b[1;33m\u001b[0m\u001b[1;33m\u001b[0m\u001b[0m\n",
      "\u001b[1;31mNotImplementedError\u001b[0m: "
     ]
    }
   ],
   "source": [
    "# raise 구문: 아직 구현되지 않은 부분에서 강제로 예외 발생시키기\n",
    "\n",
    "number = input(\"정수 입력> \")\n",
    "number = int(number)\n",
    "\n",
    "if number > 0:\n",
    "    raise NotImplementedError\n",
    "else:\n",
    "    raise NotImplementedError\n",
    "    \n",
    "# 출력되는 메시지를 원하는 형태로 만들고 싶으면 예외 클래스를 만들어야 함."
   ]
  },
  {
   "cell_type": "code",
   "execution_count": null,
   "metadata": {},
   "outputs": [],
   "source": []
  }
 ],
 "metadata": {
  "kernelspec": {
   "display_name": "python3_7_6",
   "language": "python",
   "name": "py3_7_6"
  },
  "language_info": {
   "codemirror_mode": {
    "name": "ipython",
    "version": 3
   },
   "file_extension": ".py",
   "mimetype": "text/x-python",
   "name": "python",
   "nbconvert_exporter": "python",
   "pygments_lexer": "ipython3",
   "version": "3.7.6"
  }
 },
 "nbformat": 4,
 "nbformat_minor": 4
}
