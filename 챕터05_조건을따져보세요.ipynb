{
 "cells": [
  {
   "cell_type": "code",
   "execution_count": 1,
   "metadata": {},
   "outputs": [
    {
     "name": "stdout",
     "output_type": "stream",
     "text": [
      "합격입니다!\n",
      "수고하셨습니다.\n"
     ]
    }
   ],
   "source": [
    "score = 90\n",
    "if score >= 60:\n",
    "    print(\"합격입니다!\")\n",
    "print(\"수고하셨습니다.\")"
   ]
  },
  {
   "cell_type": "code",
   "execution_count": 2,
   "metadata": {},
   "outputs": [
    {
     "name": "stdout",
     "output_type": "stream",
     "text": [
      "언어를 선택하세요(1=한국어, 2=영어, 3=프랑스어, 4=독일어)3\n",
      "Boujour\n"
     ]
    }
   ],
   "source": [
    "language = int(input(\"언어를 선택하세요(1=한국어, 2=영어, 3=프랑스어, 4=독일어)\"))\n",
    "\n",
    "if language == 1:\n",
    "    print(\"안녕\")\n",
    "if language == 2:\n",
    "    print(\"Hello\")\n",
    "if language == 3:\n",
    "    print(\"Boujour\")\n",
    "if language == 4:\n",
    "    print(\"Guten morgen\")"
   ]
  },
  {
   "cell_type": "code",
   "execution_count": 3,
   "metadata": {},
   "outputs": [
    {
     "name": "stdout",
     "output_type": "stream",
     "text": [
      "나이를 입력하시오: 19\n",
      "영화를 관람할 수 있습니다.\n"
     ]
    }
   ],
   "source": [
    "age = int(input(\"나이를 입력하시오: \"))\n",
    "\n",
    "if age >= 15:\n",
    "    print(\"영화를 관람할 수 있습니다.\")\n",
    "else:\n",
    "    print(\"영화를 관람할 수 없습니다.\")"
   ]
  },
  {
   "cell_type": "code",
   "execution_count": 4,
   "metadata": {},
   "outputs": [
    {
     "name": "stdout",
     "output_type": "stream",
     "text": [
      "정수를 입력하시오: 23\n",
      "홀수입니다.\n"
     ]
    }
   ],
   "source": [
    "num = int(input(\"정수를 입력하시오: \"))\n",
    "if num%2 == 0:\n",
    "    print(\"짝수입니다.\")\n",
    "else:\n",
    "    print(\"홀수입니다.\")"
   ]
  },
  {
   "cell_type": "code",
   "execution_count": 5,
   "metadata": {},
   "outputs": [
    {
     "data": {
      "text/plain": [
       "True"
      ]
     },
     "execution_count": 5,
     "metadata": {},
     "output_type": "execute_result"
    }
   ],
   "source": [
    "1 == 1 and 2 == 2"
   ]
  },
  {
   "cell_type": "code",
   "execution_count": 6,
   "metadata": {},
   "outputs": [
    {
     "data": {
      "text/plain": [
       "False"
      ]
     },
     "execution_count": 6,
     "metadata": {},
     "output_type": "execute_result"
    }
   ],
   "source": [
    "1 == 1 and 1 == 2"
   ]
  },
  {
   "cell_type": "code",
   "execution_count": 7,
   "metadata": {},
   "outputs": [
    {
     "data": {
      "text/plain": [
       "False"
      ]
     },
     "execution_count": 7,
     "metadata": {},
     "output_type": "execute_result"
    }
   ],
   "source": [
    "1 == 2 and 2 == 3"
   ]
  },
  {
   "cell_type": "code",
   "execution_count": 8,
   "metadata": {},
   "outputs": [
    {
     "data": {
      "text/plain": [
       "True"
      ]
     },
     "execution_count": 8,
     "metadata": {},
     "output_type": "execute_result"
    }
   ],
   "source": [
    "1 == 1 or 2 == 2"
   ]
  },
  {
   "cell_type": "code",
   "execution_count": 9,
   "metadata": {},
   "outputs": [
    {
     "data": {
      "text/plain": [
       "True"
      ]
     },
     "execution_count": 9,
     "metadata": {},
     "output_type": "execute_result"
    }
   ],
   "source": [
    "1 == 1 or 1 == 2"
   ]
  },
  {
   "cell_type": "code",
   "execution_count": 10,
   "metadata": {},
   "outputs": [
    {
     "data": {
      "text/plain": [
       "False"
      ]
     },
     "execution_count": 10,
     "metadata": {},
     "output_type": "execute_result"
    }
   ],
   "source": [
    "1 == 2 or 2 == 3"
   ]
  },
  {
   "cell_type": "code",
   "execution_count": 11,
   "metadata": {},
   "outputs": [
    {
     "data": {
      "text/plain": [
       "True"
      ]
     },
     "execution_count": 11,
     "metadata": {},
     "output_type": "execute_result"
    }
   ],
   "source": [
    "not 1 == 2"
   ]
  },
  {
   "cell_type": "code",
   "execution_count": 12,
   "metadata": {},
   "outputs": [
    {
     "name": "stdout",
     "output_type": "stream",
     "text": [
      "정수를 입력하시오: -2\n",
      "음수입니다.\n"
     ]
    }
   ],
   "source": [
    "num = int(input(\"정수를 입력하시오: \"))\n",
    "\n",
    "if num > 0:\n",
    "    print(\"양수입니다.\")\n",
    "elif num == 0:\n",
    "    print(\"0입니다.\")\n",
    "else:\n",
    "    print(\"음수입니다.\")"
   ]
  },
  {
   "cell_type": "code",
   "execution_count": 13,
   "metadata": {},
   "outputs": [
    {
     "name": "stdout",
     "output_type": "stream",
     "text": [
      "정수를 입력하시오: 0\n",
      "0입니다.\n"
     ]
    }
   ],
   "source": [
    "num = int(input(\"정수를 입력하시오: \"))\n",
    "if num >= 0:\n",
    "    if num == 0:\n",
    "        print(\"0입니다.\")\n",
    "    else:\n",
    "        print(\"양수입니다.\")\n",
    "else:\n",
    "    print(\"음수입니다.\")"
   ]
  },
  {
   "cell_type": "code",
   "execution_count": 14,
   "metadata": {},
   "outputs": [
    {
     "name": "stdout",
     "output_type": "stream",
     "text": [
      "변a의 길이: 3\n",
      "변b의 길이: 4\n",
      "변c의 길이: 5\n",
      "직각삼각형입니다.\n"
     ]
    }
   ],
   "source": [
    "# 직각삼각형 판별하기\n",
    "# 사용자로부터 세 변의 길이 a,b,c를 입력받아\n",
    "# 피타고라스의 정리를 이용하여 직각삼각형을 판별하는 프로그램 작성\n",
    "# 단, c < a+b\n",
    "\n",
    "a = int(input(\"변a의 길이: \"))\n",
    "b = int(input(\"변b의 길이: \"))\n",
    "c = int(input(\"변c의 길이: \"))\n",
    "\n",
    "if c**2 == (a**2)+(b**2):\n",
    "    print(\"직각삼각형입니다.\")\n",
    "else:\n",
    "    pritn(\"직각삼각형이 아닙니다.\")"
   ]
  },
  {
   "cell_type": "code",
   "execution_count": 41,
   "metadata": {},
   "outputs": [],
   "source": [
    "# 정수의 종류를 판별하는 스마트 터틀\n",
    "# 사용자로부터 정수를 받아서 정수의 종류에 따라\n",
    "# 거북이가 양의 정수, 0, 음의 정수 메시지가 있는 위치로 이동하는 프로그램\n",
    "# 단, 각 메시지의 위치는 양의 정수는(100,100) 0은(100,0), 음의 정수는(100,-100)\n",
    "\n",
    "import turtle\n",
    "t = turtle.Turtle()\n",
    "t.shape(\"turtle\")\n",
    "\n",
    "t.penup()\n",
    "t.goto(100,100)\n",
    "t.write(\"입력된 정수는 양의 정수입니다.\")\n",
    "t.goto(100,0)\n",
    "t.write(\"입력된 정수는 0입니다.\")\n",
    "t.goto(100,-100)\n",
    "t.write(\"입력된 정수는 음의 정수입니다.\")\n",
    "\n",
    "t.goto(0,0)\n",
    "t.pendown()\n",
    "\n",
    "num = int(turtle.textinput(\"\", \"숫자를 입력하시오.\"))\n",
    "\n",
    "if num > 0:\n",
    "    t.goto(100,100)\n",
    "elif num == 0:\n",
    "    t.goto(100,0)\n",
    "else:\n",
    "    t.goto(100,-100)"
   ]
  },
  {
   "cell_type": "code",
   "execution_count": 30,
   "metadata": {},
   "outputs": [
    {
     "name": "stdout",
     "output_type": "stream",
     "text": [
      "주민등록번호의 성별 정보 번호를 생성합니다.\n",
      "생성번호: 1\n",
      "남성입니다.\n",
      "프로그램을 종료합니다.\n"
     ]
    }
   ],
   "source": [
    "# 주민등록번호 뒷자리 의미, 이런 뜻이?!\n",
    "# 랜덤으로 나오는 값을 주민등록번호 뒷자리 중 첫 번째 숫자로 보고 남, 여를 판별하는 프로그램\n",
    "import random\n",
    "\n",
    "print(\"주민등록번호의 성별 정보 번호를 생성합니다.\")\n",
    "\n",
    "num = random.randint(1,4)\n",
    "\n",
    "print(\"생성번호:\",num)\n",
    "\n",
    "if (num == 1) | (num == 3):\n",
    "    print(\"남성입니다.\")\n",
    "else:\n",
    "    print(\"여성입니다.\")\n",
    "print(\"프로그램을 종료합니다.\")"
   ]
  },
  {
   "cell_type": "code",
   "execution_count": 5,
   "metadata": {},
   "outputs": [],
   "source": [
    "# 동전 던지기 게임\n",
    "# 랜덤으로 동전을 던져 결과를 확인하는 동전 던지기 게임 그래픽 버전으로 제작\n",
    "# CH05-Lab04 동전 던지기 게임\n",
    "\n",
    "import turtle    # 터틀 그래픽 모듈을 불러옴\n",
    "import random    # 난수 모듈을 불러옴\n",
    "\n",
    "screen = turtle.Screen()\n",
    "image1 = \"data/front.gif\"\n",
    "image2 = \"data/back.gif\"\n",
    "\n",
    "screen.addshape(image1)\n",
    "screen.addshape(image2)\n",
    "\n",
    "t1 = turtle.Turtle()          # 터틀 생성\n",
    "coin = random.randint(0, 1)   # 동전의 앞, 뒤 정보 만들기\n",
    "\n",
    "if coin == 0 :\n",
    "    t1.shape(image1)\n",
    "    t1.stamp()\n",
    "else :\n",
    "    t1.shape(image2)\n",
    "    t1.stamp()\n"
   ]
  },
  {
   "cell_type": "code",
   "execution_count": 34,
   "metadata": {},
   "outputs": [
    {
     "name": "stdout",
     "output_type": "stream",
     "text": [
      "1번 전지가 있습니까?(Y/N) n\n",
      "2번 전지가 있습니까?(Y/N) n\n",
      "직렬연결: 전구에 불이 꺼집니다.\n",
      "병렬연결: 전구에 불이 꺼집니다.\n"
     ]
    }
   ],
   "source": [
    "# 찌릭찌릭 전기회로\n",
    "\n",
    "battery1 = input(\"1번 전지가 있습니까?(Y/N) \")\n",
    "battery2 = input(\"2번 전지가 있습니까?(Y/N) \")\n",
    "\n",
    "if (battery1 == 'y') & (battery2 == 'y'):\n",
    "    str1 = str2 = '켜'\n",
    "elif (battery1 == 'y') | (battery2 == 'y'):\n",
    "    str1 = '꺼'\n",
    "    str2 = '켜'\n",
    "else:\n",
    "    str1 = str2 = '꺼'\n",
    "\n",
    "print(\"직렬연결: 전구에 불이 \"+ str1 +\"집니다.\")\n",
    "print(\"병렬연결: 전구에 불이 \"+ str2 +\"집니다.\")"
   ]
  },
  {
   "cell_type": "code",
   "execution_count": 36,
   "metadata": {},
   "outputs": [
    {
     "name": "stdout",
     "output_type": "stream",
     "text": [
      "연도를 입력하시오: 2013\n",
      "2013 년은 윤년이 아닙니다.\n"
     ]
    }
   ],
   "source": [
    "# 윤년 판단\n",
    "# 4년마다 하루 정도 오차가 생기기 때문에 이를 조정하기 위해 윤년이 생김\n",
    "# 사용자로부터 입력받은 연도가 윤년인지 아닌지를 판단하는 프로그램\n",
    "\n",
    "year = int(input(\"연도를 입력하시오: \"))\n",
    "if year%4 == 0:\n",
    "    print(year,\"년은 윤년입니다.\")\n",
    "else:\n",
    "    print(year,\"년은 윤년이 아닙니다.\")"
   ]
  },
  {
   "cell_type": "code",
   "execution_count": 38,
   "metadata": {},
   "outputs": [
    {
     "name": "stdout",
     "output_type": "stream",
     "text": [
      "a값 입력: 1\n",
      "b값 입력: 4\n",
      "c값 입력: 4\n",
      "방정식은 서로 같은 두 실근(중근)입니다.\n"
     ]
    }
   ],
   "source": [
    "# 이차방정식의 판별식\n",
    "# a, b, c가 실수일 때 이차방정식 ax^2 + bx + c = 0에서\n",
    "# D = b^2 - 4ac\n",
    "# D > 0 - 서로 다른 두 실근\n",
    "# D = 0 - 서로 같은 두 실근(중근)\n",
    "# D < 0 - 서로 다른 두 허근\n",
    "\n",
    "a = int(input(\"a값 입력: \"))\n",
    "b = int(input(\"b값 입력: \"))\n",
    "c = int(input(\"c값 입력: \"))\n",
    "\n",
    "D = (b**2)-(4*a*c)\n",
    "\n",
    "if D > 0:\n",
    "    print(\"방정식은 서로 다른 두 실근입니다.\")\n",
    "elif D == 0:\n",
    "    print(\"방정식은 서로 같은 두 실근(중근)입니다.\")\n",
    "else:\n",
    "    print(\"방정식은 서로 다른 두 허근입니다.\")"
   ]
  },
  {
   "cell_type": "code",
   "execution_count": 4,
   "metadata": {},
   "outputs": [],
   "source": [
    "# 사용자가 원하는 도형 그리기\n",
    "import turtle\n",
    "t = turtle.Turtle()\n",
    "t.shape(\"turtle\")\n",
    "\n",
    "s = turtle.textinput(\"\", \"도형을 입력하시오:\")\n",
    "\n",
    "if s =='직사각형':\n",
    "    width = int(turtle.textinput(\"\", \"가로:\"))\n",
    "    length = int(turtle.textinput(\"\", \"세로:\"))\n",
    "    t.forward(width)\n",
    "    t.left(90)\n",
    "    t.forward(length)\n",
    "    t.left(90)\n",
    "    t.forward(width)\n",
    "    t.left(90)\n",
    "    t.forward(length)\n",
    "if s == '정삼각형':\n",
    "    line = int(turtle.textinput(\"\", \"한 변의 길이:\"))\n",
    "    t.forward(line)\n",
    "    t.left(120)\n",
    "    t.forward(line)\n",
    "    t.left(120)\n",
    "    t.forward(line)\n",
    "if s == '원':\n",
    "    radius = int(turtle.textinput(\"\", \"반지름의 길이:\"))\n",
    "    t.circle(radius)"
   ]
  },
  {
   "cell_type": "code",
   "execution_count": 1,
   "metadata": {},
   "outputs": [],
   "source": [
    "# 두 원의 위치 관계 시뮬레이션\n",
    "# 사용자로부터 2개의 원에 대한 정보를 받아서 화면에 원을 그린 후\n",
    "# 그 관계를 시뮬레이션하는 프로그램\n",
    "import turtle\n",
    "t = turtle.Turtle()\n",
    "t.shape(\"turtle\")\n",
    "\n",
    "x1 = int(turtle.textinput(\"\",\"큰 원의 중심좌표 x1:\"))\n",
    "y1 = int(turtle.textinput(\"\",\"큰 원의 중심좌표 y1:\"))\n",
    "r1 = int(turtle.textinput(\"\",\"큰 원의 반지름:\"))\n",
    "\n",
    "x2 = int(turtle.textinput(\"\",\"작은 원의 중심좌표 x2:\"))\n",
    "y2 = int(turtle.textinput(\"\",\"작은 원의 중심좌표 y2:\"))\n",
    "r2 = int(turtle.textinput(\"\",\"작은 원의 반지름:\"))\n",
    "\n",
    "t.penup()\n",
    "t.goto(x1,y1)\n",
    "t.pendown()\n",
    "t.circle(r1)\n",
    "\n",
    "t.penup()\n",
    "t.goto(x2,y2)\n",
    "t.pendown()\n",
    "t.circle(r2)\n",
    "\n",
    "# 두 점 사이 거리\n",
    "dist = ((x1-x2)**2 + (y1-y2)**2)**0.5\n",
    "\n",
    "if dist == 0:\n",
    "    turtle.write(\"동심원\")\n",
    "elif dist == r1-r2:\n",
    "    turtle.write(\"내접\")\n",
    "elif r1-r2 < dist < r1+r2:\n",
    "    turtle.write(\"두 점에서 만납니다.\")\n",
    "elif dist > r1+r2:\n",
    "    turtle.write(\"만나지 않고 외부에 있습니다.\")\n",
    "elif dist == r1+r2:\n",
    "    turtle.write(\"외접\")\n",
    "elif dist < r1-r2:\n",
    "    turtle.write(\"만나지 않고 내부에 있습니다.\")"
   ]
  },
  {
   "cell_type": "code",
   "execution_count": null,
   "metadata": {},
   "outputs": [],
   "source": []
  },
  {
   "cell_type": "code",
   "execution_count": 6,
   "metadata": {},
   "outputs": [],
   "source": [
    "## 5장 추가 연습 문제"
   ]
  },
  {
   "cell_type": "code",
   "execution_count": 7,
   "metadata": {},
   "outputs": [
    {
     "name": "stdout",
     "output_type": "stream",
     "text": [
      "정수를 입력하시오: -8\n",
      "음수\n"
     ]
    }
   ],
   "source": [
    "# 1. 사용자로부터 정수를 입력받아서 \"양수\",\"0\",\"음수\"로 출력하는 프로그램 작성\n",
    "num = int(input(\"정수를 입력하시오: \"))\n",
    "if num > 0:\n",
    "    print(\"양수\")\n",
    "elif num == 0:\n",
    "    print(\"0\")\n",
    "else:\n",
    "    print(\"음수\")"
   ]
  },
  {
   "cell_type": "code",
   "execution_count": 10,
   "metadata": {},
   "outputs": [
    {
     "name": "stdout",
     "output_type": "stream",
     "text": [
      "국가를 입력하시오: 한국\n",
      "도를 입력하시오: 서울\n",
      "배송료는 5000원입니다.\n"
     ]
    }
   ],
   "source": [
    "# 2. 인터넷 쇼핑몰에서 배송료를 계산하는 코드를 작성해보자.\n",
    "#    다만 한국에서 제주도를 제외한 모든 곳은 배송료가 5000원이고, 제주도는 10000원이다. 또 해외로 배송하는 경우 20000원이다.\n",
    "\n",
    "country = input(\"국가를 입력하시오: \")\n",
    "city = input(\"도를 입력하시오: \")\n",
    "\n",
    "if country != '한국':    # 해외\n",
    "    price = 20000\n",
    "elif city == '제주도':   # 국내 - 제주도\n",
    "    price = 10000\n",
    "else:                    # 국내 - 제주도 제외\n",
    "    price = 5000\n",
    "\n",
    "print(\"배송료는 \"+str(price)+\"원입니다.\")"
   ]
  },
  {
   "cell_type": "code",
   "execution_count": 14,
   "metadata": {},
   "outputs": [
    {
     "name": "stdout",
     "output_type": "stream",
     "text": [
      "2차 함수 : (a*x^2) + b*x + c\n",
      "a: 2\n",
      "b: -7\n",
      "c: 5\n",
      "두 개의 실근이 있습니다: 2.500000와 1.000000\n"
     ]
    }
   ],
   "source": [
    "# 3. 사용자가 2차 방정식의 각 계수를 입력하면 2차 방정식의 근 계산하여 출력\n",
    "#    2차 방정식의 판별식을 먼저 계산하여 하나의 실근을 가지는지, 2개의 실근을 갖는지, 실근이 존재하지 않는지 먼저 출력\n",
    "\n",
    "print(\"2차 함수 : (a*x^2) + b*x + c\")\n",
    "a = int(input(\"a: \"))\n",
    "b = int(input(\"b: \"))\n",
    "c = int(input(\"c: \"))\n",
    "\n",
    "d = (b**2)-(4*a*c)\n",
    "x1 = (-b+((b**2)-(4*a*c))**0.5)/(2*a)    # 근의 공식 사용\n",
    "x2 = (-b-((b**2)-(4*a*c))**0.5)/(2*a)\n",
    "\n",
    "if d > 0:\n",
    "    print(\"두 개의 실근이 있습니다: \"+ '%.6f'%x1 +\"와 \"+ '%.6f'%x2)\n",
    "elif d == 0:\n",
    "    print(\"한 개의 실근이 있습니다: \"+ '%.6f'%x1)\n",
    "else:\n",
    "    print(\"실근이 존재하지 않습니다.\")"
   ]
  },
  {
   "cell_type": "code",
   "execution_count": null,
   "metadata": {},
   "outputs": [],
   "source": []
  }
 ],
 "metadata": {
  "kernelspec": {
   "display_name": "Python 3",
   "language": "python",
   "name": "python3"
  },
  "language_info": {
   "codemirror_mode": {
    "name": "ipython",
    "version": 3
   },
   "file_extension": ".py",
   "mimetype": "text/x-python",
   "name": "python",
   "nbconvert_exporter": "python",
   "pygments_lexer": "ipython3",
   "version": "3.8.5"
  },
  "vp": {
   "base_numbering": 1,
   "nav_menu": {},
   "number_sections": true,
   "sideBar": true,
   "title_cell": "VisualPython",
   "title_sidebar": "VisualPython",
   "vpPosition": {
    "height": "calc(100% - 180px)",
    "right": "10px",
    "top": "110px",
    "width": "50%"
   },
   "vp_cell": false,
   "vp_section_display": true,
   "vp_window_display": false
  }
 },
 "nbformat": 4,
 "nbformat_minor": 4
}
