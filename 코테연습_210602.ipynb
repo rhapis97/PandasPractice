{
 "cells": [
  {
   "cell_type": "code",
   "execution_count": 1,
   "metadata": {},
   "outputs": [
    {
     "name": "stdout",
     "output_type": "stream",
     "text": [
      "c\n",
      "we\n"
     ]
    }
   ],
   "source": [
    "def solution(s):\n",
    "    answer = ''\n",
    "    if len(s)%2 == 0:    # 문자열 개수가 짝수일 때\n",
    "        answer += s[len(s)//2-1] + s[len(s)//2]    # 가운데 두 개 문자 출력\n",
    "    else:                # 문자열 개수가 홀수일 때\n",
    "        answer += s[len(s)//2]    # 가운데 한 개 문자 출력\n",
    "    return answer\n",
    "\n",
    "print(solution('abcde'))\n",
    "print(solution('qwer'))"
   ]
  },
  {
   "cell_type": "code",
   "execution_count": 2,
   "metadata": {},
   "outputs": [],
   "source": [
    "# 두 개 뽑아서 더하기\n",
    "# 문제 설명\n",
    "# 정수 배열 numbers가 주어집니다. \n",
    "# numbers에서 서로 다른 인덱스에 있는 두 개의 수를 뽑아 더해서 만들 수 있는 모든 수를 \n",
    "# 배열에 오름차순으로 담아 return 하도록 solution 함수를 완성해주세요.\n",
    "\n",
    "# 제한사항\n",
    "# numbers의 길이는 2 이상 100 이하입니다.\n",
    "# numbers의 모든 수는 0 이상 100 이하입니다."
   ]
  },
  {
   "cell_type": "code",
   "execution_count": 5,
   "metadata": {},
   "outputs": [
    {
     "name": "stdout",
     "output_type": "stream",
     "text": [
      "[2, 3, 4, 5, 6, 7]\n"
     ]
    }
   ],
   "source": [
    "# [5,0,2,7] -> [2,5,7,9,12]\n",
    "numbers = [2,1,3,4,1]\n",
    "\n",
    "my_list = []\n",
    "a=0\n",
    "for i in range(len(numbers)):\n",
    "    b = numbers[0]\n",
    "    numbers.pop(i-a)\n",
    "    a += 1\n",
    "    for j in range(len(numbers)):\n",
    "        my_list.append(b+numbers[j])\n",
    "answer = list(set(my_list))\n",
    "print(answer)"
   ]
  },
  {
   "cell_type": "code",
   "execution_count": 9,
   "metadata": {},
   "outputs": [
    {
     "name": "stdout",
     "output_type": "stream",
     "text": [
      "[2, 3, 4, 5, 6, 7]\n"
     ]
    }
   ],
   "source": [
    "numbers = [2,1,3,4,1]\n",
    "def solution(numbers):\n",
    "    my_list = []\n",
    "    a=0\n",
    "    for i in range(len(numbers)):\n",
    "        b = numbers[0]\n",
    "        numbers.pop(i-a)\n",
    "        a += 1\n",
    "        for j in range(len(numbers)):\n",
    "            my_list.append(b+numbers[j])\n",
    "    return sorted(list(set(my_list)))\n",
    "\n",
    "print(solution(numbers))"
   ]
  },
  {
   "cell_type": "code",
   "execution_count": 10,
   "metadata": {},
   "outputs": [
    {
     "name": "stdout",
     "output_type": "stream",
     "text": [
      "[2, 3, 4, 5, 6, 7]\n"
     ]
    }
   ],
   "source": [
    "def solution(numbers):\n",
    "    answer = []\n",
    "    for i in range(len(numbers)):\n",
    "        for j in range(i+1, len(numbers)):\n",
    "            answer.append(numbers[i] + numbers[j])\n",
    "    return sorted(list(set(answer)))\n",
    "numbers = [2,1,3,4,1]\n",
    "print(solution(numbers))"
   ]
  },
  {
   "cell_type": "code",
   "execution_count": 11,
   "metadata": {},
   "outputs": [],
   "source": [
    "# 하샤드 수\n",
    "# 문제 설명\n",
    "# 양의 정수 x가 하샤드 수이려면 x의 자릿수의 합으로 x가 나누어져야 합니다. \n",
    "# 예를 들어 18의 자릿수 합은 1+8=9이고, 18은 9로 나누어 떨어지므로 18은 하샤드 수입니다. \n",
    "# 자연수 x를 입력받아 x가 하샤드 수인지 아닌지 검사하는 함수, solution을 완성해주세요."
   ]
  },
  {
   "cell_type": "code",
   "execution_count": 23,
   "metadata": {},
   "outputs": [
    {
     "name": "stdout",
     "output_type": "stream",
     "text": [
      "9\n"
     ]
    }
   ],
   "source": [
    "x = 18\n",
    "a = 0\n",
    "for i in str(x):\n",
    "    a += int(i)\n",
    "if x % a == 0:\n",
    "    return True\n",
    "else:\n",
    "    return False"
   ]
  },
  {
   "cell_type": "code",
   "execution_count": 27,
   "metadata": {},
   "outputs": [
    {
     "name": "stdout",
     "output_type": "stream",
     "text": [
      "True\n"
     ]
    }
   ],
   "source": [
    "def solution(x):\n",
    "    a = 0\n",
    "    for i in str(x):\n",
    "        a += int(i)\n",
    "    if x % a == 0:\n",
    "        return True\n",
    "    else:\n",
    "        return False\n",
    "x = 12\n",
    "print(solution(x))"
   ]
  },
  {
   "cell_type": "code",
   "execution_count": 28,
   "metadata": {},
   "outputs": [
    {
     "name": "stdout",
     "output_type": "stream",
     "text": [
      "True\n"
     ]
    }
   ],
   "source": [
    "def Harshad(n):\n",
    "    # n은 하샤드 수 인가요?\n",
    "    return n % sum([int(c) for c in str(n)]) == 0\n",
    "\n",
    "# 아래는 테스트로 출력해 보기 위한 코드입니다.\n",
    "print(Harshad(18))"
   ]
  },
  {
   "cell_type": "code",
   "execution_count": 29,
   "metadata": {},
   "outputs": [],
   "source": [
    "# 콜라츠 추측\n",
    "# 문제 설명\n",
    "# 1937년 Collatz란 사람에 의해 제기된 이 추측은, \n",
    "# 주어진 수가 1이 될때까지 다음 작업을 반복하면, 모든 수를 1로 만들 수 있다는 추측입니다.\n",
    "# 작업은 다음과 같습니다.\n",
    "\n",
    "# 1-1. 입력된 수가 짝수라면 2로 나눕니다. \n",
    "# 1-2. 입력된 수가 홀수라면 3을 곱하고 1을 더합니다.\n",
    "# 2. 결과로 나온 수에 같은 작업을 1이 될 때까지 반복합니다.\n",
    "# 예를 들어, 입력된 수가 6이라면 6→3→10→5→16→8→4→2→1 이 되어 총 8번 만에 1이 됩니다. \n",
    "# 위 작업을 몇 번이나 반복해야하는지 반환하는 함수, solution을 완성해 주세요. \n",
    "# 단, 작업을 500번을 반복해도 1이 되지 않는다면 –1을 반환해 주세요.\n",
    "\n",
    "# 제한 사항\n",
    "# 입력된 수, num은 1 이상 8000000 미만인 정수입니다."
   ]
  },
  {
   "cell_type": "code",
   "execution_count": 31,
   "metadata": {},
   "outputs": [
    {
     "name": "stdout",
     "output_type": "stream",
     "text": [
      "1\n"
     ]
    }
   ],
   "source": [
    "num = 6\n",
    "a = 0\n",
    "while num != 1 or a == 500:\n",
    "    if num%2 == 0:  # 짝수\n",
    "        num = num//2\n",
    "        a += 1\n",
    "    else:           # 홀수\n",
    "        num = num*3+1\n",
    "        a += 1\n",
    "return num else False"
   ]
  },
  {
   "cell_type": "code",
   "execution_count": 43,
   "metadata": {},
   "outputs": [
    {
     "name": "stdout",
     "output_type": "stream",
     "text": [
      "4\n"
     ]
    }
   ],
   "source": [
    "def solution(num):\n",
    "    a = 0\n",
    "    while num != 1:\n",
    "        if num%2 == 0:  # 짝수\n",
    "            num = num//2\n",
    "            a += 1\n",
    "        else:           # 홀수\n",
    "            num = num*3+1\n",
    "            a += 1\n",
    "        if a >= 500:\n",
    "            return -1\n",
    "    return a\n",
    "num = 16\n",
    "print(solution(num))"
   ]
  }
 ],
 "metadata": {
  "kernelspec": {
   "display_name": "Python 3",
   "language": "python",
   "name": "python3"
  },
  "language_info": {
   "codemirror_mode": {
    "name": "ipython",
    "version": 3
   },
   "file_extension": ".py",
   "mimetype": "text/x-python",
   "name": "python",
   "nbconvert_exporter": "python",
   "pygments_lexer": "ipython3",
   "version": "3.8.5"
  },
  "vp": {
   "base_numbering": 1,
   "nav_menu": {},
   "number_sections": true,
   "sideBar": true,
   "title_cell": "VisualPython",
   "title_sidebar": "VisualPython",
   "vpPosition": {
    "height": "calc(100% - 180px)",
    "right": "10px",
    "top": "110px",
    "width": "50%"
   },
   "vp_cell": false,
   "vp_section_display": true,
   "vp_window_display": false
  }
 },
 "nbformat": 4,
 "nbformat_minor": 4
}
