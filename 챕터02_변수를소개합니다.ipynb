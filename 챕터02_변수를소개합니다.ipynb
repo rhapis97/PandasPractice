{
 "cells": [
  {
   "cell_type": "code",
   "execution_count": 1,
   "metadata": {},
   "outputs": [
    {
     "name": "stdout",
     "output_type": "stream",
     "text": [
      "100\n"
     ]
    }
   ],
   "source": [
    "x = 100\n",
    "print(x)"
   ]
  },
  {
   "cell_type": "code",
   "execution_count": 2,
   "metadata": {},
   "outputs": [
    {
     "name": "stdout",
     "output_type": "stream",
     "text": [
      "200\n"
     ]
    }
   ],
   "source": [
    "x = 100\n",
    "x = 200\n",
    "print(x)"
   ]
  },
  {
   "cell_type": "code",
   "execution_count": 4,
   "metadata": {},
   "outputs": [
    {
     "name": "stdout",
     "output_type": "stream",
     "text": [
      "300\n"
     ]
    }
   ],
   "source": [
    "x = 100\n",
    "y = 200\n",
    "sum = x+y\n",
    "print(sum)"
   ]
  },
  {
   "cell_type": "code",
   "execution_count": 5,
   "metadata": {},
   "outputs": [
    {
     "name": "stdout",
     "output_type": "stream",
     "text": [
      "x= 200\n",
      "y= 200\n"
     ]
    }
   ],
   "source": [
    "x = 100\n",
    "y = 200\n",
    "x = y\n",
    "print('x=',x)\n",
    "print('y=',y)"
   ]
  },
  {
   "cell_type": "code",
   "execution_count": 6,
   "metadata": {},
   "outputs": [
    {
     "name": "stdout",
     "output_type": "stream",
     "text": [
      "11\n"
     ]
    }
   ],
   "source": [
    "score = 10\n",
    "score = score+1\n",
    "print(score)"
   ]
  },
  {
   "cell_type": "code",
   "execution_count": 7,
   "metadata": {},
   "outputs": [
    {
     "name": "stdout",
     "output_type": "stream",
     "text": [
      "홍길동\n",
      "성춘향\n",
      "서울시 종로구 1번지\n"
     ]
    }
   ],
   "source": [
    "name1 = \"홍길동\"\n",
    "name2 = \"성춘향\"\n",
    "address = \"서울시 종로구 1번지\"\n",
    "\n",
    "print(name1)\n",
    "print(name2)\n",
    "print(address)"
   ]
  },
  {
   "cell_type": "code",
   "execution_count": 8,
   "metadata": {},
   "outputs": [
    {
     "name": "stdout",
     "output_type": "stream",
     "text": [
      "2356\n",
      "79\n"
     ]
    }
   ],
   "source": [
    "print(\"23\"+\"56\")\n",
    "print(23+56)"
   ]
  },
  {
   "cell_type": "code",
   "execution_count": 9,
   "metadata": {},
   "outputs": [
    {
     "name": "stdout",
     "output_type": "stream",
     "text": [
      "100 와 200 의 합은 300 입니다.\n"
     ]
    }
   ],
   "source": [
    "x = 100\n",
    "y = 200\n",
    "xum = x+y\n",
    "print(x,\"와\",y,\"의 합은\",sum,\"입니다.\")"
   ]
  },
  {
   "cell_type": "code",
   "execution_count": 10,
   "metadata": {},
   "outputs": [
    {
     "name": "stdout",
     "output_type": "stream",
     "text": [
      "5\n"
     ]
    }
   ],
   "source": [
    "a = input()"
   ]
  },
  {
   "cell_type": "code",
   "execution_count": 11,
   "metadata": {},
   "outputs": [
    {
     "data": {
      "text/plain": [
       "'5'"
      ]
     },
     "execution_count": 11,
     "metadata": {},
     "output_type": "execute_result"
    }
   ],
   "source": [
    "a"
   ]
  },
  {
   "cell_type": "code",
   "execution_count": 12,
   "metadata": {},
   "outputs": [
    {
     "name": "stdout",
     "output_type": "stream",
     "text": [
      "입력Hello\n"
     ]
    }
   ],
   "source": [
    "a = input(\"입력\")"
   ]
  },
  {
   "cell_type": "code",
   "execution_count": 13,
   "metadata": {},
   "outputs": [
    {
     "data": {
      "text/plain": [
       "'Hello'"
      ]
     },
     "execution_count": 13,
     "metadata": {},
     "output_type": "execute_result"
    }
   ],
   "source": [
    "a"
   ]
  },
  {
   "cell_type": "code",
   "execution_count": 14,
   "metadata": {},
   "outputs": [
    {
     "name": "stdout",
     "output_type": "stream",
     "text": [
      "이름을 입력하시오:이효주\n",
      "이효주 씨 안녕하세요?\n",
      "파이썬에 오신 것을 환영합니다.\n"
     ]
    }
   ],
   "source": [
    "name = input(\"이름을 입력하시오:\")\n",
    "print(name, '씨 안녕하세요?')\n",
    "print(\"파이썬에 오신 것을 환영합니다.\")"
   ]
  },
  {
   "cell_type": "code",
   "execution_count": 15,
   "metadata": {},
   "outputs": [
    {
     "name": "stdout",
     "output_type": "stream",
     "text": [
      "첫 번째 정수를 입력하시오:300\n",
      "두 번째 정수를 입력하시오:400\n",
      "300 와 400 의 합은 700 입니다.\n"
     ]
    }
   ],
   "source": [
    "x = int(input(\"첫 번째 정수를 입력하시오:\"))\n",
    "y = int(input(\"두 번째 정수를 입력하시오:\"))\n",
    "sum = x+y\n",
    "print(x,\"와\",y,\"의 합은\",sum,\"입니다.\")"
   ]
  },
  {
   "cell_type": "code",
   "execution_count": 16,
   "metadata": {},
   "outputs": [
    {
     "name": "stdout",
     "output_type": "stream",
     "text": [
      "첫 번째 정수를 입력하시오:300\n",
      "두 번째 정수를 입력하시오:400\n",
      "300 + 400 =, 700\n",
      "300 - 400 =, -100\n",
      "300 * 400 =, 120000\n",
      "300 / 400 =, 0.75\n"
     ]
    }
   ],
   "source": [
    "x = int(input(\"첫 번째 정수를 입력하시오:\"))\n",
    "y = int(input(\"두 번째 정수를 입력하시오:\"))\n",
    "\n",
    "print(x,\"+\",y,\"=,\",x+y)\n",
    "print(x,\"-\",y,\"=,\",x-y)\n",
    "print(x,\"*\",y,\"=,\",x*y)\n",
    "print(x,\"/\",y,\"=,\",x/y)"
   ]
  },
  {
   "cell_type": "code",
   "execution_count": 17,
   "metadata": {},
   "outputs": [
    {
     "name": "stdout",
     "output_type": "stream",
     "text": [
      "반지름이 10인 원의 넓이: 314.0\n",
      "반지름이 20인 원의 넓이: 1256.0\n",
      "반지름이 30인 원의 넓이: 2826.0\n",
      "반지름이 40인 원의 넓이: 5024.0\n",
      "반지름이 50인 원의 넓이: 7850.0\n"
     ]
    }
   ],
   "source": [
    "print(\"반지름이 10인 원의 넓이:\",10*10*3.14)\n",
    "print(\"반지름이 20인 원의 넓이:\",20*20*3.14)\n",
    "print(\"반지름이 30인 원의 넓이:\",30*30*3.14)\n",
    "print(\"반지름이 40인 원의 넓이:\",40*40*3.14)\n",
    "print(\"반지름이 50인 원의 넓이:\",50*50*3.14)"
   ]
  },
  {
   "cell_type": "code",
   "execution_count": 22,
   "metadata": {},
   "outputs": [
    {
     "name": "stdout",
     "output_type": "stream",
     "text": [
      "원의 반지름을 입력하시오:100\n",
      "원의 색깔을 입력하시오:blue\n"
     ]
    }
   ],
   "source": [
    "# 사용자로부터 원의 반지름과 색깔을 입력받아\n",
    "# radius와 color변수에 저장하고\n",
    "# 해당 크기와 색깔의 원을 그려주는 프로그램\n",
    "# (반지름은 자연수만 입력받는다고 가정)\n",
    "\n",
    "radius = int(input(\"원의 반지름을 입력하시오:\"))\n",
    "color = input(\"원의 색깔을 입력하시오:\")\n",
    "\n",
    "import turtle\n",
    "t = turtle.Turtle()\n",
    "t.shape(\"turtle\")\n",
    "t.color(color)\n",
    "t.begin_fill()\n",
    "t.circle(radius)\n",
    "t.end_fill()"
   ]
  },
  {
   "cell_type": "code",
   "execution_count": 23,
   "metadata": {},
   "outputs": [
    {
     "name": "stdout",
     "output_type": "stream",
     "text": [
      "측정 시간(초) 입력: 3\n",
      "자신의 위치에서 번개가 친 장소까지의 거리 = 1020 m\n"
     ]
    }
   ],
   "source": [
    "# 천둥번개가 발생한 곳은 얼마나 떨어져 있나?\n",
    "# 번개가 치고 천둥소리가 들리기까지의 시간(초)을 입력\n",
    "# 자신의 위치에서 천둥번개가 발생한 장소까지의 거리를 계산\n",
    "\n",
    "# 빛의 속도 = 약 30만km/s\n",
    "# 소리의 속도 = 약 340m/s\n",
    "\n",
    "sec = int(input(\"측정 시간(초) 입력: \"))\n",
    "print(\"자신의 위치에서 번개가 친 장소까지의 거리 =\",sec*340,'m')"
   ]
  },
  {
   "cell_type": "code",
   "execution_count": null,
   "metadata": {},
   "outputs": [],
   "source": []
  }
 ],
 "metadata": {
  "kernelspec": {
   "display_name": "Python 3",
   "language": "python",
   "name": "python3"
  },
  "language_info": {
   "codemirror_mode": {
    "name": "ipython",
    "version": 3
   },
   "file_extension": ".py",
   "mimetype": "text/x-python",
   "name": "python",
   "nbconvert_exporter": "python",
   "pygments_lexer": "ipython3",
   "version": "3.8.5"
  },
  "vp": {
   "base_numbering": 1,
   "nav_menu": {},
   "number_sections": true,
   "sideBar": true,
   "title_cell": "VisualPython",
   "title_sidebar": "VisualPython",
   "vpPosition": {
    "height": "calc(100% - 180px)",
    "right": "10px",
    "top": "110px",
    "width": "50%"
   },
   "vp_cell": false,
   "vp_section_display": true,
   "vp_window_display": false
  }
 },
 "nbformat": 4,
 "nbformat_minor": 4
}
