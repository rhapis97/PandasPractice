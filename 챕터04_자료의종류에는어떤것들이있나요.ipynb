{
 "cells": [
  {
   "cell_type": "code",
   "execution_count": 1,
   "metadata": {},
   "outputs": [
    {
     "name": "stdout",
     "output_type": "stream",
     "text": [
      "x = 10\n",
      "x = 3.14\n",
      "x = HelloWorld!\n"
     ]
    }
   ],
   "source": [
    "x = 10\n",
    "print('x =',x)\n",
    "\n",
    "x = 3.14\n",
    "print('x =',x)\n",
    "\n",
    "x = 'HelloWorld!'\n",
    "print('x =',x)"
   ]
  },
  {
   "cell_type": "code",
   "execution_count": 2,
   "metadata": {},
   "outputs": [
    {
     "name": "stdout",
     "output_type": "stream",
     "text": [
      "123\n"
     ]
    },
    {
     "data": {
      "text/plain": [
       "int"
      ]
     },
     "execution_count": 2,
     "metadata": {},
     "output_type": "execute_result"
    }
   ],
   "source": [
    "x = 123\n",
    "print(x)\n",
    "type(x)"
   ]
  },
  {
   "cell_type": "code",
   "execution_count": 3,
   "metadata": {},
   "outputs": [
    {
     "name": "stdout",
     "output_type": "stream",
     "text": [
      "-123\n"
     ]
    },
    {
     "data": {
      "text/plain": [
       "int"
      ]
     },
     "execution_count": 3,
     "metadata": {},
     "output_type": "execute_result"
    }
   ],
   "source": [
    "x = -123\n",
    "print(x)\n",
    "type(x)"
   ]
  },
  {
   "cell_type": "code",
   "execution_count": 5,
   "metadata": {},
   "outputs": [
    {
     "name": "stdout",
     "output_type": "stream",
     "text": [
      "0\n"
     ]
    },
    {
     "data": {
      "text/plain": [
       "int"
      ]
     },
     "execution_count": 5,
     "metadata": {},
     "output_type": "execute_result"
    }
   ],
   "source": [
    "x = 0\n",
    "print(x)\n",
    "type(x)"
   ]
  },
  {
   "cell_type": "code",
   "execution_count": 6,
   "metadata": {},
   "outputs": [
    {
     "name": "stdout",
     "output_type": "stream",
     "text": [
      "3.14\n"
     ]
    },
    {
     "data": {
      "text/plain": [
       "float"
      ]
     },
     "execution_count": 6,
     "metadata": {},
     "output_type": "execute_result"
    }
   ],
   "source": [
    "x = 3.14\n",
    "print(x)\n",
    "type(x)"
   ]
  },
  {
   "cell_type": "code",
   "execution_count": 7,
   "metadata": {},
   "outputs": [
    {
     "name": "stdout",
     "output_type": "stream",
     "text": [
      "-3.14\n"
     ]
    },
    {
     "data": {
      "text/plain": [
       "float"
      ]
     },
     "execution_count": 7,
     "metadata": {},
     "output_type": "execute_result"
    }
   ],
   "source": [
    "x = -3.14\n",
    "print(x)\n",
    "type(x)"
   ]
  },
  {
   "cell_type": "code",
   "execution_count": 8,
   "metadata": {},
   "outputs": [
    {
     "name": "stdout",
     "output_type": "stream",
     "text": [
      "0.0\n"
     ]
    },
    {
     "data": {
      "text/plain": [
       "float"
      ]
     },
     "execution_count": 8,
     "metadata": {},
     "output_type": "execute_result"
    }
   ],
   "source": [
    "x = 0.0\n",
    "print(x)\n",
    "type(x)"
   ]
  },
  {
   "cell_type": "code",
   "execution_count": 9,
   "metadata": {},
   "outputs": [
    {
     "data": {
      "text/plain": [
       "'hello'"
      ]
     },
     "execution_count": 9,
     "metadata": {},
     "output_type": "execute_result"
    }
   ],
   "source": [
    "\"hello\""
   ]
  },
  {
   "cell_type": "code",
   "execution_count": 10,
   "metadata": {},
   "outputs": [
    {
     "data": {
      "text/plain": [
       "'Hello'"
      ]
     },
     "execution_count": 10,
     "metadata": {},
     "output_type": "execute_result"
    }
   ],
   "source": [
    "msg = \"Hello\"\n",
    "msg"
   ]
  },
  {
   "cell_type": "code",
   "execution_count": 11,
   "metadata": {},
   "outputs": [
    {
     "name": "stdout",
     "output_type": "stream",
     "text": [
      "Hello\n"
     ]
    }
   ],
   "source": [
    "print(msg)"
   ]
  },
  {
   "cell_type": "code",
   "execution_count": 12,
   "metadata": {},
   "outputs": [
    {
     "name": "stdout",
     "output_type": "stream",
     "text": [
      "She said 'Hi'\n"
     ]
    }
   ],
   "source": [
    "# 파이썬에서 큰따옴표와 작은따옴표 둘 다를 사용하는 이유\n",
    "# 문자열 안에 따옴표가 들어가는 경우를 처리하기 위해서\n",
    "\n",
    "msg = \"She said 'Hi'\"\n",
    "print(msg)"
   ]
  },
  {
   "cell_type": "code",
   "execution_count": 13,
   "metadata": {},
   "outputs": [
    {
     "name": "stdout",
     "output_type": "stream",
     "text": [
      "300\n",
      "100200\n"
     ]
    }
   ],
   "source": [
    "# 문자열 \"100\"과 숫자 100은 컴퓨터에서는 아주 다르게 취급됨\n",
    "print(100+200)\n",
    "print(\"100\"+\"200\")"
   ]
  },
  {
   "cell_type": "code",
   "execution_count": 14,
   "metadata": {},
   "outputs": [
    {
     "name": "stdout",
     "output_type": "stream",
     "text": [
      "정수를 입력하시오: 100\n",
      "정수를 입력하시오: 200\n",
      "100200\n"
     ]
    }
   ],
   "source": [
    "x = input(\"정수를 입력하시오: \")\n",
    "y = input(\"정수를 입력하시오: \")\n",
    "print(x+y)    # 입력된 값은 문자열이라는 사실을 알 수 잇다."
   ]
  },
  {
   "cell_type": "code",
   "execution_count": 15,
   "metadata": {},
   "outputs": [
    {
     "name": "stdout",
     "output_type": "stream",
     "text": [
      "정수를 입력하시오: 100\n",
      "정수를 입력하시오: 200\n",
      "300\n"
     ]
    }
   ],
   "source": [
    "t = input(\"정수를 입력하시오: \")\n",
    "x = int(t)\n",
    "t = input(\"정수를 입력하시오: \")\n",
    "y = int(t)\n",
    "\n",
    "print(x+y)    # 따라서 문자열을 int를 사용하여 정수형으로 바꾸어주어야 숫자 계산 가능"
   ]
  },
  {
   "cell_type": "code",
   "execution_count": 16,
   "metadata": {},
   "outputs": [
    {
     "name": "stdout",
     "output_type": "stream",
     "text": [
      "실수를 입력하시오: 3.14\n",
      "실수를 입력하시오: 9.87\n",
      "13.01\n"
     ]
    }
   ],
   "source": [
    "x = float(input(\"실수를 입력하시오: \"))\n",
    "y = float(input(\"실수를 입력하시오: \"))\n",
    "print(x+y)"
   ]
  },
  {
   "cell_type": "code",
   "execution_count": 17,
   "metadata": {},
   "outputs": [
    {
     "ename": "TypeError",
     "evalue": "can only concatenate str (not \"int\") to str",
     "output_type": "error",
     "traceback": [
      "\u001b[1;31m---------------------------------------------------------------------------\u001b[0m",
      "\u001b[1;31mTypeError\u001b[0m                                 Traceback (most recent call last)",
      "\u001b[1;32m<ipython-input-17-6fdb32d937c8>\u001b[0m in \u001b[0;36m<module>\u001b[1;34m\u001b[0m\n\u001b[1;32m----> 1\u001b[1;33m \u001b[0mprint\u001b[0m\u001b[1;33m(\u001b[0m\u001b[1;34m\"나는 현재\"\u001b[0m\u001b[1;33m+\u001b[0m\u001b[1;36m17\u001b[0m\u001b[1;33m+\u001b[0m\u001b[1;34m\"살이다.\"\u001b[0m\u001b[1;33m)\u001b[0m    \u001b[1;31m#  문자열은 문자열만 연결할 수 있다. - 에러남\u001b[0m\u001b[1;33m\u001b[0m\u001b[1;33m\u001b[0m\u001b[0m\n\u001b[0m",
      "\u001b[1;31mTypeError\u001b[0m: can only concatenate str (not \"int\") to str"
     ]
    }
   ],
   "source": [
    "print(\"나는 현재\"+17+\"살이다.\")    #  문자열은 문자열만 연결할 수 있다. - 에러남"
   ]
  },
  {
   "cell_type": "code",
   "execution_count": 20,
   "metadata": {},
   "outputs": [
    {
     "name": "stdout",
     "output_type": "stream",
     "text": [
      "나는 현재 17살이다.\n",
      "원주율은 3.14입니다.\n"
     ]
    }
   ],
   "source": [
    "print('나는 현재 '+str(17)+'살이다.')\n",
    "print('원주율은 '+str(3.14)+'입니다.')"
   ]
  },
  {
   "cell_type": "code",
   "execution_count": 21,
   "metadata": {},
   "outputs": [
    {
     "data": {
      "text/plain": [
       "'HelloWorld'"
      ]
     },
     "execution_count": 21,
     "metadata": {},
     "output_type": "execute_result"
    }
   ],
   "source": [
    "'Hello'+\"World\""
   ]
  },
  {
   "cell_type": "code",
   "execution_count": 22,
   "metadata": {},
   "outputs": [
    {
     "name": "stdout",
     "output_type": "stream",
     "text": [
      "홍길동\n"
     ]
    }
   ],
   "source": [
    "first_name = '길동'\n",
    "last_name = '홍'\n",
    "name = last_name + first_name\n",
    "print(name)"
   ]
  },
  {
   "cell_type": "code",
   "execution_count": 23,
   "metadata": {},
   "outputs": [
    {
     "name": "stdout",
     "output_type": "stream",
     "text": [
      "Congratulations!Congratulations!Congratulations!\n"
     ]
    }
   ],
   "source": [
    "message = 'Congratulations!'\n",
    "print(message*3)"
   ]
  },
  {
   "cell_type": "code",
   "execution_count": 24,
   "metadata": {},
   "outputs": [
    {
     "name": "stdout",
     "output_type": "stream",
     "text": [
      "상품의 가격은 10000원입니다.\n"
     ]
    }
   ],
   "source": [
    "# '%s'를 이용하여 문자열 사이에 변수의 값을 삽입하여 출력할 수도 있습니다.\n",
    "\n",
    "price = 10000\n",
    "print(\"상품의 가격은 %s원입니다.\"%price)"
   ]
  },
  {
   "cell_type": "code",
   "execution_count": 26,
   "metadata": {},
   "outputs": [
    {
     "name": "stdout",
     "output_type": "stream",
     "text": [
      "이렇게 정다운\n",
      "너 하나 나 하나는\n",
      "어디서 무엇이 되어\n",
      "다시 만나랴.\n"
     ]
    }
   ],
   "source": [
    "poem = \"이렇게 정다운\\n너 하나 나 하나는\\n어디서 무엇이 되어\\n다시 만나랴.\"\n",
    "print(poem)"
   ]
  },
  {
   "cell_type": "code",
   "execution_count": 28,
   "metadata": {},
   "outputs": [
    {
     "name": "stdout",
     "output_type": "stream",
     "text": [
      "이렇게 정다운\n",
      "너 하나 나 하나는\n",
      "어디서 무엇이 되어\n",
      "다시 만나랴.\n"
     ]
    }
   ],
   "source": [
    "poem = '''이렇게 정다운\n",
    "너 하나 나 하나는\n",
    "어디서 무엇이 되어\n",
    "다시 만나랴.'''\n",
    "print(poem)"
   ]
  },
  {
   "cell_type": "code",
   "execution_count": 30,
   "metadata": {},
   "outputs": [
    {
     "name": "stdout",
     "output_type": "stream",
     "text": [
      "H\n",
      "e\n",
      "n\n"
     ]
    }
   ],
   "source": [
    "s = \"Hello Python\"\n",
    "print(s[0])\n",
    "print(s[1])\n",
    "print(s[-1])"
   ]
  },
  {
   "cell_type": "code",
   "execution_count": 34,
   "metadata": {},
   "outputs": [
    {
     "name": "stdout",
     "output_type": "stream",
     "text": [
      "Pyth\n",
      "Pyth\n",
      "HloPt\n",
      "noht\n"
     ]
    }
   ],
   "source": [
    "s = \"Hello Python\"\n",
    "# H   e   l   l   o   빈칸   P   y   t   h   o   n\n",
    "# 0   1   2   3   4    5     6   7   8   9  10  11\n",
    "# 12 11  10   9   8    7     6   5   4   3   2   1  (마이너스 부호일 때)\n",
    "\n",
    "print(s[6:10])      # 6 ~ 9까지\n",
    "print(s[-6:-2])     # -6 ~ -3까지\n",
    "print(s[0:10:2])    # 0 ~ 9까지 2간격으로\n",
    "print(s[-1:7:-1])   # 거꾸로"
   ]
  },
  {
   "cell_type": "code",
   "execution_count": 36,
   "metadata": {},
   "outputs": [
    {
     "name": "stdout",
     "output_type": "stream",
     "text": [
      "소금물의 농도를 구하는 프로그램입니다.\n",
      "소금의 양은 몇 g입니까? 50\n",
      "물의 양은 몇 g입니까? 80\n",
      "소금물의 농도: 38.46153846153847\n"
     ]
    }
   ],
   "source": [
    "# 소금물의 농도?\n",
    "# 소금의 양과 물의 양을 입력받아 소금물의 농도를 구하는 프로그램을 작성\n",
    "\n",
    "print(\"소금물의 농도를 구하는 프로그램입니다.\")\n",
    "salt = int(input(\"소금의 양은 몇 g입니까? \"))\n",
    "water = int(input(\"물의 양은 몇 g입니까? \"))\n",
    "salt_water = (salt/(salt+water))*100\n",
    "print(\"소금물의 농도:\",salt_water)"
   ]
  },
  {
   "cell_type": "code",
   "execution_count": 38,
   "metadata": {},
   "outputs": [
    {
     "name": "stdout",
     "output_type": "stream",
     "text": [
      "안녕하세요\n",
      "이름이 뭐예요? 이효주\n",
      "만나서 반갑습니다. 이효주 님\n",
      "이효주 님, 이름의 길이는 다음과 같군요: 3\n",
      "나이가 어떻게 돼요? 25\n",
      "내년이면 26세가 되시는군요\n"
     ]
    }
   ],
   "source": [
    "# 간단한 챗봇(ChatBot) 프로그램\n",
    "# 챗봇은 음성이나 문자를 통한 인간과의 대화를 통해서 \n",
    "# 특정한 작업을 수행하도록 제작된 컴퓨터 프로그램\n",
    "# 우리에게 이름과 나이를 물어보면서 대화하는 챗봇 프로그램을 작성\n",
    "\n",
    "print(\"안녕하세요\")\n",
    "name = input(\"이름이 뭐예요? \")\n",
    "print(\"만나서 반갑습니다.\", name, \"님\")\n",
    "print(name,\"님, 이름의 길이는 다음과 같군요:\",len(name))\n",
    "age = int(input(\"나이가 어떻게 돼요? \"))\n",
    "print(\"내년이면 \"+str(age+1)+\"세가 되시는군요\")"
   ]
  },
  {
   "cell_type": "code",
   "execution_count": 3,
   "metadata": {},
   "outputs": [],
   "source": [
    "# 거북이와 인사해봐요\n",
    "# 입력창을 아래와 같이 띄어 사용자로부터 이름을 입력받고,\n",
    "# 다음과 같이 거북이가 인사 메시지를 보내고\n",
    "# 기념으로 사각형을 그려주는 프로그램을 작성해 봅시다.\n",
    "\n",
    "import turtle\n",
    "t = turtle.Turtle()\n",
    "t.shape(\"turtle\")\n",
    "\n",
    "s = turtle.textinput(\"\", \"이름을 입력하시오: \")\n",
    "t.write(\"안녕하세요?\" + s + \"씨, 터틀 인사드립니다.\")\n",
    "\n",
    "t.left(90)\n",
    "t.forward(100)\n",
    "t.left(90)\n",
    "t.forward(100)\n",
    "t.left(90)\n",
    "t.forward(100)\n",
    "t.left(90)\n",
    "t.forward(100)\n"
   ]
  },
  {
   "cell_type": "code",
   "execution_count": 45,
   "metadata": {},
   "outputs": [
    {
     "name": "stdout",
     "output_type": "stream",
     "text": [
      "평문: 도서관에서 보자\n",
      "암호문: 자보 서에관서도\n"
     ]
    }
   ],
   "source": [
    "# 암호프로그램 만들기\n",
    "# 평문을 거꾸로 바꾸어 암호문을 만들기\n",
    "# '도서관에서 보자'라는 문장을 거꾸로 배열하여 암호로 만들어 주는 프로그램\n",
    "\n",
    "sen = \"도서관에서 보자\"\n",
    "list_sen = list(sen)\n",
    "list_reverse = list_sen[-1::-1]\n",
    "\n",
    "pw = ''\n",
    "for i in list_reverse:\n",
    "    pw += i\n",
    "\n",
    "print(\"평문:\", sen)\n",
    "print(\"암호문:\", pw)"
   ]
  },
  {
   "cell_type": "code",
   "execution_count": 1,
   "metadata": {},
   "outputs": [
    {
     "name": "stdout",
     "output_type": "stream",
     "text": [
      "올해는 2021년입니다.\n",
      "당신의 나이를 입력하세요: 25\n",
      "2050년에는 54살이군요.\n"
     ]
    }
   ],
   "source": [
    "# 2050년에 나는 몇 살?\n",
    "# 2050년의 우리의 나이를 계산해주는 프로그램을 작성\n",
    "import time\n",
    "now = time.time()\n",
    "thisYear = int(1970 + now//(365*24*3600))\n",
    "print(\"올해는 \"+str(thisYear)+\"년입니다.\")\n",
    "\n",
    "age = int(input(\"당신의 나이를 입력하세요: \"))\n",
    "\n",
    "print(\"2050년에는 \"+ str(age+2050-thisYear) +\"살이군요.\")"
   ]
  },
  {
   "cell_type": "code",
   "execution_count": null,
   "metadata": {},
   "outputs": [],
   "source": []
  },
  {
   "cell_type": "code",
   "execution_count": 1,
   "metadata": {},
   "outputs": [],
   "source": [
    "# 4장 추가 연습문제"
   ]
  },
  {
   "cell_type": "code",
   "execution_count": 2,
   "metadata": {},
   "outputs": [
    {
     "name": "stdout",
     "output_type": "stream",
     "text": [
      "문자열을 입력하시오: 청소\n",
      "청소하는 중\n"
     ]
    }
   ],
   "source": [
    "# 1. 다음과 같이 사용자가 입력한 문자열 뒤에 항상 \"하는 중\"을 붙이는 프로그램\n",
    "s = input(\"문자열을 입력하시오: \")\n",
    "print(s+\"하는 중\")"
   ]
  },
  {
   "cell_type": "code",
   "execution_count": 3,
   "metadata": {},
   "outputs": [
    {
     "name": "stdout",
     "output_type": "stream",
     "text": [
      "기호를 입력하시오: []\n",
      "중간에 삽입할 문자열을 입력하시오: python\n",
      "[python]\n"
     ]
    }
   ],
   "source": [
    "# 2. 사용자가 입력한 기호 안에 문자열을 삽입하려면 어떻게 해야 하는가?\n",
    "#    기호는 문자 2개로 이루어져 있다고 가정\n",
    "s = input(\"기호를 입력하시오: \")\n",
    "list = []\n",
    "for i in s:\n",
    "    list.append(i)\n",
    "s = input(\"중간에 삽입할 문자열을 입력하시오: \")\n",
    "print(list[0]+s+list[1])"
   ]
  },
  {
   "cell_type": "code",
   "execution_count": 4,
   "metadata": {},
   "outputs": [
    {
     "name": "stdout",
     "output_type": "stream",
     "text": [
      "드라이브 이름: c\n",
      "디렉토리 이름: \\test\\\n",
      "파일 이름: sample\n",
      "확장자: py\n",
      "\n",
      "\n",
      "완전한 이름은 c:\\test\\sample.py\n"
     ]
    }
   ],
   "source": [
    "# 3. 사용자로부터 파일이 위치한 드라이브 이름(c), 디렉토리 이름(\\test\\), 파일이름(sample), 확장자(py)를 받아서 \n",
    "#    완전한 파일 이름(c:\\test\\sample.py)으로 만드는 프로그램\n",
    "drive = input(\"드라이브 이름: \")\n",
    "directory = input(\"디렉토리 이름: \")\n",
    "file_name = input(\"파일 이름: \")\n",
    "extension = input(\"확장자: \")\n",
    "print('\\n')\n",
    "print(\"완전한 이름은 \"+ drive+\":\"+directory+file_name+'.'+extension)"
   ]
  },
  {
   "cell_type": "code",
   "execution_count": null,
   "metadata": {},
   "outputs": [],
   "source": []
  }
 ],
 "metadata": {
  "kernelspec": {
   "display_name": "Python 3",
   "language": "python",
   "name": "python3"
  },
  "language_info": {
   "codemirror_mode": {
    "name": "ipython",
    "version": 3
   },
   "file_extension": ".py",
   "mimetype": "text/x-python",
   "name": "python",
   "nbconvert_exporter": "python",
   "pygments_lexer": "ipython3",
   "version": "3.8.5"
  },
  "vp": {
   "base_numbering": 1,
   "nav_menu": {},
   "number_sections": true,
   "sideBar": true,
   "title_cell": "VisualPython",
   "title_sidebar": "VisualPython",
   "vpPosition": {
    "height": "calc(100% - 180px)",
    "right": "10px",
    "top": "110px",
    "width": "50%"
   },
   "vp_cell": false,
   "vp_section_display": true,
   "vp_window_display": false
  }
 },
 "nbformat": 4,
 "nbformat_minor": 4
}
