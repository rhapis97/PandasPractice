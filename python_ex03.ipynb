{
 "cells": [
  {
   "cell_type": "code",
   "execution_count": 1,
   "metadata": {},
   "outputs": [
    {
     "name": "stdout",
     "output_type": "stream",
     "text": [
      "# 리스트 뒤에 요소 추가하기\n",
      "[1, 2, 3, 4]\n"
     ]
    }
   ],
   "source": [
    "# 리스트를 선언\n",
    "list_a = [1,2,3]\n",
    "\n",
    "# 리스트 뒤에 요소 추가\n",
    "print(\"# 리스트 뒤에 요소 추가하기\")\n",
    "list_a.append(4)\n",
    "print(list_a)"
   ]
  },
  {
   "cell_type": "code",
   "execution_count": 2,
   "metadata": {},
   "outputs": [
    {
     "name": "stdout",
     "output_type": "stream",
     "text": [
      "# 리스트 중간에 요소 추가하기\n",
      "[10, 1, 2, 3, 4]\n"
     ]
    }
   ],
   "source": [
    "print(\"# 리스트 중간에 요소 추가하기\")\n",
    "list_a.insert(0,10)     # insert(위치, 값)\n",
    "print(list_a)"
   ]
  },
  {
   "cell_type": "code",
   "execution_count": 3,
   "metadata": {},
   "outputs": [
    {
     "name": "stdout",
     "output_type": "stream",
     "text": [
      "[1, 2, 3, 4, 5, 6]\n"
     ]
    }
   ],
   "source": [
    "list_a = [1,2,3]\n",
    "list_a.extend([4,5,6])  # extend() -> 여러 요소를 한 번에 집어 넣기\n",
    "print(list_a)"
   ]
  },
  {
   "cell_type": "code",
   "execution_count": 4,
   "metadata": {},
   "outputs": [
    {
     "name": "stdout",
     "output_type": "stream",
     "text": [
      "[1, 2, 3, 4, 5, 6]\n",
      "[1, 2, 3]\n",
      "[4, 5, 6]\n"
     ]
    }
   ],
   "source": [
    "list_a = [1,2,3]\n",
    "list_b = [4,5,6]\n",
    "print(list_a + list_b)\n",
    "print(list_a)\n",
    "print(list_b)\n",
    "\n",
    "# 비파괴적 처리"
   ]
  },
  {
   "cell_type": "code",
   "execution_count": 5,
   "metadata": {},
   "outputs": [
    {
     "name": "stdout",
     "output_type": "stream",
     "text": [
      "[1, 2, 3, 4, 5, 6]\n"
     ]
    }
   ],
   "source": [
    "list_a.extend(list_b)\n",
    "print(list_a)\n",
    "\n",
    "# 파괴적 처리"
   ]
  },
  {
   "cell_type": "markdown",
   "metadata": {},
   "source": [
    "리스트 요소 제거하기\n",
    "- 인덱스로 제거: del(키워드), pop(함수)\n",
    "- 값으로 제거: remove(함수)\n",
    "- 모두 제거: clear(함수)"
   ]
  },
  {
   "cell_type": "code",
   "execution_count": 7,
   "metadata": {},
   "outputs": [
    {
     "name": "stdout",
     "output_type": "stream",
     "text": [
      "# 리스트의 요소 하나 제거하기\n",
      "[1, 2, 3, 4, 5]\n",
      "[0, 1, 2, 4, 5]\n"
     ]
    }
   ],
   "source": [
    "list_a = [0,1,2,3,4,5]\n",
    "print(\"# 리스트의 요소 하나 제거하기\")\n",
    "\n",
    "# 제거 방법1 - del\n",
    "del list_a[0]\n",
    "print(list_a)\n",
    "\n",
    "# 제거 방법2 - pop\n",
    "list_a = [0,1,2,3,4,5]\n",
    "list_a.pop(3)\n",
    "print(list_a)\n"
   ]
  },
  {
   "cell_type": "code",
   "execution_count": 1,
   "metadata": {},
   "outputs": [
    {
     "name": "stdout",
     "output_type": "stream",
     "text": [
      "[0, 1, 2, 6]\n"
     ]
    }
   ],
   "source": [
    "list_b = [0,1,2,3,4,5,6]\n",
    "del list_b[3:6]     # 3-5까지 지움 -> 0,1,2,6\n",
    "print(list_b)"
   ]
  },
  {
   "cell_type": "code",
   "execution_count": 2,
   "metadata": {},
   "outputs": [
    {
     "name": "stdout",
     "output_type": "stream",
     "text": [
      "[3, 4, 5, 6]\n"
     ]
    }
   ],
   "source": [
    "list_c = [0,1,2,3,4,5,6]\n",
    "del list_c[:3]     # 2까지 지움 -> 3,4,5,6\n",
    "print(list_c)"
   ]
  },
  {
   "cell_type": "code",
   "execution_count": 3,
   "metadata": {},
   "outputs": [
    {
     "name": "stdout",
     "output_type": "stream",
     "text": [
      "[0, 1, 2]\n"
     ]
    }
   ],
   "source": [
    "list_d = [0,1,2,3,4,5,6]\n",
    "del list_d[3:]     # 3부터 끝까지 지움 -> 0,1,2\n",
    "print(list_d)"
   ]
  },
  {
   "cell_type": "code",
   "execution_count": 4,
   "metadata": {},
   "outputs": [
    {
     "name": "stdout",
     "output_type": "stream",
     "text": [
      "[1, 1, 2]\n"
     ]
    }
   ],
   "source": [
    "# 값으로 제거하기: remove()\n",
    "list_c = [1,2,1,2]\n",
    "list_c.remove(2)   # 처음 발견되는 2만 지움\n",
    "print(list_c)"
   ]
  },
  {
   "cell_type": "code",
   "execution_count": 5,
   "metadata": {},
   "outputs": [
    {
     "name": "stdout",
     "output_type": "stream",
     "text": [
      "[]\n"
     ]
    }
   ],
   "source": [
    "# 모두 제거하기: clear()\n",
    "list_d = [0,1,2,3,4,5]\n",
    "list_d.clear()\n",
    "print(list_d)"
   ]
  },
  {
   "cell_type": "code",
   "execution_count": 9,
   "metadata": {},
   "outputs": [
    {
     "name": "stdout",
     "output_type": "stream",
     "text": [
      "True\n",
      "False\n",
      "False\n",
      "True\n"
     ]
    }
   ],
   "source": [
    "# 리스트 내부에 있는지 확인하기 in / not in 연산자\n",
    "list_a = [273,32,103,57,52]\n",
    "print(273 in list_a)\n",
    "print(273 not in list_a)\n",
    "print(1 in list_a)\n",
    "print(1 not in list_a)"
   ]
  },
  {
   "cell_type": "code",
   "execution_count": 11,
   "metadata": {},
   "outputs": [
    {
     "name": "stdout",
     "output_type": "stream",
     "text": [
      "출력\n",
      "출력\n",
      "출력\n",
      "출력\n",
      "출력\n",
      "출력\n",
      "출력\n",
      "출력\n",
      "출력\n",
      "출력\n"
     ]
    }
   ],
   "source": [
    "# for 반복문\n",
    "for i in range(10):     # range 안에는 \"모든 자료\"가 다 들어감 -> 리스트도 들어감!!!\n",
    "    print(\"출력\")"
   ]
  },
  {
   "cell_type": "code",
   "execution_count": 12,
   "metadata": {},
   "outputs": [
    {
     "name": "stdout",
     "output_type": "stream",
     "text": [
      "273\n",
      "32\n",
      "103\n",
      "57\n",
      "52\n"
     ]
    }
   ],
   "source": [
    "array = [273,32,103,57,52]\n",
    "for element in array:\n",
    "    print(element)"
   ]
  },
  {
   "cell_type": "code",
   "execution_count": 13,
   "metadata": {},
   "outputs": [
    {
     "name": "stdout",
     "output_type": "stream",
     "text": [
      "- 안\n",
      "- 녕\n",
      "- 하\n",
      "- 세\n",
      "- 요\n"
     ]
    }
   ],
   "source": [
    "for char in \"안녕하세요\":\n",
    "    print(\"-\", char)"
   ]
  },
  {
   "cell_type": "code",
   "execution_count": 20,
   "metadata": {},
   "outputs": [
    {
     "name": "stdout",
     "output_type": "stream",
     "text": [
      "[0, 1, 2, 3, 4, 5, 6, 7, 0, 1, 2, 3, 4, 5, 6, 7]\n",
      "[0, 1, 2, 3, 4, 5, 6, 7, 10]\n",
      "[0, 1, 2, 0, 3, 4, 5, 6, 7]\n",
      "[0, 1, 2, 4, 5, 6, 7]\n",
      "[0, 1, 2, 4, 5, 6, 7]\n",
      "[]\n"
     ]
    }
   ],
   "source": [
    "# 157페이지 1번 문제\n",
    "list_a = [0,1,2,3,4,5,6,7]\n",
    "list_a.extend(list_a)\n",
    "print(list_a)\n",
    "\n",
    "list_a = [0,1,2,3,4,5,6,7]\n",
    "list_a.append(10)\n",
    "print(list_a)\n",
    "\n",
    "list_a = [0,1,2,3,4,5,6,7]\n",
    "list_a.insert(3,0)\n",
    "print(list_a)\n",
    "\n",
    "list_a = [0,1,2,3,4,5,6,7]\n",
    "list_a.remove(3)\n",
    "print(list_a)\n",
    "\n",
    "list_a = [0,1,2,3,4,5,6,7]\n",
    "list_a.pop(3)\n",
    "print(list_a)\n",
    "\n",
    "list_a = [0,1,2,3,4,5,6,7]\n",
    "list_a.clear()\n",
    "print(list_a)"
   ]
  },
  {
   "cell_type": "code",
   "execution_count": 24,
   "metadata": {},
   "outputs": [
    {
     "name": "stdout",
     "output_type": "stream",
     "text": [
      "273\n",
      "103\n",
      "800\n"
     ]
    }
   ],
   "source": [
    "# 158페이지 2번 문제\n",
    "numbers = [273,103,5,32,65,9,72,800,99]\n",
    "for number in numbers:\n",
    "    if number >= 100:\n",
    "        print(number)"
   ]
  },
  {
   "cell_type": "code",
   "execution_count": 26,
   "metadata": {},
   "outputs": [
    {
     "name": "stdout",
     "output_type": "stream",
     "text": [
      "273 는 홀수입니다.\n",
      "103 는 홀수입니다.\n",
      "5 는 홀수입니다.\n",
      "32 는 짝수입니다.\n",
      "65 는 홀수입니다.\n",
      "9 는 홀수입니다.\n",
      "72 는 짝수입니다.\n",
      "800 는 짝수입니다.\n",
      "99 는 홀수입니다.\n"
     ]
    }
   ],
   "source": [
    "# 158페이지 3-1번 문제\n",
    "numbers = [273,103,5,32,65,9,72,800,99]\n",
    "for num in numbers:\n",
    "    if num%2 == 0:\n",
    "        print(num,\"는 짝수입니다.\")\n",
    "    else:\n",
    "        print(num,\"는 홀수입니다.\")"
   ]
  },
  {
   "cell_type": "code",
   "execution_count": 30,
   "metadata": {},
   "outputs": [
    {
     "name": "stdout",
     "output_type": "stream",
     "text": [
      "273 는 3 자릿수입니다.\n",
      "103 는 3 자릿수입니다.\n",
      "5 는 1 자릿수입니다.\n",
      "32 는 2 자릿수입니다.\n",
      "65 는 2 자릿수입니다.\n",
      "9 는 1 자릿수입니다.\n",
      "72 는 2 자릿수입니다.\n",
      "800 는 3 자릿수입니다.\n",
      "99 는 2 자릿수입니다.\n"
     ]
    }
   ],
   "source": [
    "# 158페이지 3-2번 문제\n",
    "numbers = [273,103,5,32,65,9,72,800,99]\n",
    "for num in numbers:\n",
    "    print(num,\"는\",len(str(num)),\"자릿수입니다.\")"
   ]
  },
  {
   "cell_type": "code",
   "execution_count": 32,
   "metadata": {},
   "outputs": [
    {
     "name": "stdout",
     "output_type": "stream",
     "text": [
      "1\n",
      "2\n",
      "3\n",
      "4\n",
      "5\n",
      "6\n",
      "7\n",
      "8\n",
      "9\n"
     ]
    }
   ],
   "source": [
    "# 159페이지 4번 문제\n",
    "list_of_list = [\n",
    "    [1,2,3],\n",
    "    [4,5,6,7],\n",
    "    [8,9]\n",
    "]\n",
    "for a in list_of_list:\n",
    "    for b in a:\n",
    "        print(b)"
   ]
  },
  {
   "cell_type": "code",
   "execution_count": 33,
   "metadata": {},
   "outputs": [
    {
     "name": "stdout",
     "output_type": "stream",
     "text": [
      "[[1, 4, 7], [2, 5, 8], [3, 6, 9]]\n"
     ]
    }
   ],
   "source": [
    "# 159페이지 5번 문제\n",
    "numbers = [1,2,3,4,5,6,7,8,9]\n",
    "output = [[],[],[]]\n",
    "\n",
    "for number in numbers:\n",
    "    output[(number-1)%3].append(number)\n",
    "    \n",
    "print(output)"
   ]
  },
  {
   "cell_type": "code",
   "execution_count": 35,
   "metadata": {},
   "outputs": [
    {
     "name": "stdout",
     "output_type": "stream",
     "text": [
      "{'name': '어밴저스 엔드게임', 'type': '히어로 무비'}\n"
     ]
    }
   ],
   "source": [
    "# 딕셔너리와 반복문          # 딕셔너리 안에는 다양한 자료가 들어감!! 리스트와 딕셔너리도 들어감!!!!!\n",
    "dict_a = {\n",
    "    \"name\": \"어밴저스 엔드게임\",\n",
    "    \"type\": \"히어로 무비\"\n",
    "}\n",
    "print(dict_a)"
   ]
  },
  {
   "cell_type": "code",
   "execution_count": 38,
   "metadata": {},
   "outputs": [
    {
     "name": "stdout",
     "output_type": "stream",
     "text": [
      "{'director': ['안소니 루소', '조 루소'], 'cast': ['아이언맨', '타노스', '토르', '닥터스트레인지', '헐크']}\n",
      "['아이언맨', '타노스', '토르', '닥터스트레인지', '헐크']\n"
     ]
    }
   ],
   "source": [
    "dict_b = {\n",
    "    \"director\": [\"안소니 루소\",\"조 루소\"],\n",
    "    \"cast\": [\"아이언맨\",\"타노스\",\"토르\",\"닥터스트레인지\",\"헐크\"]\n",
    "}\n",
    "print(dict_b)\n",
    "print(dict_b[\"cast\"])"
   ]
  },
  {
   "cell_type": "code",
   "execution_count": 42,
   "metadata": {},
   "outputs": [
    {
     "name": "stdout",
     "output_type": "stream",
     "text": [
      "name: 7D 건조 망고\n",
      "type: 당절임\n",
      "ingredient: ['망고', '설탕', '메타중아황산나트륨', '치자황색소']\n",
      "origin: 필리핀\n",
      "\n",
      "name: 8D 건조 망고\n",
      "\n",
      "설탕\n"
     ]
    }
   ],
   "source": [
    "# 딕셔너리의 요소에 접근하기\n",
    "\n",
    "# 딕셔너리를 선언합니다.\n",
    "dictionary = {\n",
    "    \"name\": \"7D 건조 망고\",\n",
    "    \"type\": \"당절임\",\n",
    "    \"ingredient\": [\"망고\",\"설탕\",\"메타중아황산나트륨\",\"치자황색소\"],\n",
    "    \"origin\": \"필리핀\"\n",
    "}\n",
    "\n",
    "# 출력합니다\n",
    "print(\"name:\", dictionary[\"name\"])\n",
    "print(\"type:\", dictionary[\"type\"])\n",
    "print(\"ingredient:\", dictionary[\"ingredient\"])\n",
    "print(\"origin:\", dictionary[\"origin\"])\n",
    "print()\n",
    "\n",
    "# 값을 변경합니다.\n",
    "dictionary[\"name\"] = \"8D 건조 망고\"\n",
    "print(\"name:\", dictionary[\"name\"])\n",
    "print()\n",
    "\n",
    "print(dictionary[\"ingredient\"][1])"
   ]
  },
  {
   "cell_type": "code",
   "execution_count": 44,
   "metadata": {},
   "outputs": [
    {
     "ename": "NameError",
     "evalue": "name 'name' is not defined",
     "output_type": "error",
     "traceback": [
      "\u001b[1;31m---------------------------------------------------------------------------\u001b[0m",
      "\u001b[1;31mNameError\u001b[0m                                 Traceback (most recent call last)",
      "\u001b[1;32m<ipython-input-44-9039f3af1a80>\u001b[0m in \u001b[0;36m<module>\u001b[1;34m\u001b[0m\n\u001b[0;32m      1\u001b[0m dict_key = {\n\u001b[1;32m----> 2\u001b[1;33m     \u001b[0mname\u001b[0m\u001b[1;33m:\u001b[0m \u001b[1;34m\"7D 건조 망고\"\u001b[0m\u001b[1;33m,\u001b[0m\u001b[1;33m\u001b[0m\u001b[1;33m\u001b[0m\u001b[0m\n\u001b[0m\u001b[0;32m      3\u001b[0m     \u001b[0mtype\u001b[0m\u001b[1;33m:\u001b[0m \u001b[1;34m\"당절임\"\u001b[0m\u001b[1;33m\u001b[0m\u001b[1;33m\u001b[0m\u001b[0m\n\u001b[0;32m      4\u001b[0m }\n",
      "\u001b[1;31mNameError\u001b[0m: name 'name' is not defined"
     ]
    }
   ],
   "source": [
    "dict_key = {\n",
    "    name: \"7D 건조 망고\",\n",
    "    type: \"당절임\"\n",
    "}\n",
    "# 반드시 카값에 따옴표 붙여줍시다."
   ]
  },
  {
   "cell_type": "code",
   "execution_count": 46,
   "metadata": {},
   "outputs": [
    {
     "name": "stdout",
     "output_type": "stream",
     "text": [
      "{'name': '8D 건조 망고', 'type': '당절임', 'ingredient': ['망고', '설탕', '메타중아황산나트륨', '치자황색소'], 'origin': '필리핀', 'price': 5000}\n",
      "{'name': '8D 건조 망고', 'type': '당절임', 'ingredient': ['망고', '설탕', '메타중아황산나트륨', '치자황색소'], 'origin': '필리핀'}\n"
     ]
    }
   ],
   "source": [
    "# 딕셔너리에 값 추가하기/제거하기\n",
    "\n",
    "dictionary[\"price\"] = 5000\n",
    "print(dictionary)\n",
    "del dictionary[\"price\"]\n",
    "print(dictionary)"
   ]
  },
  {
   "cell_type": "code",
   "execution_count": 47,
   "metadata": {},
   "outputs": [
    {
     "name": "stdout",
     "output_type": "stream",
     "text": [
      "요소 추가 이전: {}\n",
      "요소 추가 이후: {'name': '새로운 이름', 'head': '새로운 정신', 'body': '새로운 몸'}\n"
     ]
    }
   ],
   "source": [
    "# 딕셔너리에 요소 추가하기\n",
    "\n",
    "# 딕셔너리를 선언합니다.\n",
    "dictionary = {}\n",
    "\n",
    "# 요소 추가 전에 내용을 출력해 봅니다.\n",
    "print(\"요소 추가 이전:\", dictionary)\n",
    "\n",
    "# 딕셔너리에 요소를 추가합니다.\n",
    "dictionary[\"name\"] = \"새로운 이름\"\n",
    "dictionary[\"head\"] = \"새로운 정신\"\n",
    "dictionary[\"body\"] = \"새로운 몸\"\n",
    "\n",
    "# 출력합니다.\n",
    "print(\"요소 추가 이후:\", dictionary)"
   ]
  },
  {
   "cell_type": "code",
   "execution_count": 48,
   "metadata": {},
   "outputs": [
    {
     "name": "stdout",
     "output_type": "stream",
     "text": [
      "요소 제거 이전: {'name': '7D 건조 망고', 'type': '당절임'}\n",
      "요소 제거 이후: {}\n"
     ]
    }
   ],
   "source": [
    "# 딕셔너리에 요소 제거하기\n",
    "\n",
    "# 딕셔너리를 선언합니다.\n",
    "dictionary = {\n",
    "    \"name\": \"7D 건조 망고\",\n",
    "    \"type\": \"당절임\"\n",
    "}\n",
    "\n",
    "# 요소 제거 전에 내용을 출력해 봅니다.\n",
    "print(\"요소 제거 이전:\", dictionary)\n",
    "\n",
    "# 딕셔너리의 요소를 제거합니다.\n",
    "del dictionary[\"name\"]\n",
    "del dictionary[\"type\"]\n",
    "\n",
    "# 요소 제거 후에 내용을 출력해 봅니다.\n",
    "print(\"요소 제거 이후:\", dictionary)"
   ]
  },
  {
   "cell_type": "code",
   "execution_count": 58,
   "metadata": {},
   "outputs": [
    {
     "name": "stdout",
     "output_type": "stream",
     "text": [
      "> 접근하고자 하는 키: ingredient\n",
      "['망고', '설탕', '메타중아황산나트륨', '치자황색소']\n"
     ]
    }
   ],
   "source": [
    "# 딕셔너리 내부에 키가 있는지 확인하기\n",
    "\n",
    "# 딕셔너리를 선언합니다.\n",
    "dictionary = {\n",
    "    \"name\": \"7D 건조 망고\",\n",
    "    \"type\": \"당절임\",\n",
    "    \"ingredient\": [\"망고\",\"설탕\",\"메타중아황산나트륨\",\"치자황색소\"],\n",
    "    \"origin\": \"필리핀\"\n",
    "}\n",
    "\n",
    "# 사용자로부터 입력을 받습니다.\n",
    "key = input(\"> 접근하고자 하는 키: \")\n",
    "\n",
    "# 출력합니다.\n",
    "if key in dictionary:\n",
    "    print(dictionary[key])\n",
    "else:\n",
    "    print(\"존재하지 않는 키에 접근하고 있습니다.\")"
   ]
  },
  {
   "cell_type": "code",
   "execution_count": 62,
   "metadata": {},
   "outputs": [
    {
     "name": "stdout",
     "output_type": "stream",
     "text": [
      "값: 7D 건조 망고\n"
     ]
    }
   ],
   "source": [
    "# 키가 존재하지 않을 때 None을 출력하는지 확인하기\n",
    "\n",
    "# 딕셔너리를 선언합니다.\n",
    "dictionary = {\n",
    "    \"name\": \"7D 건조 망고\",\n",
    "    \"type\": \"당절임\",\n",
    "    \"ingredient\": [\"망고\",\"설탕\",\"메타중아황산나트륨\",\"치자황색소\"],\n",
    "    \"origin\": \"필리핀\"\n",
    "}\n",
    "\n",
    "# 존재하지 않는 키에 접근해 봅니다.\n",
    "value = dictionary.get(\"name\")          # 존재하는 키를 get()에 입력하면 정상적으로 출력\n",
    "print(\"값:\",value)\n",
    "\n",
    "# None 확인 방법\n",
    "if value == None:\n",
    "    print(\"존재하지 않는 키에 접근했었습니다.\")    # 없는 키를 get()에 입력하면 출력됨"
   ]
  },
  {
   "cell_type": "code",
   "execution_count": 63,
   "metadata": {},
   "outputs": [
    {
     "name": "stdout",
     "output_type": "stream",
     "text": [
      "name : 7D 건조 망고\n",
      "type : 당절임\n",
      "ingredient : ['망고', '설탕', '메타중아황산나트륨', '치자황색소']\n",
      "origin : 필리핀\n"
     ]
    }
   ],
   "source": [
    "# for 반복문: 딕셔너리와 함께 사용하기\n",
    "\n",
    "# 딕셔너리를 선언합니다.\n",
    "dictionary = {\n",
    "    \"name\": \"7D 건조 망고\",\n",
    "    \"type\": \"당절임\",\n",
    "    \"ingredient\": [\"망고\",\"설탕\",\"메타중아황산나트륨\",\"치자황색소\"],\n",
    "    \"origin\": \"필리핀\"\n",
    "}\n",
    "\n",
    "# for 반복문을 사용합니다.\n",
    "for key in dictionary:\n",
    "    # 출력합니다.\n",
    "    print(key, \":\", dictionary[key])"
   ]
  },
  {
   "cell_type": "code",
   "execution_count": 66,
   "metadata": {},
   "outputs": [
    {
     "name": "stdout",
     "output_type": "stream",
     "text": [
      "{'name': '구름'}\n",
      "{}\n"
     ]
    }
   ],
   "source": [
    "# 171페이지 1번 문제\n",
    "dict_a = {}\n",
    "dict_a[\"name\"] = \"구름\"\n",
    "print(dict_a)\n",
    "\n",
    "dict_a.clear()\n",
    "print(dict_a)"
   ]
  },
  {
   "cell_type": "code",
   "execution_count": 77,
   "metadata": {},
   "outputs": [
    {
     "name": "stdout",
     "output_type": "stream",
     "text": [
      "# 우리 동네 애완 동물들\n",
      "구름 5살\n",
      "초코 3살\n",
      "아지 1살\n",
      "호랑이 1살\n"
     ]
    }
   ],
   "source": [
    "# 171페이지 2번 문제\n",
    "pets = [\n",
    "    {\"name\": \"구름\", \"age\": 5},\n",
    "    {\"name\": \"초코\", \"age\": 3},\n",
    "    {\"name\": \"아지\", \"age\": 1},\n",
    "    {\"name\": \"호랑이\", \"age\": 1}\n",
    "]\n",
    "\n",
    "print(\"# 우리 동네 애완 동물들\")\n",
    "for a in pets:\n",
    "    print(a[\"name\"],str(a[\"age\"])+\"살\")\n"
   ]
  },
  {
   "cell_type": "code",
   "execution_count": 83,
   "metadata": {},
   "outputs": [
    {
     "name": "stdout",
     "output_type": "stream",
     "text": [
      "{1: 3, 2: 4, 6: 1, 8: 2, 4: 3, 3: 3, 9: 3, 5: 2, 7: 2}\n"
     ]
    }
   ],
   "source": [
    "# 172페이지 3번 문제\n",
    "\n",
    "# 숫자는 무작위로 입력해도 상관 없습니다.\n",
    "numbers = [1,2,6,8,4,3,2,1,9,5,4,9,7,2,1,3,5,4,8,9,7,2,3]\n",
    "counter = {}\n",
    "\n",
    "for number in numbers:\n",
    "    if number not in counter:\n",
    "        counter[number] = 1 # 초기값\n",
    "    else:\n",
    "        counter[number] += 1\n",
    "\n",
    "print(counter)"
   ]
  },
  {
   "cell_type": "code",
   "execution_count": 103,
   "metadata": {},
   "outputs": [
    {
     "name": "stdout",
     "output_type": "stream",
     "text": [
      "name : 기사\n",
      "level : 12\n",
      "sword : 불꽃의 검\n",
      "armor : 풀플레이트\n",
      "skill : 베기\n",
      "skill : 세게 베기\n",
      "skill : 아주 세게 베기\n"
     ]
    }
   ],
   "source": [
    "# 173페이지 4번 문제\n",
    "\n",
    "# 딕셔너리를 선언합니다.\n",
    "character = {\n",
    "    \"name\": \"기사\",\n",
    "    \"level\": 12,\n",
    "    \"items\": {\n",
    "        \"sword\": \"불꽃의 검\",\n",
    "        \"armor\": \"풀플레이트\"\n",
    "    },\n",
    "    \"skill\": [\"베기\",\"세게 베기\",\"아주 세게 베기\"]\n",
    "}\n",
    "\n",
    "# for 반복문을 사용합니다.\n",
    "for key in character:\n",
    "    con = character[key] # 내용\n",
    "    \n",
    "    if type(con) == dict:   # 딕셔너리\n",
    "        for a in con:\n",
    "            print(a,\":\",con[a])\n",
    "    elif type(con) == list: # 리스트\n",
    "        for a in con:\n",
    "            print(key,\":\",a)\n",
    "    else:                   # 나머지(문자열, 숫자)\n",
    "        print(key,\":\",con)"
   ]
  },
  {
   "cell_type": "code",
   "execution_count": 104,
   "metadata": {},
   "outputs": [
    {
     "name": "stdout",
     "output_type": "stream",
     "text": [
      "range(0, 5)\n"
     ]
    }
   ],
   "source": [
    "# 반복문과 while 반복문\n",
    "\n",
    "a = range(5)\n",
    "print(a)"
   ]
  },
  {
   "cell_type": "code",
   "execution_count": 106,
   "metadata": {},
   "outputs": [
    {
     "name": "stdout",
     "output_type": "stream",
     "text": [
      "[0, 1, 2, 3, 4]\n"
     ]
    }
   ],
   "source": [
    "print(list(range(5)))"
   ]
  },
  {
   "cell_type": "code",
   "execution_count": 107,
   "metadata": {},
   "outputs": [
    {
     "name": "stdout",
     "output_type": "stream",
     "text": [
      "[0, 1, 2, 3, 4]\n",
      "[5, 6, 7, 8, 9]\n"
     ]
    }
   ],
   "source": [
    "print(list(range(0,5)))\n",
    "print(list(range(5,10)))"
   ]
  },
  {
   "cell_type": "code",
   "execution_count": 108,
   "metadata": {},
   "outputs": [
    {
     "name": "stdout",
     "output_type": "stream",
     "text": [
      "[0, 2, 4, 6, 8]\n",
      "[0, 3, 6, 9]\n"
     ]
    }
   ],
   "source": [
    "print(list(range(0,10,2)))\n",
    "print(list(range(0,10,3)))"
   ]
  },
  {
   "cell_type": "code",
   "execution_count": 110,
   "metadata": {},
   "outputs": [
    {
     "name": "stdout",
     "output_type": "stream",
     "text": [
      "[0, 1, 2, 3, 4, 5, 6, 7, 8, 9, 10]\n"
     ]
    }
   ],
   "source": [
    "a = range(0, 10+1)\n",
    "print(list(a))"
   ]
  },
  {
   "cell_type": "code",
   "execution_count": 111,
   "metadata": {},
   "outputs": [
    {
     "ename": "TypeError",
     "evalue": "'float' object cannot be interpreted as an integer",
     "output_type": "error",
     "traceback": [
      "\u001b[1;31m---------------------------------------------------------------------------\u001b[0m",
      "\u001b[1;31mTypeError\u001b[0m                                 Traceback (most recent call last)",
      "\u001b[1;32m<ipython-input-111-f9cacce676a5>\u001b[0m in \u001b[0;36m<module>\u001b[1;34m\u001b[0m\n\u001b[0;32m      1\u001b[0m \u001b[0mn\u001b[0m \u001b[1;33m=\u001b[0m \u001b[1;36m10\u001b[0m\u001b[1;33m\u001b[0m\u001b[1;33m\u001b[0m\u001b[0m\n\u001b[1;32m----> 2\u001b[1;33m \u001b[0ma\u001b[0m \u001b[1;33m=\u001b[0m \u001b[0mrange\u001b[0m\u001b[1;33m(\u001b[0m\u001b[1;36m0\u001b[0m\u001b[1;33m,\u001b[0m \u001b[0mn\u001b[0m\u001b[1;33m/\u001b[0m\u001b[1;36m2\u001b[0m\u001b[1;33m)\u001b[0m\u001b[1;33m\u001b[0m\u001b[1;33m\u001b[0m\u001b[0m\n\u001b[0m",
      "\u001b[1;31mTypeError\u001b[0m: 'float' object cannot be interpreted as an integer"
     ]
    }
   ],
   "source": [
    "n = 10\n",
    "a = range(0, n/2)   # float 형태는 range()에서 사용할 수 없다."
   ]
  },
  {
   "cell_type": "code",
   "execution_count": 114,
   "metadata": {},
   "outputs": [
    {
     "name": "stdout",
     "output_type": "stream",
     "text": [
      "[0, 1, 2, 3, 4]\n"
     ]
    }
   ],
   "source": [
    "n = 10\n",
    "a = range(0, n//2)  # float을 int로 정수화하는 것보다 몫 구하기 식을 쓰는게 좋다.\n",
    "print(list(a))"
   ]
  },
  {
   "cell_type": "code",
   "execution_count": 116,
   "metadata": {},
   "outputs": [
    {
     "name": "stdout",
     "output_type": "stream",
     "text": [
      "0= 반복 변수\n",
      "1= 반복 변수\n",
      "2= 반복 변수\n",
      "3= 반복 변수\n",
      "4= 반복 변수\n",
      "\n",
      "5= 반복 변수\n",
      "6= 반복 변수\n",
      "7= 반복 변수\n",
      "8= 반복 변수\n",
      "9= 반복 변수\n",
      "\n",
      "0= 반복 변수\n",
      "3= 반복 변수\n",
      "6= 반복 변수\n",
      "9= 반복 변수\n",
      "\n"
     ]
    }
   ],
   "source": [
    "# for 반복문과 범위를 함께 조합해서 사용합니다.\n",
    "for i in range(5):\n",
    "    print(str(i) + \"= 반복 변수\")\n",
    "print()\n",
    "\n",
    "for i in range(5,10):\n",
    "    print(str(i) + \"= 반복 변수\")\n",
    "print()\n",
    "\n",
    "for i in range(0,10,3):\n",
    "    print(str(i) + \"= 반복 변수\")\n",
    "print()\n"
   ]
  },
  {
   "cell_type": "code",
   "execution_count": 117,
   "metadata": {},
   "outputs": [
    {
     "name": "stdout",
     "output_type": "stream",
     "text": [
      "273\n",
      "32\n",
      "103\n",
      "57\n",
      "52\n"
     ]
    }
   ],
   "source": [
    "# for 반복문: 리스트와 범위 조합하기\n",
    "\n",
    "# 리스트를 선언합니다.\n",
    "array = [273,32,103,57,52]\n",
    "\n",
    "# 리스트에 반복문을 적용합니다.\n",
    "for element in array:\n",
    "    # 출력합니다.\n",
    "    print(element)"
   ]
  },
  {
   "cell_type": "code",
   "execution_count": 119,
   "metadata": {},
   "outputs": [
    {
     "name": "stdout",
     "output_type": "stream",
     "text": [
      "0번째 반복: 273\n",
      "1번째 반복: 32\n",
      "2번째 반복: 103\n",
      "3번째 반복: 57\n",
      "4번째 반복: 52\n"
     ]
    }
   ],
   "source": [
    "# 리스트와 범위를 조합해서 사용하기\n",
    "\n",
    "# 리스트를 선언합니다.\n",
    "\n",
    "# 리스트에 반복문을 적용합니다.\n",
    "for i in range(len(array)):\n",
    "    # 출력합니다\n",
    "    print(\"{}번째 반복: {}\".format(i, array[i]))"
   ]
  },
  {
   "cell_type": "code",
   "execution_count": 130,
   "metadata": {},
   "outputs": [
    {
     "name": "stdout",
     "output_type": "stream",
     "text": [
      "현재 반복 변수: 4\n",
      "현재 반복 변수: 3\n",
      "현재 반복 변수: 2\n",
      "현재 반복 변수: 1\n",
      "현재 반복 변수: 0\n"
     ]
    }
   ],
   "source": [
    "# 역반복문\n",
    "for i in range(4,-1,-1):\n",
    "    # 출력합니다.\n",
    "    print(\"현재 반복 변수: {}\".format(i))"
   ]
  },
  {
   "cell_type": "code",
   "execution_count": 131,
   "metadata": {},
   "outputs": [
    {
     "name": "stdout",
     "output_type": "stream",
     "text": [
      "현재 반복 변수: 4\n",
      "현재 반복 변수: 3\n",
      "현재 반복 변수: 2\n",
      "현재 반복 변수: 1\n",
      "현재 반복 변수: 0\n"
     ]
    }
   ],
   "source": [
    "# 역반복문\n",
    "for i in reversed(range(5)):     # reversed()는 주의해서 사용해야 함!!!\n",
    "    # 출력합니다.\n",
    "    print(\"현재 반복 변수: {}\".format(i))"
   ]
  },
  {
   "cell_type": "code",
   "execution_count": 132,
   "metadata": {},
   "outputs": [
    {
     "name": "stdout",
     "output_type": "stream",
     "text": [
      ".........."
     ]
    }
   ],
   "source": [
    "# while 반복문\n",
    "a = 0\n",
    "while True:       # True인 한 무한 반복한다.\n",
    "    print(\".\", end=\"\")\n",
    "    a += 1\n",
    "    \n",
    "    if a == 10:\n",
    "        break     # 정지조건을 부여하여 무한 출력을 막았다."
   ]
  },
  {
   "cell_type": "code",
   "execution_count": 133,
   "metadata": {},
   "outputs": [
    {
     "name": "stdout",
     "output_type": "stream",
     "text": [
      "0번째 반복입니다.\n",
      "1번째 반복입니다.\n",
      "2번째 반복입니다.\n",
      "3번째 반복입니다.\n",
      "4번째 반복입니다.\n",
      "5번째 반복입니다.\n",
      "6번째 반복입니다.\n",
      "7번째 반복입니다.\n",
      "8번째 반복입니다.\n",
      "9번째 반복입니다.\n"
     ]
    }
   ],
   "source": [
    "# while 반복문을 for 반복문처럼 사용하기\n",
    "\n",
    "# 반복 변수를 기반으로 반복하기\n",
    "i = 0\n",
    "while i <10:\n",
    "    print(\"{}번째 반복입니다.\".format(i))\n",
    "    i += 1"
   ]
  },
  {
   "cell_type": "code",
   "execution_count": 134,
   "metadata": {},
   "outputs": [
    {
     "name": "stdout",
     "output_type": "stream",
     "text": [
      "[1, 1]\n"
     ]
    }
   ],
   "source": [
    "# 해당하는 값 모두 제거하기\n",
    "\n",
    "# 변수를 선언합니다.\n",
    "list_test = [1,2,1,2]\n",
    "value = 2\n",
    "\n",
    "# list_test 내부에 value가 있다면 반복\n",
    "while value in list_test:\n",
    "    list_test.remove(value)\n",
    "    \n",
    "# 출력합니다.\n",
    "print(list_test)"
   ]
  },
  {
   "cell_type": "code",
   "execution_count": 138,
   "metadata": {},
   "outputs": [
    {
     "data": {
      "text/plain": [
       "1617543887.0500147"
      ]
     },
     "execution_count": 138,
     "metadata": {},
     "output_type": "execute_result"
    }
   ],
   "source": [
    "# while 반복문: 시간을 기반으로 반복하기(유닉스 타임)\n",
    "\n",
    "import time\n",
    "time.time()     # 1970년 1월 1일 0시 0분 0초를 기준으로 몇 초가 지났는지"
   ]
  },
  {
   "cell_type": "code",
   "execution_count": 2,
   "metadata": {},
   "outputs": [
    {
     "name": "stdout",
     "output_type": "stream",
     "text": [
      "5초 동안 37688664번 반복했습니다.\n"
     ]
    }
   ],
   "source": [
    "# 시간과 관련된 기능을 가져옵니다.\n",
    "import time\n",
    "\n",
    "# 변수를 선언합니다.\n",
    "number = 0\n",
    "\n",
    "# 5초 동안 반복합니다.\n",
    "target_tick = time.time() + 5\n",
    "while time.time() < target_tick:\n",
    "    number += 1\n",
    "\n",
    "# 출력합니다.\n",
    "print(\"5초 동안 {}번 반복했습니다.\".format(number))"
   ]
  },
  {
   "cell_type": "code",
   "execution_count": 1,
   "metadata": {},
   "outputs": [
    {
     "name": "stdout",
     "output_type": "stream",
     "text": [
      "0번째 반복문입니다.\n",
      "> 종료하시겠습니까?(y/n): n\n",
      "1번째 반복문입니다.\n",
      "> 종료하시겠습니까?(y/n): n\n",
      "2번째 반복문입니다.\n",
      "> 종료하시겠습니까?(y/n): y\n",
      "반복을 종료합니다.\n"
     ]
    }
   ],
   "source": [
    "# break 키워드\n",
    "i = 0\n",
    "while True:\n",
    "    print(\"{}번째 반복문입니다.\".format(i))\n",
    "    i += 1\n",
    "    \n",
    "    input_text = input(\"> 종료하시겠습니까?(y/n): \")\n",
    "    if input_text in [\"y\", \"Y\"]:\n",
    "        print(\"반복을 종료합니다.\")\n",
    "        break"
   ]
  },
  {
   "cell_type": "code",
   "execution_count": 3,
   "metadata": {},
   "outputs": [
    {
     "name": "stdout",
     "output_type": "stream",
     "text": [
      "15\n",
      "20\n",
      "25\n"
     ]
    }
   ],
   "source": [
    "# continue 키워드\n",
    "numbers = [5,15,6,20,7,25]\n",
    "\n",
    "for number in numbers:\n",
    "    if number < 10:\n",
    "        continue          # 필터링 기능 /  10보다 작으면 다음 반복으로 넘어가버림\n",
    "    \n",
    "    print(number)"
   ]
  },
  {
   "cell_type": "code",
   "execution_count": 10,
   "metadata": {},
   "outputs": [
    {
     "name": "stdout",
     "output_type": "stream",
     "text": [
      "[0, 1, 2, 3, 4]\n",
      "[4, 5]\n",
      "[7, 6, 5, 4, 3, 2, 1]\n",
      "[3, 4, 5, 6, 7]\n",
      "[3, 6, 9]\n"
     ]
    }
   ],
   "source": [
    "# 187페이지 1번 문제\n",
    "print(list(range(5)))\n",
    "print(list(range(4,6)))\n",
    "print(list(range(7,0,-1)))\n",
    "print(list(range(3,8)))\n",
    "print(list(range(3,10,3)))"
   ]
  },
  {
   "cell_type": "code",
   "execution_count": 17,
   "metadata": {},
   "outputs": [
    {
     "name": "stdout",
     "output_type": "stream",
     "text": [
      "{'name': '기사', 'hp': 200, 'mp': 30, 'level': 5}\n"
     ]
    }
   ],
   "source": [
    "# 188페이지 2번 문제\n",
    "key_list = [\"name\",\"hp\",\"mp\",\"level\"]\n",
    "value_list = [\"기사\",200,30,5]\n",
    "character = {}\n",
    "\n",
    "for i in range(len(key_list)):\n",
    "    character[key_list[i]] = value_list[i]\n",
    "\n",
    "print(character)"
   ]
  },
  {
   "cell_type": "code",
   "execution_count": 18,
   "metadata": {},
   "outputs": [
    {
     "name": "stdout",
     "output_type": "stream",
     "text": [
      "141를 더할 때 10000을 넘으며 그때의 값은 10011입니다.\n"
     ]
    }
   ],
   "source": [
    "# 188페이지 3번 문제\n",
    "limit = 10000\n",
    "i = 1\n",
    "\n",
    "sum_value = 0\n",
    "\n",
    "while sum_value < limit:\n",
    "    sum_value += i\n",
    "    i += 1\n",
    "\n",
    "print(\"{}를 더할 때 {}을 넘으며 그때의 값은 {}입니다.\".format(i-1, limit, sum_value))"
   ]
  },
  {
   "cell_type": "code",
   "execution_count": 21,
   "metadata": {},
   "outputs": [
    {
     "name": "stdout",
     "output_type": "stream",
     "text": [
      "최대가 되는 경우: 50 * 50 = 2500\n"
     ]
    }
   ],
   "source": [
    "# 189페이지 4번 문제\n",
    "max_value = 0\n",
    "a = 0\n",
    "b = 0\n",
    "\n",
    "for i in range(1,(100 // 2) + 1): # 절반만 반복하는 것이 더 효율적\n",
    "    j = 100 - i\n",
    "    if i*j > max_value:\n",
    "        max_value = i*j\n",
    "        a = i\n",
    "        b = j\n",
    "print(\"최대가 되는 경우: {} * {} = {}\".format(a,b,max_value))"
   ]
  },
  {
   "cell_type": "code",
   "execution_count": 24,
   "metadata": {},
   "outputs": [
    {
     "name": "stdout",
     "output_type": "stream",
     "text": [
      "32\n",
      "273\n",
      "537\n"
     ]
    }
   ],
   "source": [
    "# 리스트에 적용할 수 있는 기본 함수: min(), max(), sum()\n",
    "\n",
    "numbers = [103,52,273,32,77]\n",
    "print(min(numbers))\n",
    "print(max(numbers))\n",
    "print(sum(numbers))"
   ]
  },
  {
   "cell_type": "code",
   "execution_count": 27,
   "metadata": {},
   "outputs": [
    {
     "name": "stdout",
     "output_type": "stream",
     "text": [
      "# reversed() 함수\n",
      "reversed([1,2,3,4,5]): <list_reverseiterator object at 0x0000012C10EEECC8>\n",
      "list(reversed([1,2,3,4,5])): [5, 4, 3, 2, 1]\n",
      "\n",
      "# reversed() 함수와 반복문\n",
      "for i in reversed([1,2,3,4,5]):\n",
      "- 5\n",
      "- 4\n",
      "- 3\n",
      "- 2\n",
      "- 1\n"
     ]
    }
   ],
   "source": [
    "# reversed() 함수로 리스트 뒤집기\n",
    "\n",
    "list_a = [1,2,3,4,5]\n",
    "list_reversed = reversed(list_a)\n",
    "\n",
    "print(\"# reversed() 함수\")\n",
    "print(\"reversed([1,2,3,4,5]):\", list_reversed)\n",
    "print(\"list(reversed([1,2,3,4,5])):\", list(list_reversed))\n",
    "print()\n",
    "\n",
    "print(\"# reversed() 함수와 반복문\")\n",
    "print(\"for i in reversed([1,2,3,4,5]):\")\n",
    "for i in reversed(list_a):\n",
    "    print(\"-\", i)"
   ]
  },
  {
   "cell_type": "code",
   "execution_count": 28,
   "metadata": {},
   "outputs": [
    {
     "name": "stdout",
     "output_type": "stream",
     "text": [
      "첫 번째 반복문: 6\n",
      "첫 번째 반복문: 5\n",
      "첫 번째 반복문: 4\n",
      "첫 번째 반복문: 3\n",
      "첫 번째 반복문: 2\n",
      "첫 번째 반복문: 1\n"
     ]
    }
   ],
   "source": [
    "temp = reversed([1,2,3,4,5,6])\n",
    "for i in temp:\n",
    "    print(\"첫 번째 반복문: {}\".format(i))\n",
    "for i in temp:\n",
    "    print(\"두 번째 반복문: {}\".format(i))\n",
    "    \n",
    "# 두 번째 반복문은 전혀 출력되지 않음"
   ]
  },
  {
   "cell_type": "code",
   "execution_count": 29,
   "metadata": {},
   "outputs": [
    {
     "name": "stdout",
     "output_type": "stream",
     "text": [
      "[1, 2, 3, 4, 5]\n",
      "[5, 4, 3, 2, 1]\n",
      "[1, 2, 3, 4, 5]\n"
     ]
    }
   ],
   "source": [
    "# ++ 확장 슬라이싱으로 리스트 뒤집기\n",
    "numbers = [1,2,3,4,5]\n",
    "print(numbers)\n",
    "print(numbers[::-1])\n",
    "print(numbers)          # 비파괴적 코드"
   ]
  },
  {
   "cell_type": "markdown",
   "metadata": {},
   "source": [
    "enumerate() 함수와 반복문 조합하기"
   ]
  },
  {
   "cell_type": "code",
   "execution_count": 31,
   "metadata": {},
   "outputs": [
    {
     "name": "stdout",
     "output_type": "stream",
     "text": [
      "# 단순 출력\n",
      "['요소A', '요소B', '요소C']\n",
      "\n",
      "# enumerate() 함수 적용 출력\n",
      "<enumerate object at 0x0000012C10FCF278>\n",
      "\n",
      "# list() 함수로 강제 변환 출력\n",
      "[(0, '요소A'), (1, '요소B'), (2, '요소C')]\n",
      "# 반복문과 조합하기\n",
      "0번째 요소는 요소A입니다.\n",
      "1번째 요소는 요소B입니다.\n",
      "2번째 요소는 요소C입니다.\n"
     ]
    }
   ],
   "source": [
    "# enumerate() 함수 -> 리스트 인덱스 확인\n",
    "\n",
    "example_list = [\"요소A\", \"요소B\", \"요소C\"]\n",
    "\n",
    "print(\"# 단순 출력\")\n",
    "print(example_list)\n",
    "print()\n",
    "\n",
    "print(\"# enumerate() 함수 적용 출력\")\n",
    "print(enumerate(example_list))\n",
    "print()\n",
    "\n",
    "print(\"# list() 함수로 강제 변환 출력\")\n",
    "print(list(enumerate(example_list)))\n",
    "\n",
    "print(\"# 반복문과 조합하기\")\n",
    "for i, value in enumerate(example_list):\n",
    "    print(\"{}번째 요소는 {}입니다.\".format(i,value))"
   ]
  },
  {
   "cell_type": "code",
   "execution_count": 35,
   "metadata": {},
   "outputs": [
    {
     "name": "stdout",
     "output_type": "stream",
     "text": [
      "# 딕셔너리의 items() 함수\n",
      "\n",
      "dict_items([('키1', '값1'), ('키2', '값2'), ('키3', '값3')])\n",
      "\n",
      "\n",
      "# 딕셔너리의 items() 함수와 반복문 조합하기\n",
      "\n",
      "dictionary[키1] = 값1\n",
      "dictionary[키2] = 값2\n",
      "dictionary[키3] = 값3\n"
     ]
    }
   ],
   "source": [
    "# 딕셔너리의 items() 함수와 반복문 조합하기\n",
    "\n",
    "example_dictionary = {\n",
    "    \"키1\": \"값1\",\n",
    "    \"키2\": \"값2\",\n",
    "    \"키3\": \"값3\"\n",
    "}\n",
    "\n",
    "print(\"# 딕셔너리의 items() 함수\")\n",
    "print()\n",
    "print(example_dictionary.items())\n",
    "\n",
    "print()\n",
    "print()\n",
    "\n",
    "print(\"# 딕셔너리의 items() 함수와 반복문 조합하기\")\n",
    "print()\n",
    "for key, element in example_dictionary.items():\n",
    "    print(\"dictionary[{}] = {}\".format(key, element))"
   ]
  },
  {
   "cell_type": "code",
   "execution_count": 36,
   "metadata": {},
   "outputs": [
    {
     "name": "stdout",
     "output_type": "stream",
     "text": [
      "[0, 4, 16, 36, 64, 100, 144, 196, 256, 324]\n"
     ]
    }
   ],
   "source": [
    "# 리스트 내포(List Comprehension) -> 한 줄로 반복문!\n",
    "\n",
    "# 반복문을 사용한 리스트 생성\n",
    "array = []\n",
    "\n",
    "for i in range(0,20,2):\n",
    "    array.append(i*i)\n",
    "\n",
    "print(array)"
   ]
  },
  {
   "cell_type": "code",
   "execution_count": 37,
   "metadata": {},
   "outputs": [
    {
     "name": "stdout",
     "output_type": "stream",
     "text": [
      "[0, 4, 16, 36, 64, 100, 144, 196, 256, 324]\n"
     ]
    }
   ],
   "source": [
    "# 리스트 안에 for문 사용하기\n",
    "\n",
    "array = [i*i for i in range(0,20,2)]\n",
    "print(array)"
   ]
  },
  {
   "cell_type": "code",
   "execution_count": 38,
   "metadata": {},
   "outputs": [
    {
     "name": "stdout",
     "output_type": "stream",
     "text": [
      "['사과', '자두', '바나나', '체리']\n"
     ]
    }
   ],
   "source": [
    "# 조건을 활용한 리스트 내포\n",
    "\n",
    "array = [\"사과\", \"자두\", \"초콜릿\", \"바나나\", \"체리\"]\n",
    "output = [fruit for fruit in array if fruit != \"초콜릿\"]   # 초콜릿이 아니라면 / 리스트 안 개체가 / 개체를 도출한다\n",
    "print(output)\n",
    "\n",
    "# array의 요소를 fruit이라고 할 때 초콜릿이 아닌 fruit으로 리스트를 재조합 해주세요"
   ]
  },
  {
   "cell_type": "code",
   "execution_count": 40,
   "metadata": {},
   "outputs": [
    {
     "name": "stdout",
     "output_type": "stream",
     "text": [
      "정수 입력> 10\n",
      "        입력한 문자열은 10입니다.\n",
      "        10는(은) 짝수입니다.\n"
     ]
    }
   ],
   "source": [
    "# 구문 내부에 여러 줄 문자열을 사용했을 때의 문제점\n",
    "\n",
    "number = int(input(\"정수 입력> \"))\n",
    "\n",
    "if number % 2 == 0: # 짝수라면\n",
    "    print(\"\"\"\\\n",
    "        입력한 문자열은 {}입니다.\n",
    "        {}는(은) 짝수입니다.\"\"\".format(number, number))\n",
    "else:\n",
    "    print(\"\"\"\\\n",
    "        입력한 문자열은 {}입니다.\n",
    "        {}는(은) 홀수입니다.\"\"\".format(number,number))\n",
    "\n",
    "# 예상치 못한 들여쓰기(indent)가 들어간다."
   ]
  },
  {
   "cell_type": "code",
   "execution_count": 43,
   "metadata": {},
   "outputs": [
    {
     "name": "stdout",
     "output_type": "stream",
     "text": [
      "정수 입력> 10\n",
      "입력한 문자열은 10입니다.\n",
      "10는(은) 짝수입니다.\n"
     ]
    }
   ],
   "source": [
    "number = int(input(\"정수 입력> \"))\n",
    "if number % 2 == 0:\n",
    "    print(\"\"\"입력한 문자열은 {}입니다.\n",
    "{}는(은) 짝수입니다.\"\"\".format(number,number))\n",
    "else:\n",
    "    print(\"\"\"입력한 문자열은 {}입니다.\n",
    "{}는(은) 홀수입니다.\"\"\".format(number,number))\n",
    "    \n",
    "# 결과는 잘 나오지만 코드가 이상한 형태이다."
   ]
  },
  {
   "cell_type": "code",
   "execution_count": 44,
   "metadata": {},
   "outputs": [
    {
     "name": "stdout",
     "output_type": "stream",
     "text": [
      "정수 입력> 10\n",
      "입력한 문자열은 10입니다.\n",
      "10는(은) 짝수입니다.\n"
     ]
    }
   ],
   "source": [
    "number = int(input(\"정수 입력> \"))\n",
    "if number % 2 == 0:\n",
    "    print(\"입력한 문자열은 {}입니다.\\n{}는(은) 짝수입니다.\".format(number,number))\n",
    "else:\n",
    "    print(\"입력한 문자열은 {}입니다.\\n{}는(은) 홀수입니다.\".format(number,number))"
   ]
  },
  {
   "cell_type": "code",
   "execution_count": 46,
   "metadata": {},
   "outputs": [
    {
     "name": "stdout",
     "output_type": "stream",
     "text": [
      "이렇게 입력해도 하나의 문자열로 연결되어 생성됩니다.\n",
      "<class 'str'>\n"
     ]
    }
   ],
   "source": [
    "# 괄호로 문자열 연결하기\n",
    "\n",
    "test = (\n",
    "    \"이렇게 입력해도 \"\n",
    "    \"하나의 문자열로 연결되어 \"\n",
    "    \"생성됩니다.\"\n",
    ")\n",
    "\n",
    "print(test)\n",
    "print(type(test))"
   ]
  },
  {
   "cell_type": "code",
   "execution_count": 47,
   "metadata": {},
   "outputs": [
    {
     "name": "stdout",
     "output_type": "stream",
     "text": [
      "정수 입력> 10\n",
      "입력한 문자열은 10입니다.\n",
      "10는 짝수입니다.\n"
     ]
    }
   ],
   "source": [
    "# 여러 줄 문자열과 if 구문을 조합했을 때의 문제 해결(1)\n",
    "\n",
    "number = int(input(\"정수 입력> \"))\n",
    "\n",
    "if number % 2 == 0:\n",
    "    print((\n",
    "        \"입력한 문자열은 {}입니다.\\n\"\n",
    "        \"{}는 짝수입니다.\"\n",
    "    ).format(number,number))\n",
    "else:\n",
    "    print((\n",
    "        \"입력한 문자열은 {}입니다.\\n\"\n",
    "        \"{}는(은) 홀수입니다.\"\n",
    "    ).format(number,number))"
   ]
  },
  {
   "cell_type": "code",
   "execution_count": 48,
   "metadata": {},
   "outputs": [
    {
     "name": "stdout",
     "output_type": "stream",
     "text": [
      "1::2::3::4::5\n"
     ]
    }
   ],
   "source": [
    "# 문자열의 join() 함수 - 리스트의 요소를 문자열로 연결\n",
    "print(\"::\".join([\"1\",\"2\",\"3\",\"4\",\"5\"]))"
   ]
  },
  {
   "cell_type": "code",
   "execution_count": 2,
   "metadata": {},
   "outputs": [
    {
     "name": "stdout",
     "output_type": "stream",
     "text": [
      "정수 입력> 15\n",
      "입력한 문자열은 15입니다.\n",
      "15는(은) 홀수입니다.\n"
     ]
    }
   ],
   "source": [
    "number = int(input(\"정수 입력> \"))\n",
    "if number % 2 == 0:\n",
    "    print(\"\\n\".join([\n",
    "        \"입력한 문자열은 {}입니다.\",\n",
    "        \"{}는(은) 짝수입니다.\"\n",
    "    ]).format(number,number))\n",
    "else:\n",
    "    print(\"\\n\".join([\n",
    "        \"입력한 문자열은 {}입니다.\",\n",
    "        \"{}는(은) 홀수입니다.\"\n",
    "    ]).format(number,number))"
   ]
  },
  {
   "cell_type": "code",
   "execution_count": 5,
   "metadata": {},
   "outputs": [
    {
     "name": "stdout",
     "output_type": "stream",
     "text": [
      "reversed_numbers : <list_reverseiterator object at 0x00000247ACAE8A88>\n",
      "6\n",
      "5\n",
      "4\n",
      "3\n",
      "2\n",
      "1\n"
     ]
    }
   ],
   "source": [
    "# reversed() 함수와 이터레이터\n",
    "\n",
    "numbers = [1,2,3,4,5,6]\n",
    "r_num = reversed(numbers)\n",
    "\n",
    "print(\"reversed_numbers :\", r_num)\n",
    "print(next(r_num))\n",
    "print(next(r_num))\n",
    "print(next(r_num))\n",
    "print(next(r_num))\n",
    "print(next(r_num))\n",
    "print(next(r_num))"
   ]
  },
  {
   "cell_type": "code",
   "execution_count": 11,
   "metadata": {},
   "outputs": [
    {
     "name": "stdout",
     "output_type": "stream",
     "text": [
      "1010\n",
      "10\n",
      "\n",
      "12\n",
      "10\n",
      "\n",
      "a\n",
      "10\n",
      "\n",
      "2\n"
     ]
    }
   ],
   "source": [
    "print(\"{:b}\".format(10)) # 10을 2진수로\n",
    "print(int(\"1010\", 2))    # 2진수 1010을 십진수로\n",
    "print()\n",
    "print(\"{:o}\".format(10)) # 10을 8진수로\n",
    "print(int(\"12\", 8))      # 8진수 12를 십진수로\n",
    "print()\n",
    "print(\"{:x}\".format(10)) # 10을 16진수로\n",
    "print(int(\"a\",16))       # 16진수 a를 십진수로\n",
    "print()\n",
    "print(\"안녕안녕하세요\".count(\"안\"))"
   ]
  },
  {
   "cell_type": "code",
   "execution_count": 18,
   "metadata": {},
   "outputs": [
    {
     "name": "stdout",
     "output_type": "stream",
     "text": [
      "2 : 10\n",
      "5 : 101\n",
      "6 : 110\n",
      "11 : 1011\n",
      "13 : 1101\n",
      "14 : 1110\n",
      "23 : 10111\n",
      "27 : 11011\n",
      "29 : 11101\n",
      "30 : 11110\n",
      "47 : 101111\n",
      "55 : 110111\n",
      "59 : 111011\n",
      "61 : 111101\n",
      "62 : 111110\n",
      "95 : 1011111\n",
      "합계: 539\n"
     ]
    }
   ],
   "source": [
    "# 207페이지 2번 문제\n",
    "output = [i for i in range(1,101) if \"{:b}\".format(i).count(\"0\") == 1]\n",
    "for i in output:\n",
    "    print(\"{} : {}\".format(i, \"{:b}\".format(i)))\n",
    "print(\"합계:\", sum(output))"
   ]
  },
  {
   "cell_type": "code",
   "execution_count": 19,
   "metadata": {},
   "outputs": [
    {
     "name": "stdout",
     "output_type": "stream",
     "text": [
      "안녕하세요\n",
      "안녕하세요\n",
      "안녕하세요\n"
     ]
    }
   ],
   "source": [
    "def print_3_times():\n",
    "    print(\"안녕하세요\")\n",
    "    print(\"안녕하세요\")\n",
    "    print(\"안녕하세요\")\n",
    "    \n",
    "print_3_times()"
   ]
  },
  {
   "cell_type": "code",
   "execution_count": 21,
   "metadata": {},
   "outputs": [
    {
     "name": "stdout",
     "output_type": "stream",
     "text": [
      "안녕\n",
      "안녕\n",
      "안녕\n",
      "안녕\n",
      "안녕\n"
     ]
    }
   ],
   "source": [
    "def print_n_times(value,n):\n",
    "    for i in range(n):\n",
    "        print(value)\n",
    "        \n",
    "print_n_times(\"안녕\",5)"
   ]
  },
  {
   "cell_type": "code",
   "execution_count": 22,
   "metadata": {},
   "outputs": [
    {
     "name": "stdout",
     "output_type": "stream",
     "text": [
      "안녕\n",
      "즐거운\n",
      "파이썬\n",
      "\n",
      "안녕\n",
      "즐거운\n",
      "파이썬\n",
      "\n",
      "안녕\n",
      "즐거운\n",
      "파이썬\n",
      "\n"
     ]
    }
   ],
   "source": [
    "def print_n_times(n, *values):\n",
    "    for i in range(n):\n",
    "        for value in values:\n",
    "            print(value)\n",
    "        print()\n",
    "print_n_times(3, \"안녕\", \"즐거운\", \"파이썬\")"
   ]
  },
  {
   "cell_type": "code",
   "execution_count": 24,
   "metadata": {},
   "outputs": [
    {
     "name": "stdout",
     "output_type": "stream",
     "text": [
      "Hello!\n",
      "Hello!\n"
     ]
    }
   ],
   "source": [
    "def print_n_times(value, n=2):\n",
    "    for i in range(n):\n",
    "        print(value)\n",
    "print_n_times(\"Hello!\")"
   ]
  },
  {
   "cell_type": "code",
   "execution_count": 26,
   "metadata": {},
   "outputs": [
    {
     "ename": "TypeError",
     "evalue": "'str' object cannot be interpreted as an integer",
     "output_type": "error",
     "traceback": [
      "\u001b[1;31m---------------------------------------------------------------------------\u001b[0m",
      "\u001b[1;31mTypeError\u001b[0m                                 Traceback (most recent call last)",
      "\u001b[1;32m<ipython-input-26-9d939123be94>\u001b[0m in \u001b[0;36m<module>\u001b[1;34m\u001b[0m\n\u001b[0;32m      4\u001b[0m             \u001b[0mprint\u001b[0m\u001b[1;33m(\u001b[0m\u001b[0mvalue\u001b[0m\u001b[1;33m)\u001b[0m\u001b[1;33m\u001b[0m\u001b[1;33m\u001b[0m\u001b[0m\n\u001b[0;32m      5\u001b[0m         \u001b[0mprint\u001b[0m\u001b[1;33m(\u001b[0m\u001b[1;33m)\u001b[0m\u001b[1;33m\u001b[0m\u001b[1;33m\u001b[0m\u001b[0m\n\u001b[1;32m----> 6\u001b[1;33m \u001b[0mprint_n_times\u001b[0m\u001b[1;33m(\u001b[0m\u001b[1;34m\"안녕\"\u001b[0m\u001b[1;33m,\u001b[0m \u001b[1;34m\"즐거운\"\u001b[0m\u001b[1;33m,\u001b[0m \u001b[1;34m\"파이썬\"\u001b[0m\u001b[1;33m)\u001b[0m\u001b[1;33m\u001b[0m\u001b[1;33m\u001b[0m\u001b[0m\n\u001b[0m",
      "\u001b[1;32m<ipython-input-26-9d939123be94>\u001b[0m in \u001b[0;36mprint_n_times\u001b[1;34m(n, *values)\u001b[0m\n\u001b[0;32m      1\u001b[0m \u001b[1;32mdef\u001b[0m \u001b[0mprint_n_times\u001b[0m\u001b[1;33m(\u001b[0m\u001b[0mn\u001b[0m\u001b[1;33m=\u001b[0m\u001b[1;36m2\u001b[0m\u001b[1;33m,\u001b[0m \u001b[1;33m*\u001b[0m\u001b[0mvalues\u001b[0m\u001b[1;33m)\u001b[0m\u001b[1;33m:\u001b[0m\u001b[1;33m\u001b[0m\u001b[1;33m\u001b[0m\u001b[0m\n\u001b[1;32m----> 2\u001b[1;33m     \u001b[1;32mfor\u001b[0m \u001b[0mi\u001b[0m \u001b[1;32min\u001b[0m \u001b[0mrange\u001b[0m\u001b[1;33m(\u001b[0m\u001b[0mn\u001b[0m\u001b[1;33m)\u001b[0m\u001b[1;33m:\u001b[0m\u001b[1;33m\u001b[0m\u001b[1;33m\u001b[0m\u001b[0m\n\u001b[0m\u001b[0;32m      3\u001b[0m         \u001b[1;32mfor\u001b[0m \u001b[0mvalue\u001b[0m \u001b[1;32min\u001b[0m \u001b[0mvalues\u001b[0m\u001b[1;33m:\u001b[0m\u001b[1;33m\u001b[0m\u001b[1;33m\u001b[0m\u001b[0m\n\u001b[0;32m      4\u001b[0m             \u001b[0mprint\u001b[0m\u001b[1;33m(\u001b[0m\u001b[0mvalue\u001b[0m\u001b[1;33m)\u001b[0m\u001b[1;33m\u001b[0m\u001b[1;33m\u001b[0m\u001b[0m\n\u001b[0;32m      5\u001b[0m         \u001b[0mprint\u001b[0m\u001b[1;33m(\u001b[0m\u001b[1;33m)\u001b[0m\u001b[1;33m\u001b[0m\u001b[1;33m\u001b[0m\u001b[0m\n",
      "\u001b[1;31mTypeError\u001b[0m: 'str' object cannot be interpreted as an integer"
     ]
    }
   ],
   "source": [
    "def print_n_times(n=2, *values):\n",
    "    for i in range(n):\n",
    "        for value in values:\n",
    "            print(value)\n",
    "        print()\n",
    "print_n_times(\"안녕\", \"즐거운\", \"파이썬\") # 기본 매개변수는 가변 매개변수 앞에 써도 의미가 없음"
   ]
  },
  {
   "cell_type": "code",
   "execution_count": 28,
   "metadata": {},
   "outputs": [
    {
     "name": "stdout",
     "output_type": "stream",
     "text": [
      "안녕\n",
      "즐거운\n",
      "파이썬\n",
      "3\n",
      "\n",
      "안녕\n",
      "즐거운\n",
      "파이썬\n",
      "3\n",
      "\n"
     ]
    }
   ],
   "source": [
    "def print_n_times(*values, n=2):\n",
    "    for i in range(n):\n",
    "        for value in values:\n",
    "            print(value)\n",
    "        print()\n",
    "print_n_times(\"안녕\", \"즐거운\", \"파이썬\", 3)"
   ]
  },
  {
   "cell_type": "code",
   "execution_count": 30,
   "metadata": {},
   "outputs": [
    {
     "name": "stdout",
     "output_type": "stream",
     "text": [
      "안녕하세요\n",
      "즐거운\n",
      "파이썬\n",
      "\n",
      "안녕하세요\n",
      "즐거운\n",
      "파이썬\n",
      "\n",
      "안녕하세요\n",
      "즐거운\n",
      "파이썬\n",
      "\n"
     ]
    }
   ],
   "source": [
    "# 키워드 매개변수 - 매개변수 이름을 지정해서 입력\n",
    "def print_n_times(*values, n=2):\n",
    "    for i in range(n):\n",
    "        for value in values:\n",
    "            print(value)\n",
    "        print()\n",
    "        \n",
    "print_n_times(\"안녕하세요\",\"즐거운\",\"파이썬\",n=3)"
   ]
  },
  {
   "cell_type": "code",
   "execution_count": 31,
   "metadata": {},
   "outputs": [
    {
     "name": "stdout",
     "output_type": "stream",
     "text": [
      "60\n",
      "310\n",
      "310\n",
      "220\n"
     ]
    }
   ],
   "source": [
    "def test(a, b=10, c=100):\n",
    "    print(a+b+c)\n",
    "\n",
    "test(10,20,30)          # 모두 정상적으로 적용\n",
    "test(a=10,b=100,c=200)  # 모두 적용\n",
    "test(c=10,a=100,b=200)  # 순서가 바뀌어도 괜찮다.\n",
    "test(10,c=200)          # a에 10 대입, b는 정해진 10, c는 새로 200을 대입하여 220이 되었다."
   ]
  },
  {
   "cell_type": "code",
   "execution_count": 33,
   "metadata": {},
   "outputs": [
    {
     "name": "stdout",
     "output_type": "stream",
     "text": [
      "A위치입니다.\n"
     ]
    }
   ],
   "source": [
    "def return_test():\n",
    "    print(\"A위치입니다.\")\n",
    "    return                   # return하는 순간 함수는 끝\n",
    "    print(\"B위치입니다.\")    # 뒤에 나오는 내용은 의미가 없다.\n",
    "return_test()"
   ]
  },
  {
   "cell_type": "code",
   "execution_count": 37,
   "metadata": {},
   "outputs": [
    {
     "name": "stdout",
     "output_type": "stream",
     "text": [
      "100\n"
     ]
    }
   ],
   "source": [
    "def return_test():\n",
    "    return 100\n",
    "\n",
    "value = return_test()\n",
    "print(value)"
   ]
  },
  {
   "cell_type": "code",
   "execution_count": 38,
   "metadata": {},
   "outputs": [
    {
     "name": "stdout",
     "output_type": "stream",
     "text": [
      "None\n"
     ]
    }
   ],
   "source": [
    "def return_test():\n",
    "    return\n",
    "\n",
    "value = return_test()\n",
    "print(value)\n",
    "\n",
    "# 함수에서 리턴하는 값이 없을 때에는 None을 출력한다."
   ]
  },
  {
   "cell_type": "code",
   "execution_count": 39,
   "metadata": {},
   "outputs": [
    {
     "name": "stdout",
     "output_type": "stream",
     "text": [
      "5050\n",
      "500500\n",
      "3825\n",
      "375750\n"
     ]
    }
   ],
   "source": [
    "def sum_all(start,end):\n",
    "    output = 0\n",
    "    for i in range(start, end + 1):\n",
    "        output += i\n",
    "    return output\n",
    "\n",
    "print(sum_all(0,100))\n",
    "print(sum_all(0,1000))\n",
    "print(sum_all(50,100))\n",
    "print(sum_all(500,1000))"
   ]
  },
  {
   "cell_type": "code",
   "execution_count": 40,
   "metadata": {},
   "outputs": [
    {
     "name": "stdout",
     "output_type": "stream",
     "text": [
      "A:  550\n",
      "B:  5050\n",
      "C:  2550\n"
     ]
    }
   ],
   "source": [
    "def sum_all(start=0, end=100, step=1):\n",
    "    output = 0\n",
    "    for i in range(start, end + 1, step):\n",
    "        output += i\n",
    "    return output\n",
    "\n",
    "print(\"A: \", sum_all(0,100,10))\n",
    "print(\"B: \", sum_all(end=100))\n",
    "print(\"C: \", sum_all(end=100, step=2))"
   ]
  },
  {
   "cell_type": "code",
   "execution_count": 41,
   "metadata": {},
   "outputs": [
    {
     "name": "stdout",
     "output_type": "stream",
     "text": [
      "3150\n"
     ]
    }
   ],
   "source": [
    "# 227페이지 문제 2번\n",
    "def mul(*values):\n",
    "    a = 1\n",
    "    for i in values:\n",
    "        a *= i\n",
    "    return a\n",
    "\n",
    "print(mul(5,7,9,10))"
   ]
  },
  {
   "cell_type": "code",
   "execution_count": null,
   "metadata": {},
   "outputs": [],
   "source": []
  }
 ],
 "metadata": {
  "kernelspec": {
   "display_name": "python3_7_6",
   "language": "python",
   "name": "py3_7_6"
  },
  "language_info": {
   "codemirror_mode": {
    "name": "ipython",
    "version": 3
   },
   "file_extension": ".py",
   "mimetype": "text/x-python",
   "name": "python",
   "nbconvert_exporter": "python",
   "pygments_lexer": "ipython3",
   "version": "3.7.6"
  }
 },
 "nbformat": 4,
 "nbformat_minor": 4
}
