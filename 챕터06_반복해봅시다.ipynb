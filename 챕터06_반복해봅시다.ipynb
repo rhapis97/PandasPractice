{
 "cells": [
  {
   "cell_type": "code",
   "execution_count": 1,
   "metadata": {},
   "outputs": [
    {
     "name": "stdout",
     "output_type": "stream",
     "text": [
      "방문을 환영합니다!\n",
      "방문을 환영합니다!\n",
      "방문을 환영합니다!\n",
      "방문을 환영합니다!\n",
      "방문을 환영합니다!\n"
     ]
    }
   ],
   "source": [
    "print(\"방문을 환영합니다!\")\n",
    "print(\"방문을 환영합니다!\")\n",
    "print(\"방문을 환영합니다!\")\n",
    "print(\"방문을 환영합니다!\")\n",
    "print(\"방문을 환영합니다!\")"
   ]
  },
  {
   "cell_type": "code",
   "execution_count": 2,
   "metadata": {},
   "outputs": [
    {
     "name": "stdout",
     "output_type": "stream",
     "text": [
      "방문을 환영합니다!\n",
      "방문을 환영합니다!\n",
      "방문을 환영합니다!\n",
      "방문을 환영합니다!\n",
      "방문을 환영합니다!\n"
     ]
    }
   ],
   "source": [
    "for i in range(5):     # 반복문을 활용하는 것이 훨씬 효율적\n",
    "    print(\"방문을 환영합니다!\")"
   ]
  },
  {
   "cell_type": "code",
   "execution_count": 5,
   "metadata": {},
   "outputs": [
    {
     "name": "stdout",
     "output_type": "stream",
     "text": [
      "1 2 3 4 5 "
     ]
    }
   ],
   "source": [
    "for i in range(1,6,1):\n",
    "    print(i, end=\" \")"
   ]
  },
  {
   "cell_type": "code",
   "execution_count": 6,
   "metadata": {},
   "outputs": [
    {
     "name": "stdout",
     "output_type": "stream",
     "text": [
      "10 9 8 7 6 5 4 3 2 1 "
     ]
    }
   ],
   "source": [
    "for i in range(10,0,-1):\n",
    "    print(i, end=\" \")"
   ]
  },
  {
   "cell_type": "code",
   "execution_count": 8,
   "metadata": {},
   "outputs": [
    {
     "name": "stdout",
     "output_type": "stream",
     "text": [
      "1부터 100까지의 합은 5050 입니다.\n"
     ]
    }
   ],
   "source": [
    "sum = 0\n",
    "for i in range(1,101):\n",
    "    sum += i\n",
    "print(\"1부터 100까지의 합은\",sum,\"입니다.\")"
   ]
  },
  {
   "cell_type": "code",
   "execution_count": 9,
   "metadata": {},
   "outputs": [
    {
     "name": "stdout",
     "output_type": "stream",
     "text": [
      "정수를 입력하시오: 10\n",
      "10 !은 3628800 이다.\n"
     ]
    }
   ],
   "source": [
    "n = int(input(\"정수를 입력하시오: \"))\n",
    "fact = 1\n",
    "\n",
    "for a in range(1,n+1):\n",
    "    fact = fact*a\n",
    "    \n",
    "print(n,\"!은\", fact, \"이다.\")"
   ]
  },
  {
   "cell_type": "code",
   "execution_count": 10,
   "metadata": {},
   "outputs": [
    {
     "name": "stdout",
     "output_type": "stream",
     "text": [
      "엄마, 다됐어? 아니\n",
      "엄마, 다됐어? 아니\n",
      "엄마, 다됐어? 아니\n",
      "엄마, 다됐어? 아니\n",
      "엄마, 다됐어? 그래\n",
      "먹자\n"
     ]
    }
   ],
   "source": [
    "response = \"아니\"\n",
    "while response == \"아니\":\n",
    "    response = input(\"엄마, 다됐어? \")\n",
    "print(\"먹자\")"
   ]
  },
  {
   "cell_type": "code",
   "execution_count": 11,
   "metadata": {},
   "outputs": [
    {
     "name": "stdout",
     "output_type": "stream",
     "text": [
      "1부터 100까지의 합은 5050 입니다.\n"
     ]
    }
   ],
   "source": [
    "count = 1\n",
    "sum = 0\n",
    "while count <= 100:\n",
    "    sum = sum + count\n",
    "    count = count + 1\n",
    "print(\"1부터 100까지의 합은\",sum,\"입니다.\")"
   ]
  },
  {
   "cell_type": "code",
   "execution_count": 12,
   "metadata": {},
   "outputs": [
    {
     "name": "stdout",
     "output_type": "stream",
     "text": [
      "암호를 입력하시오:idontknow\n",
      "암호를 입력하시오:12345678\n",
      "암호를 입력하시오:pythonisfun\n",
      "로그인 성공\n"
     ]
    }
   ],
   "source": [
    "password = \"\"\n",
    "while password != \"pythonisfun\":\n",
    "    password = input(\"암호를 입력하시오:\")\n",
    "print(\"로그인 성공\")"
   ]
  },
  {
   "cell_type": "code",
   "execution_count": 13,
   "metadata": {},
   "outputs": [
    {
     "name": "stdout",
     "output_type": "stream",
     "text": [
      "* * * * * * * * * * \n",
      "* * * * * * * * * * \n",
      "* * * * * * * * * * \n",
      "* * * * * * * * * * \n",
      "* * * * * * * * * * \n"
     ]
    }
   ],
   "source": [
    "for i in range(5):\n",
    "    for j in range(10):\n",
    "        print(\"*\",end=\" \")\n",
    "    print(\"\")"
   ]
  },
  {
   "cell_type": "code",
   "execution_count": 14,
   "metadata": {},
   "outputs": [
    {
     "name": "stdout",
     "output_type": "stream",
     "text": [
      "* \n",
      "* * \n",
      "* * * \n",
      "* * * * \n",
      "* * * * * \n"
     ]
    }
   ],
   "source": [
    "for i in range(1,6):\n",
    "    for j in range(1,i+1):\n",
    "        print(\"*\", end=\" \")\n",
    "    print(\"\")"
   ]
  },
  {
   "cell_type": "code",
   "execution_count": 15,
   "metadata": {},
   "outputs": [
    {
     "name": "stdout",
     "output_type": "stream",
     "text": [
      "신호등 색상을 입력하시오: red\n",
      "신호등 색상을 입력하시오: red\n",
      "신호등 색상을 입력하시오: blue\n",
      "전진!\n"
     ]
    }
   ],
   "source": [
    "sign = True\n",
    "\n",
    "while sign:\n",
    "    light = input(\"신호등 색상을 입력하시오: \")\n",
    "    if light == 'blue':\n",
    "        sign = False\n",
    "print(\"전진!\")"
   ]
  },
  {
   "cell_type": "code",
   "execution_count": 17,
   "metadata": {},
   "outputs": [
    {
     "name": "stdout",
     "output_type": "stream",
     "text": [
      "신호등 색상을 입력하시오:red\n",
      "신호등 색상을 입력하시오:red\n",
      "신호등 색상을 입력하시오:blue\n",
      "전진\n"
     ]
    }
   ],
   "source": [
    "while True:\n",
    "    light = input(\"신호등 색상을 입력하시오:\")\n",
    "    if light == 'blue':\n",
    "        break\n",
    "print(\"전진\")"
   ]
  },
  {
   "cell_type": "code",
   "execution_count": 18,
   "metadata": {},
   "outputs": [
    {
     "name": "stdout",
     "output_type": "stream",
     "text": [
      "1\n",
      "3\n",
      "5\n",
      "7\n",
      "9\n"
     ]
    }
   ],
   "source": [
    "for n in range(10):\n",
    "    if n % 2 == 0:\n",
    "        continue\n",
    "    print(n)"
   ]
  },
  {
   "cell_type": "code",
   "execution_count": 20,
   "metadata": {},
   "outputs": [],
   "source": [
    "# 코드를 줄여보아요.\n",
    "# 반지름이 100인 원을 그림\n",
    "# 60도 만큼 터틀을 왼쪽으로 회전\n",
    "\n",
    "import turtle\n",
    "t = turtle.Turtle()\n",
    "\n",
    "for i in range(6):\n",
    "    t.circle(100)\n",
    "    t.left(60)"
   ]
  },
  {
   "cell_type": "code",
   "execution_count": null,
   "metadata": {},
   "outputs": [],
   "source": [
    "# 도돌이표\n",
    "# 악보에서 반복을 표현할 때 사용하는 기호가 도돌이표입니다.\n",
    "# 다음 악보를 연주하는 순서를 출력하는 프로그램을 반복문을 이용하여 작성\n",
    "# 연주 순서: A - B - C - D - C - D\n",
    "\n",
    "for i in range(len)\n",
    "\n",
    "print(\"연주순서: \",music)"
   ]
  },
  {
   "cell_type": "code",
   "execution_count": 22,
   "metadata": {},
   "outputs": [],
   "source": [
    "# n각형 그리기\n",
    "# 사용자로부터 정수 n을 입력받아서 한 변의 길이가 100인 정n각형을 그리는 프로그램\n",
    "\n",
    "import turtle\n",
    "t = turtle.Turtle()\n",
    "t.shape(\"turtle\")\n",
    "\n",
    "n = int(turtle.textinput(\"\",\"몇각형을 원하시나요?:\"))\n",
    "angle = 360/n\n",
    "\n",
    "for i in range(n):\n",
    "    t.forward(100)\n",
    "    t.left(angle)"
   ]
  },
  {
   "cell_type": "code",
   "execution_count": null,
   "metadata": {},
   "outputs": [],
   "source": [
    "# 랜덤 워크 시뮬레이션\n",
    "# 랜덤 워크(random walk): 수학, 컴퓨터 과학, 물리학 분야에서 임의 방향으로 향하는 연속적인 걸음을 나타내는 수학적 개념\n",
    "# 랜덤 워크의 성질을 시뮬레이션하는 프로그램 작성\n",
    "import random\n",
    "import turtle\n",
    "t = turtle.Turtle()\n",
    "t.shape(\"turtle\")\n",
    "\n"
   ]
  },
  {
   "cell_type": "code",
   "execution_count": null,
   "metadata": {},
   "outputs": [],
   "source": [
    "# 범인 찾기 게임\n",
    "# 3개의 방 중 한 곳에 숨어버린 범인을 찾아라!\n",
    "# 범인이 숨은 방을 맞추면 100점 추가 후 게임 종류.\n",
    "# 하지만 틀리면 범인은 다른 방에 숨고 10점 감점 후 다시 맞추기\n"
   ]
  },
  {
   "cell_type": "code",
   "execution_count": null,
   "metadata": {},
   "outputs": [],
   "source": [
    "# 몬드리안 터틀\n",
    "# 몬드리안: 현대 추상 미술의 거장, 구성주의 회화의 거장\n",
    "#           순수한 점, 선, 면 색채를 이용하여 그림을 그린 것으로 유명\n",
    "# 터틀그래픽을 이용하여 선과 면을 사용하여 추상화를 그려보세요."
   ]
  },
  {
   "cell_type": "code",
   "execution_count": null,
   "metadata": {},
   "outputs": [],
   "source": [
    "# 모든 약수 구하기\n",
    "# 약수: 어떤 수를 나누어 떨어지게 하는 수를 그 수의 약수라고 함. 나머지를 '0'으로 하는 수\n",
    "# 사용자로부터 어떤 자연수를 입력 받아 약수를 모두 출력하는 프로그램 작성"
   ]
  },
  {
   "cell_type": "code",
   "execution_count": 26,
   "metadata": {},
   "outputs": [
    {
     "name": "stdout",
     "output_type": "stream",
     "text": [
      "정수1 입력: 3\n",
      "정수2 입력: 5\n",
      "두 수는 서로소이다.\n"
     ]
    }
   ],
   "source": [
    "# 최대공약수 구하기\n",
    "# 유클리드 호제법\n",
    "    # x와 y의 최대공약수를 (x, y)라고 나타내기로 함\n",
    "    # a와 b를 자연수라고 하고 a를 b로 나눈 나머지를 r이라고 하면 -> (a,b)=(b,r)\n",
    "# 예: 722와 190의 최대공약수\n",
    "    # 722 / 190 = 3        나머지 152\n",
    "    # 190 / 152 = 1        나머지 38\n",
    "    # 152 / 38 = 4         나머지 0\n",
    "    # 따라서 722와 190의 최대공약수는 나머지가 0이 될 때의 나눈 수인 38입니다.\n",
    "    \n",
    "x = int(input(\"정수1 입력: \"))\n",
    "y = int(input(\"정수2 입력: \"))\n",
    "left = 100 # 초기값 할당 / 0만 아니면 됨\n",
    "\n",
    "if x < y:\n",
    "    x,y = y,x\n",
    "\n",
    "if (x-y) < y:\n",
    "    print(\"두 수는 서로소이다.\")\n",
    "else:\n",
    "    while left != 0:\n",
    "        left = x % y\n",
    "        x = y\n",
    "        y = left\n",
    "    print(\"두 수의 최대공약수:\",x)"
   ]
  },
  {
   "cell_type": "code",
   "execution_count": null,
   "metadata": {},
   "outputs": [],
   "source": [
    "# 별 그리는 터틀"
   ]
  },
  {
   "cell_type": "code",
   "execution_count": 28,
   "metadata": {},
   "outputs": [
    {
     "name": "stdout",
     "output_type": "stream",
     "text": [
      "1부터 100 사이의 숫자를 맞추시오\n",
      "숫자를 입력하시오: 50\n",
      "낮음!\n",
      "숫자를 입력하시오: 60\n",
      "낮음!\n",
      "숫자를 입력하시오: 70\n",
      "낮음!\n",
      "숫자를 입력하시오: 80\n",
      "낮음!\n",
      "숫자를 입력하시오: 90\n",
      "높음!\n",
      "숫자를 입력하시오: 85\n",
      "높음!\n",
      "숫자를 입력하시오: 83\n",
      "축하합니다. 시도횟수= 7\n"
     ]
    }
   ],
   "source": [
    "# 숫자 맞추기 게임\n",
    "# 1에서 100 사이의 숫자를 무작위로 컴퓨터가 추출하면 사용자가 그 숫자를 맞추는 게임\n",
    "\n",
    "import random\n",
    "\n",
    "num = random.randint(1,100)\n",
    "count = 0\n",
    "\n",
    "print(\"1부터 100 사이의 숫자를 맞추시오\")\n",
    "while True:\n",
    "    answer = int(input(\"숫자를 입력하시오: \"))\n",
    "    count += 1\n",
    "    if answer > num:\n",
    "        print(\"높음!\")\n",
    "    elif answer < num:\n",
    "        print(\"낮음!\")\n",
    "    else:\n",
    "        print(\"축하합니다. 시도횟수=\",count)\n",
    "        break"
   ]
  },
  {
   "cell_type": "code",
   "execution_count": null,
   "metadata": {},
   "outputs": [],
   "source": []
  }
 ],
 "metadata": {
  "kernelspec": {
   "display_name": "Python 3",
   "language": "python",
   "name": "python3"
  },
  "language_info": {
   "codemirror_mode": {
    "name": "ipython",
    "version": 3
   },
   "file_extension": ".py",
   "mimetype": "text/x-python",
   "name": "python",
   "nbconvert_exporter": "python",
   "pygments_lexer": "ipython3",
   "version": "3.8.5"
  },
  "vp": {
   "base_numbering": 1,
   "nav_menu": {},
   "number_sections": true,
   "sideBar": true,
   "title_cell": "VisualPython",
   "title_sidebar": "VisualPython",
   "vpPosition": {
    "height": "calc(100% - 180px)",
    "right": "10px",
    "top": "110px",
    "width": "50%"
   },
   "vp_cell": false,
   "vp_section_display": true,
   "vp_window_display": false
  }
 },
 "nbformat": 4,
 "nbformat_minor": 4
}
