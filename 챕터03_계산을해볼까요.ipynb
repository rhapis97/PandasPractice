{
 "cells": [
  {
   "cell_type": "code",
   "execution_count": 1,
   "metadata": {},
   "outputs": [
    {
     "data": {
      "text/plain": [
       "19"
      ]
     },
     "execution_count": 1,
     "metadata": {},
     "output_type": "execute_result"
    }
   ],
   "source": [
    "2+17"
   ]
  },
  {
   "cell_type": "code",
   "execution_count": 2,
   "metadata": {},
   "outputs": [
    {
     "data": {
      "text/plain": [
       "-15"
      ]
     },
     "execution_count": 2,
     "metadata": {},
     "output_type": "execute_result"
    }
   ],
   "source": [
    "2-17"
   ]
  },
  {
   "cell_type": "code",
   "execution_count": 3,
   "metadata": {},
   "outputs": [
    {
     "data": {
      "text/plain": [
       "34"
      ]
     },
     "execution_count": 3,
     "metadata": {},
     "output_type": "execute_result"
    }
   ],
   "source": [
    "2*17"
   ]
  },
  {
   "cell_type": "code",
   "execution_count": 4,
   "metadata": {},
   "outputs": [
    {
     "data": {
      "text/plain": [
       "289"
      ]
     },
     "execution_count": 4,
     "metadata": {},
     "output_type": "execute_result"
    }
   ],
   "source": [
    "17**2"
   ]
  },
  {
   "cell_type": "code",
   "execution_count": 5,
   "metadata": {},
   "outputs": [
    {
     "data": {
      "text/plain": [
       "1280"
      ]
     },
     "execution_count": 5,
     "metadata": {},
     "output_type": "execute_result"
    }
   ],
   "source": [
    "10*2**7"
   ]
  },
  {
   "cell_type": "code",
   "execution_count": 6,
   "metadata": {},
   "outputs": [
    {
     "data": {
      "text/plain": [
       "256"
      ]
     },
     "execution_count": 6,
     "metadata": {},
     "output_type": "execute_result"
    }
   ],
   "source": [
    "2**2**3"
   ]
  },
  {
   "cell_type": "code",
   "execution_count": 7,
   "metadata": {},
   "outputs": [
    {
     "data": {
      "text/plain": [
       "3.4"
      ]
     },
     "execution_count": 7,
     "metadata": {},
     "output_type": "execute_result"
    }
   ],
   "source": [
    "17/5"
   ]
  },
  {
   "cell_type": "code",
   "execution_count": 8,
   "metadata": {},
   "outputs": [
    {
     "data": {
      "text/plain": [
       "3"
      ]
     },
     "execution_count": 8,
     "metadata": {},
     "output_type": "execute_result"
    }
   ],
   "source": [
    "17//5"
   ]
  },
  {
   "cell_type": "code",
   "execution_count": 9,
   "metadata": {},
   "outputs": [
    {
     "name": "stdout",
     "output_type": "stream",
     "text": [
      "나누어지는 수를 입력하시오:17\n",
      "나누는 수를 입력하시오:5\n",
      "나눗셈의 몫 = 3\n",
      "나눗셈의 나머지 = 2\n"
     ]
    }
   ],
   "source": [
    "p = int(input(\"나누어지는 수를 입력하시오:\"))\n",
    "q = int(input(\"나누는 수를 입력하시오:\"))\n",
    "print(\"나눗셈의 몫 =\", p//q)\n",
    "print(\"나눗셈의 나머지 =\", p%q)"
   ]
  },
  {
   "cell_type": "code",
   "execution_count": 10,
   "metadata": {},
   "outputs": [
    {
     "name": "stdout",
     "output_type": "stream",
     "text": [
      "16 분 40 초\n"
     ]
    }
   ],
   "source": [
    "sec = 1000\n",
    "min = sec//60\n",
    "remainder = sec%60\n",
    "remainder = sec%60\n",
    "print(min,'분',remainder,'초')"
   ]
  },
  {
   "cell_type": "code",
   "execution_count": 11,
   "metadata": {},
   "outputs": [
    {
     "name": "stdout",
     "output_type": "stream",
     "text": [
      "100\n",
      "100\n"
     ]
    }
   ],
   "source": [
    "x = y = 100\n",
    "print(x)\n",
    "print(y)"
   ]
  },
  {
   "cell_type": "code",
   "execution_count": 12,
   "metadata": {},
   "outputs": [
    {
     "name": "stdout",
     "output_type": "stream",
     "text": [
      "초깃값 x = 1000\n",
      "x += 2 후의 x = 1002\n",
      "x -= 2 후의 x = 1000\n"
     ]
    }
   ],
   "source": [
    "x = 1000\n",
    "print(\"초깃값 x =\", x)\n",
    "x+=2\n",
    "print(\"x += 2 후의 x =\",x)\n",
    "x-=2\n",
    "print(\"x -= 2 후의 x =\",x)"
   ]
  },
  {
   "cell_type": "code",
   "execution_count": 13,
   "metadata": {},
   "outputs": [
    {
     "name": "stdout",
     "output_type": "stream",
     "text": [
      "첫 번째 수:100\n",
      "두 번째 수:90\n",
      "세 번째 수:80\n",
      "평균 = 90.0\n"
     ]
    }
   ],
   "source": [
    "x = int(input(\"첫 번째 수:\"))\n",
    "y = int(input(\"두 번째 수:\"))\n",
    "z = int(input(\"세 번째 수:\"))\n",
    "\n",
    "avg = (x + y + z)/3\n",
    "print(\"평균 =\",avg)"
   ]
  },
  {
   "cell_type": "code",
   "execution_count": 16,
   "metadata": {},
   "outputs": [
    {
     "name": "stdout",
     "output_type": "stream",
     "text": [
      "다항식의 계산 결과: -21\n"
     ]
    }
   ],
   "source": [
    "# x = -1, y = 3일 때, (-y)^3 + 2x^2y의 값을 계산하여 출력\n",
    "x = -1\n",
    "y = 3\n",
    "print(\"다항식의 계산 결과:\",(-y)**3 + 2*(x**2)*y)"
   ]
  },
  {
   "cell_type": "code",
   "execution_count": 17,
   "metadata": {},
   "outputs": [
    {
     "name": "stdout",
     "output_type": "stream",
     "text": [
      "화씨온도: 100\n",
      "섭씨온도: 37.77777777777778\n"
     ]
    }
   ],
   "source": [
    "# 화씨 온도를 입력받아서 섭씨 온도로 바꾸는 프로그램\n",
    "# C = (F-32) * (5/9)\n",
    "\n",
    "facius = int(input(\"화씨온도: \"))\n",
    "print(\"섭씨온도:\",(facius-32)*5/9)"
   ]
  },
  {
   "cell_type": "code",
   "execution_count": 19,
   "metadata": {},
   "outputs": [
    {
     "name": "stdout",
     "output_type": "stream",
     "text": [
      "x1: 0\n",
      "y1: 0\n",
      "x2: 100\n",
      "y2: 100\n",
      "두 점 사이의 거리 = 141.4213562373095\n"
     ]
    }
   ],
   "source": [
    "# 두 점 사이의 거리 구하기\n",
    "# 사용자로부터 두 점의 좌표(x1,y1),(x2,y2)를 입력받아 두 점 사이의 거리를 계산\n",
    "x1 = int(input(\"x1: \"))\n",
    "y1 = int(input(\"y1: \"))\n",
    "x2 = int(input(\"x2: \"))\n",
    "y2 = int(input(\"y2: \"))\n",
    "\n",
    "print(\"두 점 사이의 거리 =\",((x2-x1)**2+(y2-y1)**2)**0.5)"
   ]
  },
  {
   "cell_type": "code",
   "execution_count": 1,
   "metadata": {},
   "outputs": [],
   "source": [
    "# 두 점 사이의 거리 확인하기\n",
    "import turtle\n",
    "t = turtle.Turtle()\n",
    "t.shape(\"turtle\")\n",
    "\n",
    "t.left(45)\n",
    "t.forward(141.4)\n",
    "t.penup()\n",
    "t.goto(0,0)\n",
    "t.right(45)\n",
    "t.pendown()\n",
    "t.forward(100)\n",
    "t.left(90)\n",
    "t.forward(100)"
   ]
  },
  {
   "cell_type": "code",
   "execution_count": 5,
   "metadata": {},
   "outputs": [
    {
     "name": "stdout",
     "output_type": "stream",
     "text": [
      "현재 한국 시간: 9시16분\n"
     ]
    }
   ],
   "source": [
    "# 그리니치 표준시 - 세계시간의 기준점\n",
    "import time\n",
    "\n",
    "fseconds = time.time()\n",
    "total_sec = int(fseconds)      #전체 초를 구합니다.\n",
    "\n",
    "total_min = total_sec // 60    #전체 분을 구합니다.\n",
    "\n",
    "minute = total_min % 60        #현재 분을 계산합니다.\n",
    "\n",
    "total_hour = total_min // 60   #전체 시를 구합니다.\n",
    "\n",
    "hour = total_hour % 24 + 9     #현재 시를 계산 한 후 한국 시간(+9)을 계산합니다.\n",
    "\n",
    "print(\"현재 한국 시간: \" + str(hour) + \"시\"+ str(minute) + \"분\")"
   ]
  },
  {
   "cell_type": "code",
   "execution_count": 4,
   "metadata": {},
   "outputs": [
    {
     "name": "stdout",
     "output_type": "stream",
     "text": [
      "투입한 돈: 10000\n",
      "물건가격: 7800\n",
      "거스름돈: 2200\n",
      "500원 동전의 개수: 4\n",
      "100원 동전의 개수: 2\n"
     ]
    }
   ],
   "source": [
    "# 계산대 프로그램\n",
    "# 물건의 가격과 지불한 금액 입력 -> 거스름돈 알려주는 프로그램\n",
    "# 물건가격과 투입한 돈은 100원 단위 입력, 거스름돈은 500원, 100원짜리로만 거슬러 줌\n",
    "\n",
    "money = int(input(\"투입한 돈: \"))\n",
    "price = int(input(\"물건가격: \"))\n",
    "\n",
    "left_1 = money - price\n",
    "\n",
    "coin_500 = 0\n",
    "coin_100 = 0\n",
    "\n",
    "coin_500 = left_1//500\n",
    "left_2 = left_1-500*coin_500\n",
    "coin_100 = left_2//100\n",
    "\n",
    "print(\"거스름돈:\", left_1)\n",
    "print(\"500원 동전의 개수:\", coin_500)\n",
    "print(\"100원 동전의 개수:\", coin_100)"
   ]
  },
  {
   "cell_type": "code",
   "execution_count": null,
   "metadata": {},
   "outputs": [],
   "source": []
  }
 ],
 "metadata": {
  "kernelspec": {
   "display_name": "Python 3",
   "language": "python",
   "name": "python3"
  },
  "language_info": {
   "codemirror_mode": {
    "name": "ipython",
    "version": 3
   },
   "file_extension": ".py",
   "mimetype": "text/x-python",
   "name": "python",
   "nbconvert_exporter": "python",
   "pygments_lexer": "ipython3",
   "version": "3.8.5"
  },
  "vp": {
   "base_numbering": 1,
   "nav_menu": {},
   "number_sections": true,
   "sideBar": true,
   "title_cell": "VisualPython",
   "title_sidebar": "VisualPython",
   "vpPosition": {
    "height": "calc(100% - 180px)",
    "right": "10px",
    "top": "110px",
    "width": "50%"
   },
   "vp_cell": false,
   "vp_section_display": true,
   "vp_window_display": false
  }
 },
 "nbformat": 4,
 "nbformat_minor": 4
}
