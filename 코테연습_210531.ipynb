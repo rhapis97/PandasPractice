{
 "cells": [
  {
   "cell_type": "code",
   "execution_count": 1,
   "metadata": {},
   "outputs": [],
   "source": [
    "# 문자열 다루기 기본\n",
    "# 문제 설명\n",
    "# 문자열 s의 길이가 4 혹은 6이고, 숫자로만 구성돼있는지 확인해주는 함수, solution을 완성하세요. \n",
    "# 예를 들어 s가 \"a234\"이면 False를 리턴하고 \"1234\"라면 True를 리턴하면 됩니다.\n",
    "\n",
    "# 제한 사항\n",
    "# s는 길이 1 이상, 길이 8 이하인 문자열입니다."
   ]
  },
  {
   "cell_type": "code",
   "execution_count": 24,
   "metadata": {},
   "outputs": [
    {
     "name": "stdout",
     "output_type": "stream",
     "text": [
      "False\n"
     ]
    }
   ],
   "source": [
    "s = 'a234'\n",
    "\n",
    "print((len(s) == 4 or len(s) == 6) and s.isdigit())"
   ]
  },
  {
   "cell_type": "markdown",
   "metadata": {},
   "source": [
    "[ 주어진 문자열이 숫자로 되어있는지 검사하는 함수 ]  \n",
    "isdecimal()  \n",
    "isdigit()  \n",
    "isnumeric()  \n",
    "  \n",
    "3²에서 ²은 특수문자이지만 isdigit() 함수와 isnumeric() 함수로는 True가 반환된다.  \n",
    "다만 isdecimal() 함수로는 False가 반환된다.  \n",
    "  \n",
    "이것은 함수 차이인데 isdigit() 함수는 단일 글자가 '숫자' 모양으로 생겼으면 무조건 True를 반환하는 함수.  \n",
    "즉, 숫자처럼 생긴 '모든 글자'를 숫자로 친다.  \n",
    "  \n",
    "그에 비해 **isdecimal() 함수는 주어진 문자열이 int형으로 변환이 가능한지 알아내는 함수**이기 때문에  \n",
    "특수문자 중 숫자모양을 숫자로 치지않는다.  \n",
    "  \n",
    "isnumeric() 함수는 숫자값 표현에 해당하는 문자열까지 인정한다.  \n",
    "제곱근 및 분수, 거듭제곱 특수문자도 isnumeric() 함수는 True를 반환하는 것을 알 수 있다.  \n",
    "  \n",
    "출처: https://it-neicebee.tistory.com/33 [IT's Portfolio]"
   ]
  },
  {
   "cell_type": "code",
   "execution_count": 25,
   "metadata": {},
   "outputs": [
    {
     "name": "stdout",
     "output_type": "stream",
     "text": [
      "False\n",
      "True\n"
     ]
    }
   ],
   "source": [
    "# 다른 방법(1) - 정규식 이용\n",
    "\n",
    "def alpha_string46(s):\n",
    "    import re\n",
    "    return bool(re.match(\"^(\\d{4}|\\d{6})$\", s))\n",
    "\n",
    "# 아래는 테스트로 출력해 보기 위한 코드입니다.\n",
    "print( alpha_string46(\"a234\") )\n",
    "print( alpha_string46(\"1234\") )\n",
    "\n",
    "# ^와 $는 문자열의 처음과 끝을 의미합니다. \\d는 숫자를 의미하구요, \n",
    "# {4}|{6}은 숫자가 4번 혹은 6번 반복되는 것을 찾는 거구요, \n",
    "# 결과를 bool로 true/false로 리턴하게 하는 코드"
   ]
  },
  {
   "cell_type": "code",
   "execution_count": 26,
   "metadata": {},
   "outputs": [
    {
     "name": "stdout",
     "output_type": "stream",
     "text": [
      "False\n",
      "True\n"
     ]
    }
   ],
   "source": [
    "# 다른 방법(2) - 내가 만든 것과 코드가 비슷하지만 다르게 표현하고 있다.\n",
    "\n",
    "def alpha_string46(s):\n",
    "    return s.isdigit() and len(s) in (4, 6)\n",
    "\n",
    "# 아래는 테스트로 출력해 보기 위한 코드입니다.\n",
    "print( alpha_string46(\"a234\") )\n",
    "print( alpha_string46(\"1234\") )"
   ]
  },
  {
   "cell_type": "code",
   "execution_count": 27,
   "metadata": {},
   "outputs": [
    {
     "name": "stdout",
     "output_type": "stream",
     "text": [
      "False\n",
      "True\n"
     ]
    }
   ],
   "source": [
    "# 다른 방법(3) - try, except를 이용하고 있다.\n",
    "# 정수형으로 만들어지는지 try를 이용해 항상 확인하고, 문자열 길이가 4나 6인 것을 리턴하고 있다.\n",
    "# try문을 통과하지 못하는 경우는 except를 통해 바로 False를 반환한다.\n",
    "\n",
    "def alpha_string46(s):\n",
    "    try:\n",
    "        int(s)\n",
    "    except:\n",
    "        return False\n",
    "    return len(s) == 4 or len(s) == 6 \n",
    "\n",
    "# 아래는 테스트로 출력해 보기 위한 코드입니다.\n",
    "print( alpha_string46(\"a234\") )\n",
    "print( alpha_string46(\"1234\") )"
   ]
  },
  {
   "cell_type": "code",
   "execution_count": 28,
   "metadata": {},
   "outputs": [],
   "source": [
    "# 문자열을 정수로 바꾸기\n",
    "# 문제 설명\n",
    "# 문자열 s를 숫자로 변환한 결과를 반환하는 함수, solution을 완성하세요.\n",
    "\n",
    "# 제한 조건\n",
    "# s의 길이는 1 이상 5이하입니다.\n",
    "# s의 맨앞에는 부호(+, -)가 올 수 있습니다.\n",
    "# s는 부호와 숫자로만 이루어져있습니다.\n",
    "# s는 \"0\"으로 시작하지 않습니다.\n",
    "# 입출력 예\n",
    "# 예를들어 str이 \"1234\"이면 1234를 반환하고, \"-1234\"이면 -1234를 반환하면 됩니다.\n",
    "# str은 부호(+,-)와 숫자로만 구성되어 있고, 잘못된 값이 입력되는 경우는 없습니다."
   ]
  },
  {
   "cell_type": "code",
   "execution_count": 42,
   "metadata": {},
   "outputs": [
    {
     "name": "stdout",
     "output_type": "stream",
     "text": [
      "12345\n"
     ]
    }
   ],
   "source": [
    "s = '+12345'\n",
    "def solution(s):\n",
    "    if s.isdecimal():\n",
    "        return int(s)\n",
    "    else:\n",
    "        if s[0] == '+':\n",
    "            return int(s[1:])\n",
    "        else:\n",
    "            return int(s[1:])*(-1)\n",
    "\n",
    "print(solution(s))"
   ]
  },
  {
   "cell_type": "code",
   "execution_count": 47,
   "metadata": {},
   "outputs": [
    {
     "name": "stdout",
     "output_type": "stream",
     "text": [
      "-1234\n"
     ]
    }
   ],
   "source": [
    "# 다른 방법(1) - int에서 저절로 +, - 기호를 인식한다! - 스스로 어려운 길로 갔음\n",
    "\n",
    "def strToInt(str):\n",
    "    #함수를 완성하세요\n",
    "    a = int(str)\n",
    "    return a\n",
    "\n",
    "\n",
    "# 아래는 테스트로 출력해 보기 위한 코드입니다.\n",
    "print(strToInt(\"-1234\"))"
   ]
  },
  {
   "cell_type": "code",
   "execution_count": 49,
   "metadata": {},
   "outputs": [
    {
     "name": "stdout",
     "output_type": "stream",
     "text": [
      "-1234\n"
     ]
    }
   ],
   "source": [
    "# 다른 방법(2) - 그냥 int 설정\n",
    "strToInt = int\n",
    "print(strToInt(\"-1234\"))"
   ]
  },
  {
   "cell_type": "code",
   "execution_count": 50,
   "metadata": {},
   "outputs": [],
   "source": [
    "# 서울에서 김서방 찾기\n",
    "# 문제 설명\n",
    "# String형 배열 seoul의 element중 \"Kim\"의 위치 x를 찾아, \"김서방은 x에 있다\"는 String을 반환하는 함수, solution을 완성하세요.\n",
    "# seoul에 \"Kim\"은 오직 한 번만 나타나며 잘못된 값이 입력되는 경우는 없습니다.\n",
    "\n",
    "# 제한 사항\n",
    "# seoul은 길이 1 이상, 1000 이하인 배열입니다.\n",
    "# seoul의 원소는 길이 1 이상, 20 이하인 문자열입니다.\n",
    "# \"Kim\"은 반드시 seoul 안에 포함되어 있습니다."
   ]
  },
  {
   "cell_type": "code",
   "execution_count": 54,
   "metadata": {},
   "outputs": [
    {
     "name": "stdout",
     "output_type": "stream",
     "text": [
      "김서방은 1에 있다\n"
     ]
    }
   ],
   "source": [
    "# seoul = [\"Jane\", \"Kim\"]\n",
    "# 결과: \"김서방은 1에 있다\"\n",
    "\n",
    "seoul = ['Jane','Kim','Kim']\n",
    "def solution(seoul):\n",
    "    return \"김서방은 %d에 있다\" % seoul.index('Kim')\n",
    "print(solution(seoul))"
   ]
  },
  {
   "cell_type": "code",
   "execution_count": 55,
   "metadata": {},
   "outputs": [],
   "source": [
    "# 문자열 내 p와 y의 개수\n",
    "# 문제 설명\n",
    "# 대문자와 소문자가 섞여있는 문자열 s가 주어집니다. \n",
    "# s에 'p'의 개수와 'y'의 개수를 비교해 같으면 True, 다르면 False를 return 하는 solution를 완성하세요. \n",
    "# 'p', 'y' 모두 하나도 없는 경우는 항상 True를 리턴합니다. 단, 개수를 비교할 때 대문자와 소문자는 구별하지 않습니다.\n",
    "\n",
    "# 예를 들어 s가 \"pPoooyY\"면 true를 return하고 \"Pyy\"라면 false를 return합니다.\n",
    "\n",
    "# 제한사항\n",
    "# 문자열 s의 길이 : 50 이하의 자연수\n",
    "# 문자열 s는 알파벳으로만 이루어져 있습니다."
   ]
  },
  {
   "cell_type": "code",
   "execution_count": 65,
   "metadata": {},
   "outputs": [
    {
     "name": "stdout",
     "output_type": "stream",
     "text": [
      "True\n"
     ]
    }
   ],
   "source": [
    "# \"pPoooyY\"\n",
    "# \"Pyy\"\n",
    "\n",
    "s = \"pPoooyY\"\n",
    "\n",
    "def solution(s):\n",
    "    s = s.lower()\n",
    "    return True if s.count('p') == s.count('y') else False\n",
    "\n",
    "print(solution(s))"
   ]
  },
  {
   "cell_type": "code",
   "execution_count": 66,
   "metadata": {},
   "outputs": [
    {
     "name": "stdout",
     "output_type": "stream",
     "text": [
      "True\n",
      "False\n"
     ]
    }
   ],
   "source": [
    "# 다른 방법(1) - if문 사용하지 않아도 알아서 True, False값 리턴된다.\n",
    "\n",
    "def numPY(s):\n",
    "    # 함수를 완성하세요\n",
    "    return s.lower().count('p') == s.lower().count('y')\n",
    "\n",
    "# 아래는 테스트로 출력해 보기 위한 코드입니다.\n",
    "print( numPY(\"pPoooyY\") )\n",
    "print( numPY(\"Pyy\") )"
   ]
  },
  {
   "cell_type": "code",
   "execution_count": 67,
   "metadata": {},
   "outputs": [],
   "source": [
    "# 문자열 내림차순으로 배치하기\n",
    "# 문제 설명\n",
    "# 문자열 s에 나타나는 문자를 큰것부터 작은 순으로 정렬해 새로운 문자열을 리턴하는 함수, solution을 완성해주세요.\n",
    "# s는 영문 대소문자로만 구성되어 있으며, 대문자는 소문자보다 작은 것으로 간주합니다.\n",
    "\n",
    "# 제한 사항\n",
    "# str은 길이 1 이상인 문자열입니다."
   ]
  },
  {
   "cell_type": "code",
   "execution_count": 93,
   "metadata": {},
   "outputs": [
    {
     "name": "stdout",
     "output_type": "stream",
     "text": [
      "gfedcbZ\n"
     ]
    }
   ],
   "source": [
    "# \"Zbcdefg\" -> \"gfedcbZ\"\n",
    "s = \"Zbcdefg\"\n",
    "\n",
    "def solution(s):\n",
    "    list=[]\n",
    "    for i in s:\n",
    "        list.append(i)\n",
    "    return \"\".join(sorted(list, reverse=True))\n",
    "\n",
    "print(solution(s))"
   ]
  },
  {
   "cell_type": "code",
   "execution_count": 94,
   "metadata": {},
   "outputs": [
    {
     "name": "stdout",
     "output_type": "stream",
     "text": [
      "gfedcbZ\n"
     ]
    }
   ],
   "source": [
    "# 다른 방법(1) - 굳이 리스트에 따로 넣어주지 않아도 sorted와 join이 된다.\n",
    "def solution(s):\n",
    "    return ''.join(sorted(s, reverse=True))\n",
    "print(solution(s))"
   ]
  },
  {
   "cell_type": "code",
   "execution_count": 95,
   "metadata": {},
   "outputs": [],
   "source": [
    "# 나누어 떨어지는 숫자 배열\n",
    "# 문제 설명\n",
    "# array의 각 element 중 divisor로 나누어 떨어지는 값을 오름차순으로 정렬한 배열을 반환하는 함수, solution을 작성해주세요.\n",
    "# divisor로 나누어 떨어지는 element가 하나도 없다면 배열에 -1을 담아 반환하세요.\n",
    "\n",
    "# 제한사항\n",
    "# arr은 자연수를 담은 배열입니다.\n",
    "# 정수 i, j에 대해 i ≠ j 이면 arr[i] ≠ arr[j] 입니다.\n",
    "# divisor는 자연수입니다.\n",
    "# array는 길이 1 이상인 배열입니다."
   ]
  },
  {
   "cell_type": "code",
   "execution_count": 101,
   "metadata": {},
   "outputs": [
    {
     "name": "stdout",
     "output_type": "stream",
     "text": [
      "[-1]\n"
     ]
    }
   ],
   "source": [
    "# [5, 9, 7, 10]  ->  5  ->  [5, 10]\n",
    "# [2, 36, 1, 3]  ->  1  ->  [1, 2, 3, 36]\n",
    "# [3, 2, 6]  ->  10  ->  [-1]\n",
    "\n",
    "arr = [3,2,6]\n",
    "divisor = 10\n",
    "def solution(arr, divisor):\n",
    "    list=[]\n",
    "    for i in arr:\n",
    "        if i%divisor == 0:\n",
    "            list.append(i)\n",
    "    list = sorted(list)\n",
    "    if list == []:\n",
    "        list.append(-1)\n",
    "    return list\n",
    "print(solution(arr, divisor))"
   ]
  },
  {
   "cell_type": "code",
   "execution_count": 166,
   "metadata": {},
   "outputs": [
    {
     "name": "stdout",
     "output_type": "stream",
     "text": [
      "[-1]\n"
     ]
    }
   ],
   "source": [
    "# 다른 풀이(1)\n",
    "\n",
    "arr = [3,2,6]\n",
    "divisor = 10\n",
    "def solution(arr, divisor): return sorted([n for n in arr if n%divisor == 0]) or [-1]\n",
    "print(solution(arr, divisor))"
   ]
  },
  {
   "cell_type": "code",
   "execution_count": 109,
   "metadata": {},
   "outputs": [],
   "source": [
    "# 체육복\n",
    "# 문제 설명\n",
    "# 점심시간에 도둑이 들어, 일부 학생이 체육복을 도난당했습니다. \n",
    "# 다행히 여벌 체육복이 있는 학생이 이들에게 체육복을 빌려주려 합니다. \n",
    "# 학생들의 번호는 체격 순으로 매겨져 있어, 바로 앞번호의 학생이나 바로 뒷번호의 학생에게만 체육복을 빌려줄 수 있습니다. \n",
    "# 예를 들어, 4번 학생은 3번 학생이나 5번 학생에게만 체육복을 빌려줄 수 있습니다. \n",
    "# 체육복이 없으면 수업을 들을 수 없기 때문에 체육복을 적절히 빌려 최대한 많은 학생이 체육수업을 들어야 합니다.\n",
    "\n",
    "# 전체 학생의 수 n, 체육복을 도난당한 학생들의 번호가 담긴 배열 lost, \n",
    "# 여벌의 체육복을 가져온 학생들의 번호가 담긴 배열 reserve가 매개변수로 주어질 때, \n",
    "# 체육수업을 들을 수 있는 학생의 최댓값을 return 하도록 solution 함수를 작성해주세요.\n",
    "\n",
    "# 제한사항\n",
    "# 전체 학생의 수는 2명 이상 30명 이하입니다.\n",
    "# 체육복을 도난당한 학생의 수는 1명 이상 n명 이하이고 중복되는 번호는 없습니다.\n",
    "# 여벌의 체육복을 가져온 학생의 수는 1명 이상 n명 이하이고 중복되는 번호는 없습니다.\n",
    "# 여벌 체육복이 있는 학생만 다른 학생에게 체육복을 빌려줄 수 있습니다.\n",
    "# 여벌 체육복을 가져온 학생이 체육복을 도난당했을 수 있습니다. \n",
    "# 이때 이 학생은 체육복을 하나만 도난당했다고 가정하며, 남은 체육복이 하나이기에 다른 학생에게는 체육복을 빌려줄 수 없습니다.\n",
    "\n",
    "# 예제 #1\n",
    "# 1번 학생이 2번 학생에게 체육복을 빌려주고, \n",
    "# 3번 학생이나 5번 학생이 4번 학생에게 체육복을 빌려주면 학생 5명이 체육수업을 들을 수 있습니다.\n",
    "\n",
    "# 예제 #2\n",
    "# 3번 학생이 2번 학생이나 4번 학생에게 체육복을 빌려주면 학생 4명이 체육수업을 들을 수 있습니다."
   ]
  },
  {
   "cell_type": "code",
   "execution_count": 161,
   "metadata": {},
   "outputs": [
    {
     "data": {
      "text/plain": [
       "2"
      ]
     },
     "execution_count": 161,
     "metadata": {},
     "output_type": "execute_result"
    }
   ],
   "source": [
    "# n=5\n",
    "# lost=[2, 4]\n",
    "# reverse=[1, 3, 5]\n",
    "# 최댓값=5\n",
    "\n",
    "# 5 - [2, 4] - [3] - 4\n",
    "\n",
    "n=3\n",
    "lost=[3]\n",
    "reserve=[1]\n",
    "\n",
    "def solution(n, lost, reserve):\n",
    "    list=[]\n",
    "    for i in range(n):\n",
    "        list.append(1)\n",
    "        if i+1 in lost:\n",
    "            list[i] -= 1\n",
    "        if i+1 in reserve:\n",
    "            list[i] += 1\n",
    "    for i in range(len(list)):\n",
    "        if i == 0 and list[i] == 0:\n",
    "            if list[i+1] == 2:\n",
    "                list[i] = 1\n",
    "                list[i+1] = 1\n",
    "        elif i == len(list)-1 and list[i] == 0:\n",
    "            if list[i-1] == 2:\n",
    "                list[i-1], list[i] = 1,1\n",
    "        elif i != 0 and list[i] == 0:\n",
    "            if list[i-1] == 2:\n",
    "                list[i-1], list[i] = 1,1\n",
    "            elif list[i+1] == 2:\n",
    "                list[i+1], list[i] = 1,1\n",
    "    return len(list)-list.count(0)\n",
    "\n",
    "solution(n, lost, reserve)"
   ]
  },
  {
   "cell_type": "code",
   "execution_count": 163,
   "metadata": {},
   "outputs": [
    {
     "data": {
      "text/plain": [
       "2"
      ]
     },
     "execution_count": 163,
     "metadata": {},
     "output_type": "execute_result"
    }
   ],
   "source": [
    "# 다른 풀이(1) - \n",
    "\n",
    "def solution(n, lost, reserve):\n",
    "    _reserve = [r for r in reserve if r not in lost]\n",
    "    _lost = [l for l in lost if l not in reserve]\n",
    "    for r in _reserve:\n",
    "        f = r - 1\n",
    "        b = r + 1\n",
    "        if f in _lost:\n",
    "            _lost.remove(f)\n",
    "        elif b in _lost:\n",
    "            _lost.remove(b)\n",
    "    return n - len(_lost)\n",
    "solution(n, lost, reserve)"
   ]
  },
  {
   "cell_type": "code",
   "execution_count": 164,
   "metadata": {},
   "outputs": [
    {
     "data": {
      "text/plain": [
       "2"
      ]
     },
     "execution_count": 164,
     "metadata": {},
     "output_type": "execute_result"
    }
   ],
   "source": [
    "def solution(n, lost, reserve):\n",
    "    answer = 0\n",
    "    for i in range(1, n+1):\n",
    "        if i not in lost: #안 잃어버린 학생\n",
    "            answer += 1\n",
    "        else:\n",
    "            if i in reserve: #잃어버렸지만 여분도 있는 학생\n",
    "                answer += 1\n",
    "                reserve.remove(i)\n",
    "                lost.remove(i)\n",
    "\n",
    "    for i in lost: #잃어버리고 여분도 없어서 빌려야 하는 학생\n",
    "        if i-1 in reserve:\n",
    "            answer += 1\n",
    "            reserve.remove(i-1)\n",
    "\n",
    "        elif i+1 in reserve:\n",
    "            answer +=1\n",
    "            reserve.remove(i+1)\n",
    "\n",
    "    return answer\n",
    "solution(n, lost, reserve)"
   ]
  }
 ],
 "metadata": {
  "kernelspec": {
   "display_name": "Python 3",
   "language": "python",
   "name": "python3"
  },
  "language_info": {
   "codemirror_mode": {
    "name": "ipython",
    "version": 3
   },
   "file_extension": ".py",
   "mimetype": "text/x-python",
   "name": "python",
   "nbconvert_exporter": "python",
   "pygments_lexer": "ipython3",
   "version": "3.8.5"
  },
  "vp": {
   "base_numbering": 1,
   "nav_menu": {},
   "number_sections": true,
   "sideBar": true,
   "title_cell": "VisualPython",
   "title_sidebar": "VisualPython",
   "vpPosition": {
    "height": "calc(100% - 180px)",
    "right": "10px",
    "top": "110px",
    "width": "50%"
   },
   "vp_cell": false,
   "vp_section_display": true,
   "vp_window_display": false
  }
 },
 "nbformat": 4,
 "nbformat_minor": 4
}
